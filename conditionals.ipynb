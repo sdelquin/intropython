{
 "cells": [
  {
   "cell_type": "markdown",
   "metadata": {
    "slideshow": {
     "slide_type": "slide"
    }
   },
   "source": [
    "![crossroad](images/conditionals/crossroad.jpg)\n",
    "\n",
    "Photo by [Vladislav Babienko](https://unsplash.com/photos/KTpSVEcU0XU?utm_source=unsplash&utm_medium=referral&utm_content=creditCopyText) on [Unsplash](https://unsplash.com/search/photos/python?utm_source=unsplash&utm_medium=referral&utm_content=creditCopyText)"
   ]
  },
  {
   "cell_type": "markdown",
   "metadata": {
    "slideshow": {
     "slide_type": "slide"
    }
   },
   "source": [
    "# Motivación\n",
    "\n",
    "En la vida diaria hemos de tomar múltiple decisiones. Un programa informático también debe ser capaz de *tomar decisiones* y realizar diferentes acciones según la información disponible. En este apartado aprenderemos cómo."
   ]
  },
  {
   "cell_type": "markdown",
   "metadata": {
    "slideshow": {
     "slide_type": "slide"
    }
   },
   "source": [
    "# Guion\n",
    "\n",
    "1. Bloques de código en python\n",
    "2. Introducción a las sentencias de control condicional\n",
    "3. Indicando condiciones\n",
    "4. Introducción a excepciones"
   ]
  },
  {
   "cell_type": "markdown",
   "metadata": {
    "slideshow": {
     "slide_type": "slide"
    }
   },
   "source": [
    "# Bloques de código en python\n",
    "\n",
    "- Antes de poder tomar una decisión, tenemos que ser capaces de indicar qué acciones se llevarán a cabo en cada caso\n",
    "- En los lenguajes de programación, esto se suele hacer indicando diferentes **bloques de código**, según el resultado de la decisión, se ejecutará un bloque u otro\n",
    "- Además, los bloques pueden determinar el ámbito o alcance de las variables (dónde \"viven\")\n",
    "- En otros lenguajes, cuando un bloque tiene varias líneas se usan delimitadores para indicar dónde empieza un bloque y dónde acaba (`begin`... `end`, `{` ... `}`, etc.)\n",
    "- Normalmente en la mayoría de lenguajes de programación los bloques se **indentan** (sangrado) para que sea más fácil identificarlos. Esto no es estrictamente obligatorio (en muchos lenguajes el programa funciona aunque no se indente). Pero un código sin indentar es prácticamente ilegible, así que no indentar se considera una muy mala práctica de programación\n",
    "- Python ha solucionado estos problemas de forma *inteligente*, los **bloques se especifican simplemente con el indentado**, así no es necesario utilizar delimitadores y, por otro lado, se fuerza a seguir un correcto estilo de programación\n",
    "- En python la recomendación es usar **4 espacios** ([PEP 8](https://realpython.com/python-pep8/#indentation)), aunque también se admiten tabuladores (sin embargo se prefieren los espacios a los tabuladores... ¡¡evita mezclar ambos!!)\n",
    "- La primera sentencia del bloque indica el indentado, un mismo bloque debe tener siempre el mismo indentado. Dos bloques diferentes pueden tener distintos indentados, pero es de buena práctica que bloques al mismo nivel tengan el mismo indentado\n",
    "- Si queremos crear un subloque dentro de un bloque, basta con añadir otros 4 espacios\n",
    "- No puede haber un bloque vacío, si es necesario, podemos usar ``pass`` \n"
   ]
  },
  {
   "cell_type": "markdown",
   "metadata": {
    "slideshow": {
     "slide_type": "slide"
    }
   },
   "source": [
    "![conditionals](images/conditionals/conditionals.png)\n",
    "\n"
   ]
  },
  {
   "cell_type": "markdown",
   "metadata": {
    "slideshow": {
     "slide_type": "slide"
    }
   },
   "source": [
    "# Sentencia condicionales en python\n",
    "\n",
    "- `if`\n",
    "- `elif`\n",
    "- `else`\n",
    "- *Python NO tiene `switch`, común en otros lenguajes*"
   ]
  },
  {
   "cell_type": "markdown",
   "metadata": {
    "slideshow": {
     "slide_type": "slide"
    }
   },
   "source": [
    "## Condiciones (I)\n",
    "\n",
    "### ¿Cómo comparo? Condiciones simples\n",
    "\n",
    "- Igual: `==`\n",
    "- Distinto: `!=`\n",
    "- Mayor estricto: `>`\n",
    "- Mayor o igual: `>=`\n",
    "- Menor estricto: `<`\n",
    "- Menor o igual: `<=`\n",
    "\n",
    "### Ejemplos\n",
    "```python\n",
    "# Si el mensaje es \"Hola\"\n",
    "if mensaje == \"Hola\":\n",
    "    ...\n",
    "\n",
    "# Comprobar que no estemos a nivel del mar\n",
    "if altitud != 0:\n",
    "    ...\n",
    "\n",
    "# Comprobar si el objeto está en movimiento\n",
    "if velocidad > 0:\n",
    "    ...\n",
    "\n",
    "# Comprobar que un número NO es positivo\n",
    "if num <= 0:\n",
    "    ...\n",
    "```\n",
    "**Nota**: para los variables *booleanas*, como el contenido solo puede ser `True` o `False`, se suele preguntar directamente por el valor de la variable, eliminando la comparación porque es redundante. Por ejemplo, si `pagado` es una variable *booleana*, preguntaremos:\n",
    "\n",
    "```python\n",
    "# Comprobar si está pagado:\n",
    "if pagado:         # y no: if pagado == True:\n",
    "    ...\n",
    "    \n",
    "# Comprobar si no está pagado:\n",
    "if not pagado:     # y no: if pagado == False:\n",
    "    ...\n",
    "```"
   ]
  },
  {
   "cell_type": "markdown",
   "metadata": {
    "slideshow": {
     "slide_type": "slide"
    }
   },
   "source": [
    "## 💡 Ejercicios (I)\n",
    "\n",
    "\n",
    "1. Pedir la edad, si es al menos de 18 años, imprimir un mensaje diciendo que es mayor de edad\n",
    "2. En el ejercicio anterior, añadir que si no tiene los 18 años, muestre un mensaje diciendo que es menor de edad\n",
    "3. Dado un número entero, indicar si es par o no\n",
    "4. Dado un número, si no es el 10, mostrar un mensaje indicando que ha fallado. En otro caso, indicar que ha acertado\n",
    "\n",
    "**Nota**: Se puede pedir que se indique un número usando: `numero = input(\"Indique un número\")`"
   ]
  },
  {
   "cell_type": "code",
   "execution_count": null,
   "metadata": {
    "slideshow": {
     "slide_type": "-"
    }
   },
   "outputs": [],
   "source": []
  },
  {
   "cell_type": "markdown",
   "metadata": {
    "slideshow": {
     "slide_type": "slide"
    }
   },
   "source": [
    "## Condiciones (II)\n",
    "\n",
    "### Condiciones compuestas\n",
    "\n",
    "Una condición es algo que se va a evaluar como verdadero (`True`) o falso (`False`), es decir, es un tipo lógico (*booleano*), y por lo tanto acepta los operadores de este tipo, que podremos usar para construir condiciones compuestas:\n",
    "\n",
    "- Negar (**`not`**)\n",
    "- ... y ... (**`and`**)\n",
    "- ... o ... (**`or`**)\n",
    "\n",
    "\n",
    "\n",
    "### Ejemplos\n",
    "\n",
    "```python\n",
    "# Comprobar que un número no sea negativo\n",
    "if not num < 0    # Equivale a num >= 0\n",
    "\n",
    "# Comprobar si un precio está entre 10 y 20 euros (ambos inclusive)\n",
    "if precio >= 10 and precio <= 20:\n",
    "    ...\n",
    "# o también\n",
    "if 10 <= precio <= 20:\n",
    "    ...\n",
    "\n",
    "# Comprobar si he venido en coche o taxi\n",
    "if transporte == 'coche' or transporte == 'taxi' \n",
    "\n",
    "```\n",
    "\n",
    "**Nota**: Podemos indicar un rango, por ejemplo para comprobar que `x` esté en el rango `[a, b)` podemos preguntar `a <= x < b`\n",
    "\n"
   ]
  },
  {
   "cell_type": "markdown",
   "metadata": {
    "slideshow": {
     "slide_type": "slide"
    }
   },
   "source": [
    "## 💡 Ejercicios (II)\n",
    "\n",
    "\n",
    "1. Pedir la edad, si es menor de 18 años, o mayor de 90, mostrar un mensaje diciendo que no puede conducir\n",
    "2. Pedir un número que simboliza la temperatura del agua. Si está entre 0 y 100 (inclusive), indicar que es agua líquida, si es menor que cero iniciar que es hielo, y si es mayor que 100, que es vapor de agua\n"
   ]
  },
  {
   "cell_type": "code",
   "execution_count": null,
   "metadata": {
    "slideshow": {
     "slide_type": "-"
    }
   },
   "outputs": [],
   "source": []
  },
  {
   "cell_type": "markdown",
   "metadata": {
    "slideshow": {
     "slide_type": "slide"
    }
   },
   "source": [
    "## Condiciones (III)\n",
    "\n",
    "### Varias condiciones. [Precedencia](https://docs.python.org/3/reference/expressions.html#operator-precedence)\n",
    "\n",
    "**Precedencia \"simplificada\"**\n",
    "1. Paréntesis: `( )`\n",
    "2. Operaciones: \n",
    " 1. `**`\n",
    " 2. `+x`, `-x`, `~x`\n",
    " 3. `*`, `/`, `//`, `%` \n",
    " 4. `+`, `-`\n",
    " 5. *nivel bit*\n",
    "3. Comparaciones: `<`, `<=`, `>`, `>=`, `==`, `!=`, `is`, `in`, ...\n",
    "4. Operaciones lógicas\n",
    " 1. `not`\n",
    " 2. `and`\n",
    " 3. `or`\n",
    "\n"
   ]
  },
  {
   "cell_type": "markdown",
   "metadata": {
    "slideshow": {
     "slide_type": "slide"
    }
   },
   "source": [
    "## 💡 Ejercicios (III)\n",
    "\n",
    "\n",
    "Supongamos que ahora vamos a dotar a nuestra aplicacion de favoritosde Netflix de un sistema  de recomendaciones que me indique si debería o no ver una serie a partir de mis preferencias. Vamos a usar los datos de `duracion`, `puntuacion` y `visto`, con los siguientes criterios y se pide que este sistema muestre un mensaje de \"Le sugerimos esta serie\" o \"No le recomendamos esta serie\" dependiendo de si se cumplen o no las siguientes condiciones:\n",
    "1. La duración es de entre 30 y 50 minutos,   no la he visto  y la puntuación es mayor que 8,5\n",
    "2. La duración es de entre 30 y 50 minutos  o no la he visto  o la puntuación es mayor que 8,5\n",
    "3. La duración es de entre 30 y 50 minutos, o no la he visto  y la puntuación es mayor que 8,5\n",
    "4. La duración es de entre 30 y 50 minutos  o no la he visto, y la puntuación es mayor que 8,5\n",
    "\n",
    "\n"
   ]
  },
  {
   "cell_type": "code",
   "execution_count": null,
   "metadata": {
    "slideshow": {
     "slide_type": "-"
    }
   },
   "outputs": [],
   "source": []
  },
  {
   "cell_type": "markdown",
   "metadata": {
    "slideshow": {
     "slide_type": "slide"
    }
   },
   "source": [
    "## Otros operadores\n",
    "\n",
    "- Pertenencia: `in`\n",
    "- Identidad: `is`\n",
    "\n",
    "### Ejemplos\n",
    "```python\n",
    "# Comprobar si una palabra o trozo de texto\n",
    "# está contenido en un texto mayor\n",
    "texto = \"Esto es una prueba\"\n",
    "if \"una\" in texto:\n",
    "    ...\n",
    "    \n",
    "# Comprobar si una lista tiene un elemento\n",
    "lista = [1, 3, 5, 7]\n",
    "if 5 in lista:\n",
    "    ...\n",
    "    \n",
    "# Esto es especialmente útil en comprobaciones de varios\n",
    "# elementos, evitando tener que escribir varias condiciones\n",
    "# Por ejemplo, para comprobar que no he venido ni en coche,\n",
    "# ni en taxi, ni en bicicleta, ni en moto\n",
    "if transporte not in ['coche', 'taxi', 'bicicleta', 'moto']:\n",
    "    ...\n",
    "    \n",
    "# Comprobar si una variable x NO está inicializada...\n",
    "if x is None:\n",
    "    ...\n",
    "# ... o sí lo está\n",
    "if x is not None:\n",
    "    ...\n",
    "```\n",
    "\n",
    "Notas: \n",
    "- Con `None` se debe usar `is` o `is not`, nunca la igualdad `==`\n",
    "- Por legibilidad se prefiere `x is not None` en vez de `not x is None`\n",
    "   "
   ]
  },
  {
   "cell_type": "markdown",
   "metadata": {
    "slideshow": {
     "slide_type": "slide"
    }
   },
   "source": [
    "## 💡 Ejercicios\n",
    "\n",
    "\n",
    "1. Comprobar si el título \"La casa de papel\" contiene algún \"de\"  \n",
    "2. Comprobar que el título \"La casa de papel\" no contiene ningún \"los\"  \n",
    "3. Si `a = 4` y `b = 4`, comprobar que `a` es `b`.\n",
    "4. Si `a = None`, comprobar que `a` es `None`"
   ]
  },
  {
   "cell_type": "code",
   "execution_count": null,
   "metadata": {
    "slideshow": {
     "slide_type": "-"
    }
   },
   "outputs": [],
   "source": []
  },
  {
   "cell_type": "markdown",
   "metadata": {
    "slideshow": {
     "slide_type": "slide"
    }
   },
   "source": [
    "## Introducción a las excepciones\n",
    "\n",
    "Cuando estamos programando un algoritmo, son muchas las situaciones que pueden hacerlo fallar y provocar un error, como puede ser errores en operaciones matemáticas (divisiones por cero, raíces cuadradas o logaritmos de números negativos, etc.), errores de tipo (esperamos recibir un número, pero en su lugar tenemos un texto, o viceversa, etc.), errores de índice al recorrer listas, extracción de elementos que no existen, y un largo etcétera. \n",
    "\n",
    "En estos casos el programa produce un error (*[excepción](https://docs.python.org/3/tutorial/errors.html)*) y finaliza la ejecución de forma abrupta. Para evitar esto, tendremos que identificar todas las situaciones que puedan producir error, y añadir las comprobaciones pertinentes para prevenirlos (por ejemplo, en una división comprobar que el dividendo no es cero para evitar una división por cero). Sin embargo, detectar todas las posibles fuentes de error es un proceso engorroso, y en algunas ocasiones casi imposible, ya que un error puede producirse por muchas razones variadas. E incluso aunque fuéramos capaz de detectar todas estas situaciones, añadir el código para controlarlas todas es también un proceso tedioso, que *ensucia* el código original con multitud de condiciones que son ajenas al propio algoritmo. \n",
    "\n",
    "De esta forma, lo ideal sería realizar las operaciones sin tener que preocuparnos si hay o no errores, y si estos aparecen, gestionarlos en otra zona del código específica para tratamiento de errores. Esto es justo lo que obtenemos con los bloques `try` y `except`: el bloque **`try`** nos permite capturar las excepciones que se produzcan en su interior y, en vez de generarse un error, pasarán a ser gestionadas en el bloque **`except`**. Esto nos libera de estar comprobando en cada momento todo lo que puede fallar en una zona del código, y centrarnos en la programación del algoritmo, generando así un código más limpio donde  la gestión de errores esté centralizada en una región determinada, independiente del código principal. Además, en el bloque `except` podemos capturar cualquier excepción, o bien especificar diferentes bloques para excepciones diferentes (por ejemplo, en un bloque gestionamos los errores de divisiones por cero, en otro bloque los de logaritmo de números negativos, etc.).\n",
    "\n",
    "Para acabar con esta introducción, también queremos indicar que además de `try` y `except`, hay otras cláusulas que completan la gestión de excepciones, como `raise`(nos permite lanzar excepciones en el código), `else` del bloque `except` (se ejecuta cuando no hay excepciones) y `finally` (indica un bloque que se ejecuta siempre, haya habida o no excepciones).\n",
    "\n",
    "- `try`\n",
    "- `except`\n",
    "- `else`\n",
    "- `raise`\n",
    "- `finally`\n",
    "\n",
    "**Nota**: No se trata de que tengamos absolutamente todo nuestro código dentro de bloques `try` y `except`, sólo aquellas regiones más susceptibles de generar errores y donde sea más complicado controlar todas las posibles combinaciones que los podrían provocar.\n"
   ]
  },
  {
   "cell_type": "markdown",
   "metadata": {
    "slideshow": {
     "slide_type": "slide"
    }
   },
   "source": [
    "## Ejemplo\n",
    "\n",
    "Imaginemos que estamos haciendo programando una serie de operaciones matemáticas como las siguientes:\n",
    "\n",
    "```python\n",
    "# Fragmento de código que utiliza altura, referencia y alpha como entrada:\n",
    "# ...\n",
    "altura_norm = altura / referencia\n",
    "beta = pow(1 - altura_norm, 1/2)\n",
    "gamma = alpha / beta\n",
    "# ...\n",
    "```\n",
    "\n",
    "Si quisiéramos tener en cuenta todos los posibles errores, tendríamos que hacer:\n",
    "```python\n",
    "\n",
    "# Para cada variable, comprobar que es del tipo correcto\n",
    "if isinstance(altura, float) and isintance(referencia, float) and isinstance(alfa, float):\n",
    "    # Ahora comprobar que la referencia no puede ser 0 (división por cero)\n",
    "    if (referencia != 0):\n",
    "        altura_norm = altura / referencia\n",
    "        # Ahora comprobar que 1 - altura_norm no puede ser negativo (raíz cuadrada)\n",
    "        if (1 - altura_norm >= 0):\n",
    "            beta = pow(1 - altura_norm, 1/2)\n",
    "            # Ahora comprobar que beta no puede ser 0 (división por cero)\n",
    "            if (beta != 0):\n",
    "                gamma = alpha / beta\n",
    "                # ...\n",
    "```\n",
    "Como vemos, el código *real* queda escondido entre tantas comprobaciones. Veamos ahora cómo resolverlo con `try` y `except`:\n",
    "\n",
    "```python\n",
    "try:\n",
    "    altura_norm = altura / referencia\n",
    "    beta = pow(1 - altura_norm, 1/2)\n",
    "    gamma = alpha / beta\n",
    "    \n",
    "except:\n",
    "    # Aquí tratamos todos los errores.\n",
    "    # ...\n",
    "\n",
    "# Nota: Podemos hacer un `except` general para capturar todos los errores, o bien por tipo(s) de errores:\n",
    "except ZeroDivisionError:\n",
    "    # Aquí sólo vamos a tratar los errores de división por cero\n",
    "    # ...\n",
    "        \n",
    "except TypeError:\n",
    "    # Aquí sólo vamos a tratar los errores de tipo\n",
    "    # ...\n",
    "    \n",
    "# O incluso tratar varios tipos en el mismo bloque:\n",
    "except (ZeroDivisionError, TypeError):\n",
    "    # ...\n",
    "```"
   ]
  },
  {
   "cell_type": "markdown",
   "metadata": {
    "slideshow": {
     "slide_type": "slide"
    }
   },
   "source": [
    "## 💡 Ejercicio\n",
    "\n",
    "\n",
    "Hacer un código que solicite dos números e imprima la raíz cuadrada de la división del primero por el segundo. Utilizar `try` y `except` e introducir valores que generen errores (un valor negativo, divisor igual a 0, texto en vez de número, etc.). para ver cómo se comporta el código."
   ]
  },
  {
   "cell_type": "code",
   "execution_count": null,
   "metadata": {},
   "outputs": [],
   "source": []
  }
 ],
 "metadata": {
  "celltoolbar": "Slideshow",
  "kernelspec": {
   "display_name": "Python 3",
   "language": "python",
   "name": "python3"
  },
  "language_info": {
   "codemirror_mode": {
    "name": "ipython",
    "version": 3
   },
   "file_extension": ".py",
   "mimetype": "text/x-python",
   "name": "python",
   "nbconvert_exporter": "python",
   "pygments_lexer": "ipython3",
   "version": "3.7.3"
  }
 },
 "nbformat": 4,
 "nbformat_minor": 2
}
