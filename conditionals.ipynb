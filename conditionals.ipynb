{
 "cells": [
  {
   "cell_type": "markdown",
   "metadata": {
    "slideshow": {
     "slide_type": "slide"
    }
   },
   "source": [
    "![crossroad](images/conditionals/crossroad.jpg)\n",
    "\n",
    "Photo by [Vladislav Babienko](https://unsplash.com/photos/KTpSVEcU0XU?utm_source=unsplash&utm_medium=referral&utm_content=creditCopyText) on [Unsplash](https://unsplash.com/search/photos/python?utm_source=unsplash&utm_medium=referral&utm_content=creditCopyText)"
   ]
  },
  {
   "cell_type": "markdown",
   "metadata": {
    "slideshow": {
     "slide_type": "slide"
    }
   },
   "source": [
    "# Motivación\n",
    "\n",
    "En la vida diaria hemos de tomar múltiple decisiones. Un programa informático también debe ser capaz de *tomar decisiones* y realizar diferentes acciones según la información disponible. En este apartado aprenderemos cómo."
   ]
  },
  {
   "cell_type": "markdown",
   "metadata": {
    "slideshow": {
     "slide_type": "slide"
    }
   },
   "source": [
    "# Guion\n",
    "\n",
    "1. Bloques de código en python\n",
    "2. Introducción a las sentencias de control condicional\n",
    "3. Indicando condiciones\n",
    "4. Introducción a excepciones"
   ]
  },
  {
   "cell_type": "markdown",
   "metadata": {
    "slideshow": {
     "slide_type": "slide"
    }
   },
   "source": [
    "# Bloques de código en python\n",
    "\n",
    "- Antes de poder tomar una decisión, tenemos que ser capaces de indicar qué acciones se llevarán a cabo en cada caso\n",
    "- En los lenguajes de programación, esto se suele hacer indicando diferentes **bloques de código**, según el resultado de la decisión, se ejecutará un bloque u otro\n",
    "- Además, los bloques pueden determinar el ámbito o alcance de las variables (dónde \"viven\")\n",
    "- En otros lenguajes, cuando un bloque tiene varias líneas se usan delimitadores para indicar dónde empieza un bloque y dónde acaba (`begin`... `end`, `{` ... `}`, etc.)\n",
    "- Normalmente en la mayoría de lenguajes de programación los bloques se **indentan** (sangrado) para que sea más fácil identificarlos. Esto no es estrictamente obligatorio (en muchos lenguajes el programa funciona aunque no se indente). Pero un código sin indentar es prácticamente ilegible, así que no indentar se considera una muy mala práctica de programación\n",
    "- Python ha solucionado estos problemas de forma *inteligente*, los **bloques se especifican simplemente con el indentado**, así no es necesario utilizar delimitadores y, por otro lado, se fuerza a seguir un correcto estilo de programación\n",
    "- En python la recomendación es usar **4 espacios** ([PEP 8](https://realpython.com/python-pep8/#indentation)), aunque también se admiten tabuladores (sin embargo se prefieren los espacios a los tabuladores... ¡¡evita mezclar ambos!!)\n",
    "- La primera sentencia del bloque indica el indentado, un mismo bloque debe tener siempre el mismo indentado. Dos bloques diferentes pueden tener distintos indentados, pero es de buena práctica que bloques al mismo nivel tengan el mismo indentado\n",
    "- Si queremos crear un subloque dentro de un bloque, basta con añadir otros 4 espacios\n",
    "- No puede haber un bloque vacío, si es necesario, podemos usar ``pass`` \n"
   ]
  },
  {
   "cell_type": "markdown",
   "metadata": {
    "slideshow": {
     "slide_type": "slide"
    }
   },
   "source": [
    "![conditionals](images/conditionals/conditionals.png)\n",
    "\n"
   ]
  },
  {
   "cell_type": "markdown",
   "metadata": {
    "slideshow": {
     "slide_type": "slide"
    }
   },
   "source": [
    "# Sentencia condicionales en python\n",
    "\n",
    "- `if`\n",
    "- `elif`\n",
    "- `else`\n",
    "- *Python NO tiene `switch`, común en otros lenguajes*"
   ]
  },
  {
   "cell_type": "markdown",
   "metadata": {
    "slideshow": {
     "slide_type": "slide"
    }
   },
   "source": [
    "## Condiciones (I)\n",
    "\n",
    "### ¿Cómo comparo?\n",
    "\n",
    "- Igual: `==`\n",
    "- Distinto: `!=`\n",
    "- Mayor estricto: `>`\n",
    "- Mayor o igual: `>=`\n",
    "- Menor estricto: `<`\n",
    "- Menor o igual: `<=`\n"
   ]
  },
  {
   "cell_type": "markdown",
   "metadata": {
    "slideshow": {
     "slide_type": "slide"
    }
   },
   "source": [
    "## 💡 Ejercicios (I)\n",
    "\n",
    "\n",
    "1. Pedir la edad, si es al menos de 18 años, imprimir un mensaje diciendo que es mayor de edad\n",
    "2. En el ejercicio anterior, añadir que si no tiene los 18 años, muestre un mensaje diciendo que es menor de edad\n",
    "3. Dado un número entero, indicar si es par o no\n",
    "4. Dado un número, si no es el 10, mostrar un mensaje indicando que ha fallado. En otro caso, indicar que ha acertado\n",
    "\n",
    "**Nota**: Se puede pedir que se indique un número usando: `numero = input(\"Indique un número\")`"
   ]
  },
  {
   "cell_type": "code",
   "execution_count": null,
   "metadata": {},
   "outputs": [],
   "source": []
  },
  {
   "cell_type": "markdown",
   "metadata": {
    "slideshow": {
     "slide_type": "slide"
    }
   },
   "source": [
    "## 💡 Ejercicios (II)\n",
    "\n",
    "\n",
    "1. Pedir la edad, si es menor de 18 años, o mayor de 90, mostrar un mensaje diciendo que no puede conducir\n",
    "2. Pedir un número que simboliza la temperatura del agua. Si está entre 0 y 100 (inclusive), indicar que es agua líquida, si es menor que cero iniciar que es hielo, y si es mayor que 100, que es vapor de agua\n"
   ]
  },
  {
   "cell_type": "markdown",
   "metadata": {
    "slideshow": {
     "slide_type": "slide"
    }
   },
   "source": [
    "## Condiciones (II)\n",
    "\n",
    "### Varias condiciones. [Precedencia](https://docs.python.org/3/reference/expressions.html#operator-precedence)\n",
    "\n",
    "**Precedencia \"simplificada\"**\n",
    "1. Paréntesis: `( )`\n",
    "2. Operaciones: \n",
    " 1. `**`\n",
    " 2. `+x`, `-x`, `~x`\n",
    " 3. `*`, `/`, `//`, `%` \n",
    " 4. `+`, `-`\n",
    " 5. *nivel bit*\n",
    "3. Comparaciones: `<`, `<=`, `>`, `>=`, `==`, `!=`, `is`, `in`, ...\n",
    "4. Operaciones lógicas\n",
    " 1. `not`\n",
    " 2. `and`\n",
    " 3. `or`\n",
    "\n"
   ]
  },
  {
   "cell_type": "markdown",
   "metadata": {
    "slideshow": {
     "slide_type": "slide"
    }
   },
   "source": [
    "## Otros operadores\n",
    "\n",
    "- Pertenencia: `in`\n",
    "- Identidad: `is`"
   ]
  },
  {
   "cell_type": "markdown",
   "metadata": {
    "slideshow": {
     "slide_type": "slide"
    }
   },
   "source": [
    "## 💡 Ejercicios\n",
    "\n",
    "\n",
    "1. Comprobar si el título \"La casa de papel\" contiene algún \"de\"  \n",
    "2. Comprobar que el título \"La casa de papel\" no contiene ningún \"los\"  \n",
    "3. Si `a = 4` y `b = 4`, comprobar que `a` es `b`.\n",
    "4. Si `a = None`, comprobar que `a` es `None`"
   ]
  },
  {
   "cell_type": "code",
   "execution_count": 5,
   "metadata": {},
   "outputs": [],
   "source": []
  },
  {
   "cell_type": "markdown",
   "metadata": {
    "slideshow": {
     "slide_type": "slide"
    }
   },
   "source": [
    "## Introducción a las excepciones\n",
    "\n",
    "- `try`\n",
    "- `except`\n",
    "- `else`\n",
    "- `finally`"
   ]
  },
  {
   "cell_type": "markdown",
   "metadata": {
    "slideshow": {
     "slide_type": "slide"
    }
   },
   "source": [
    "## 💡 Ejercicio\n",
    "\n",
    "\n",
    "¿Cómo comprobar que no hay una división por cero?\n",
    "~~~~\n",
    "a = 5\n",
    "b = 0\n",
    "~~~~\n",
    "\n",
    "**Solución 1:**\n",
    "~~~~\n",
    "if b != 0:\n",
    "    result = a/b\n",
    "else:\n",
    "    print(\"ERROR, b no puede ser 0\")\n",
    "~~~~\n",
    "\n",
    "**Solución 2:**\n",
    "~~~~\n",
    "try:\n",
    "    result = a/b\n",
    "except:\n",
    "    print(\"ERROR, b no puede ser 0\")\n",
    "~~~~\n"
   ]
  },
  {
   "cell_type": "code",
   "execution_count": null,
   "metadata": {},
   "outputs": [],
   "source": []
  }
 ],
 "metadata": {
  "celltoolbar": "Slideshow",
  "kernelspec": {
   "display_name": "Python 3",
   "language": "python",
   "name": "python3"
  },
  "language_info": {
   "codemirror_mode": {
    "name": "ipython",
    "version": 3
   },
   "file_extension": ".py",
   "mimetype": "text/x-python",
   "name": "python",
   "nbconvert_exporter": "python",
   "pygments_lexer": "ipython3",
   "version": "3.7.3"
  }
 },
 "nbformat": 4,
 "nbformat_minor": 2
}
