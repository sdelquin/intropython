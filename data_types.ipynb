{
 "cells": [
  {
   "cell_type": "markdown",
   "metadata": {
    "slideshow": {
     "slide_type": "slide"
    }
   },
   "source": [
    "![Lumber](images/data_types/lumber.jpg)\n",
    "\n",
    "Photo by [Matthaeus](https://unsplash.com/photos/GRXAclOGeOQ?utm_source=unsplash&utm_medium=referral&utm_content=creditCopyText) on [Unsplash](https://unsplash.com/search/photos/structure?utm_source=unsplash&utm_medium=referral&utm_content=creditCopyText)"
   ]
  },
  {
   "cell_type": "markdown",
   "metadata": {
    "slideshow": {
     "slide_type": "slide"
    }
   },
   "source": [
    "# Motivación\n",
    "\n",
    "Como otros lenguajes de programación, Python utiliza los **tipos de datos** para indicar con qué tipo de información va a trabajar (números, textos, etc.), lo que condiciona los valores que puede tomar y qué operaciones podremos realizar sobre ellos. En este apartado veremos los tipos de datos simples y también trabajaremos con otros conceptos básicos, como almacenar datos usando **variables**, cómo mostrar su contenido, operaciones aritméticas básicas, tomar decisiones basadas en estos valores, etc."
   ]
  },
  {
   "cell_type": "markdown",
   "metadata": {
    "slideshow": {
     "slide_type": "slide"
    }
   },
   "source": [
    "# Guion\n",
    "\n",
    "1. Introducción a tipo de datos y variables\n",
    "2. Cadenas de texto\n",
    "3. Números (enteros, decimales, complejos...)\n",
    "4. Booleanos"
   ]
  },
  {
   "cell_type": "markdown",
   "metadata": {
    "slideshow": {
     "slide_type": "slide"
    }
   },
   "source": [
    "# ¡Vamos a hacer un ejemplo!\n",
    "\n",
    "### *\"Si me lo dices, lo olvido; si me enseñas, lo recuerdo; si me involucras, aprendo...\"*\n",
    "*Fuente: desde Benjamin Franklin hasta Proverbio chino*"
   ]
  },
  {
   "cell_type": "markdown",
   "metadata": {
    "slideshow": {
     "slide_type": "slide"
    }
   },
   "source": [
    "# Mis favoritos de Netflix: `Netflix_favs`\n",
    "![Netflix_favs](images/common/netflix_favs.jpg)\n"
   ]
  },
  {
   "cell_type": "markdown",
   "metadata": {
    "slideshow": {
     "slide_type": "slide"
    }
   },
   "source": [
    "# ¿Qué información quiero guardar?\n",
    "\n",
    "- Título\n",
    "- Número de capítulos\n",
    "- Duración media de cada capítulo (en minutos)\n",
    "- Puntuación\n",
    "- Si la he visto o no\n"
   ]
  },
  {
   "cell_type": "markdown",
   "metadata": {
    "slideshow": {
     "slide_type": "slide"
    }
   },
   "source": [
    "## Hagamos un ejemplo\n",
    "\n",
    "Escoge una serie y escribe esta información"
   ]
  },
  {
   "cell_type": "code",
   "execution_count": null,
   "metadata": {
    "slideshow": {
     "slide_type": "-"
    }
   },
   "outputs": [],
   "source": []
  },
  {
   "cell_type": "markdown",
   "metadata": {
    "slideshow": {
     "slide_type": "slide"
    }
   },
   "source": [
    "## ¿Cómo guardamos esta información?\n",
    "\n",
    "## *Variables*\n",
    "\n",
    "¿Qué es técnicamente una variable? Es un **espacio** en el sistema de almacenaje (memoria principal de un ordenador) y un **nombre** simbólico (un identificador) que está asociado a dicho espacio. Ese espacio contiene una cantidad de información conocida o desconocida, es decir un **valor**.\n",
    "\n",
    "*Fuente [Wikipedia](https://es.wikipedia.org/wiki/Variable_(programaci%C3%B3n))*"
   ]
  },
  {
   "cell_type": "markdown",
   "metadata": {
    "slideshow": {
     "slide_type": "slide"
    }
   },
   "source": [
    "## Las variables tienen una serie de características...\n",
    "\n",
    "- Los identificadores deben estar formados por **letras** (<sup>ver nota</sup>), **números** y no se admiten espacios (pero podemos usar el carácter subrayado **`_`** para *simular* los espacios). Las variables **no pueden empezar por número**. Por ejemplo, nombres de variales podrían ser `titulo`, `duracion_media`, `edad`, etc.<br /><br /> \n",
    "- Para los nombres de variables usaremos **`snake_case`** [PEP 8](https://www.python.org/dev/peps/pep-0008/#function-and-variable-names) (nombres **en minúsculas** separados por `_` si son varias palabras)<br /><br />\n",
    "- Aunque en este curso utilizaremos indistintamente nombres de variables en español e inglés, se recomienda escribir las variables preferentemente en inglés, esto será especialmente útil si queremos distribuir nuestro código o recibir ayuda de la comunidad.<br /><br />\n",
    "- Cada variable tendrá un **tipo** asociado según el valor que vaya almacenar (número, texto, etc.)<br /><br />\n",
    "- El tipo de la variable limitará los datos que puede almacenar y las operaciones que se pueden llevar a cabo<br /><br />\n",
    "- Recuerda: python es fuertemente tipado y con tipado dinámico (*¿qué significa esto?*)<br /><br />\n",
    "- No todas las combinaciones de letras son válidas, hay **palabras reservadas** dentro del lenguaje: `if`, `for`, ...<br /><br />\n",
    "- Las variables tienen un **alcance** o ámbito (dónde están definidas y las podemos usar). En general se deben evitar las *variables globales* (están activas en todo el programa), siendo preferible usar las *variables locales* (sólo están activas en unas regiones determinadas)<br /><br /> \n",
    "- **IMPORTANTE**: Intenta que el nombre de las variables tenga *sentido* y aporte información. Por ejemplo, si usamos una variable para almacenar el título de una serie, no deberíamos llamar la variable `x`, porque no nos dice nada. Sería más útil llamarla `titulo`, así ya sabemos qué información va a almacenar, y podríamos incluso intuir qué tipo de datos usaremos (por ejemplo, un texto). Aunque parezca increíble, una de las cosas qué más esfuerzo suele costar al programar es elegir un buen nombre para las variables, y es que la legibilidad del código dependerá en gran manera del nombre que usemos para las variables.<br /><br />\n",
    "\n",
    "**NOTA**: En la mayoría de lenguajes para dar nombre a las variables sólo se permiten *caracteres ASCII*, es decir, las letras del alfabeto inglés (por ejemplo, en español no podríamos usar la `ñ`, ni las vocales acentuadas, diéresis, etc.). Sin embargo python, desde la versión 3.0, acepta un gran número de caracteres de varios alfabetos [PEP3131](https://www.python.org/dev/peps/pep-3131/), no sólo latinos (como la `ñ`, las vocales acentuadas, etc.), sino también el griego, cirílico, kanji, etc. Aunque se puedan usar, en general hay muchos detractores de esta posibilidad, puesto que caracteres que para nosotros son fáciles de escribir en nuestros teclados, no están presentes en teclados de otros muchos países o regiones). Por ese motivo, quizá sea buena idea seguir utilizando el sistema *tradicional*.<br /><br />  \n",
    "\n",
    "## Asignando valores a las variables\n",
    "\n",
    "- Para asignar un valor a una variable, usamos el **operador de asignación** $\\Rightarrow$ **`=`** (se recomienda dejar un espacio antes y después del signo igual, salvo en casos especiales que ya mencionaremos). Por ejemplo, `a = 4`<br /><br /> \n",
    "- En muchos lenguajes todas las sentencias deben acabar con un delimitador, normalmente `;` o similar. Esto no es necesario en python, sólo se usa un `;` cuando escribimos dos sentencias en una misma línea, lo cual no es normalmente recomendable.<br /><br />  \n",
    "- En algunos códigos verás que cuando deseamos inicializar dos variables a la vez, podemos usar la siguiente estructura: `a, b = 1, 2` (es equivalente a asignar `a = 1` y luego `b = 2`)\n",
    "\n",
    "## Comentarios\n",
    "- Añade **comentarios** aclaratorios siempre que sea necesario (`#`). Por ejemplo:\n",
    "```python\n",
    "# Esta variable va a almacenar la puntuación de una serie\n",
    "puntuacion = 5\n",
    "```\n",
    "\n",
    "- Para añadir comentarios a un bloque completo de código (varias líneas consecutivas), puedes usar las triples comillas (dobles o simples). Por ejemplo\n",
    "\n",
    "```python\n",
    "''' \n",
    "Todas estas líneas\n",
    "están comentadas.\n",
    "No se tendrán en cuenta\n",
    "al ejecutar \n",
    "'''\n",
    "```\n",
    "\n",
    "\n"
   ]
  },
  {
   "cell_type": "markdown",
   "metadata": {
    "slideshow": {
     "slide_type": "slide"
    }
   },
   "source": [
    "# ¿Con qué tipos de datos podemos trabajar en python?\n",
    "\n",
    "Los tipos básicos son los siguientes (los compuestos los veremos más adelante):\n",
    "- Números: enteros, decimales, complejos\n",
    "- Cadenas de texto\n",
    "- Lógicos (sí o no, verdadero o falso)\n",
    "\n",
    "Hagamos algunos ejemplos..."
   ]
  },
  {
   "cell_type": "markdown",
   "metadata": {
    "slideshow": {
     "slide_type": "slide"
    }
   },
   "source": [
    "## Cadenas de texto o \"*strings*\" (`str`)\n",
    "- `'...'`\n",
    "- `\"...\"`\n",
    "- `'''...'''`\n",
    "- `\"\"\"...\"\"\"`\n",
    "- `\\n`, `\\t`, ..."
   ]
  },
  {
   "cell_type": "markdown",
   "metadata": {
    "slideshow": {
     "slide_type": "slide"
    }
   },
   "source": [
    "### 💡 Ejercicio:\n",
    "Vamos a almacenar el título de las siguientes series:\n",
    "1. `Stranger Things`\n",
    "2. `El proyecto \"Wiliamson\"`\n",
    "3. `Santa Clarita's Diet`\n",
    "4. `Orange's is the \"New\" Black`\n",
    "5. `A Series of \n",
    "  Unfortunate Events`"
   ]
  },
  {
   "cell_type": "code",
   "execution_count": null,
   "metadata": {
    "slideshow": {
     "slide_type": "-"
    }
   },
   "outputs": [],
   "source": []
  },
  {
   "cell_type": "markdown",
   "metadata": {
    "slideshow": {
     "slide_type": "slide"
    }
   },
   "source": [
    "## Números\n",
    "* enteros (`int`)\n",
    "* decimales (`float`)\n",
    "* complejos (`complex`)\n",
    "* binario (`0b`), octales(`0o`), hexadecimales(`0x`)\n",
    "\n",
    "### Ejemplos:\n",
    "```python\n",
    "edad = 25              # int\n",
    "saldo = -52            # int\n",
    "\n",
    "altura = 182.5         # Float (el separador decimal debe ser un punto . )\n",
    "distancia = 23e5       # Float (notación científica)\n",
    "electron = 12e-5       # Float (notación científica)\n",
    "radio1 = .3543         # Float (equivale a 0.3543)\n",
    "radio2 = 2342.         # Float (equivale a 2342.0)\n",
    "\n",
    "complejo = 34 + 5j     # Complex\n",
    "\n",
    "fortuna = 12_500_000   # Python permite usar el _ como separador para una mayor legibilidad (es ignorado)\n",
    "binario = 0b010100     # Número binario\n",
    "octal = 0o35137        # Número octal\n",
    "hexad = 0x3AF32        # Número hexadecimal\n",
    "```"
   ]
  },
  {
   "cell_type": "markdown",
   "metadata": {
    "slideshow": {
     "slide_type": "slide"
    }
   },
   "source": [
    "### 💡 Ejercicio:\n",
    "Para las dos primeras series, vamos a almacenar el número de capítulos, la duración media y la puntuación\n"
   ]
  },
  {
   "cell_type": "code",
   "execution_count": null,
   "metadata": {
    "slideshow": {
     "slide_type": "-"
    }
   },
   "outputs": [],
   "source": [
    "a = 34e-5"
   ]
  },
  {
   "cell_type": "markdown",
   "metadata": {
    "slideshow": {
     "slide_type": "slide"
    }
   },
   "source": [
    "## Lógicos o \"*booleanos*\" (`bool`)\n",
    "`True` y `False`  \n",
    "\n",
    "**NOTA**: deben escribirse exactamente como se indica aquí, la primera en mayúscula y las demás en minúsculas\n",
    "\n",
    "### Ejemplos\n",
    "```python\n",
    "libre = False\n",
    "terminado = True\n",
    "```\n"
   ]
  },
  {
   "cell_type": "markdown",
   "metadata": {
    "slideshow": {
     "slide_type": "slide"
    }
   },
   "source": [
    "### 💡 Ejercicio:\n",
    "Indica qué series has visto y cuáles no\n"
   ]
  },
  {
   "cell_type": "code",
   "execution_count": null,
   "metadata": {
    "slideshow": {
     "slide_type": "-"
    }
   },
   "outputs": [],
   "source": []
  },
  {
   "cell_type": "markdown",
   "metadata": {
    "slideshow": {
     "slide_type": "slide"
    }
   },
   "source": [
    "## ¿Cómo veo el tipo de una variable?\n",
    "## ¿Cómo muestro el valor de una variable?"
   ]
  },
  {
   "cell_type": "markdown",
   "metadata": {
    "slideshow": {
     "slide_type": "slide"
    }
   },
   "source": [
    "### 💡 Ejercicio:\n",
    "\n",
    "Vamos a mostrar el tipo y valor de algunas variables, para ello utilizaremos las siguientes funciones:\n",
    "- `type(var)`\n",
    "- `print(var)`\n",
    "\n",
    "Además, podemos saber qué métodos (y atributos) podemos aplicar a una variable, o bien obtener ayuda sobre un método en particular usando:\n",
    "- `dir(var)`\n",
    "- `help(metodo)`"
   ]
  },
  {
   "cell_type": "code",
   "execution_count": null,
   "metadata": {
    "slideshow": {
     "slide_type": "-"
    }
   },
   "outputs": [],
   "source": []
  },
  {
   "cell_type": "markdown",
   "metadata": {
    "slideshow": {
     "slide_type": "slide"
    }
   },
   "source": [
    "## ¿Qué operaciones puedo hacer con las cadenas de texto?\n",
    "\n",
    "- Concatenación: `+`\n",
    "- Repetición:  `*`\n",
    "- Manipulación de cadenas\n",
    " - longitud: `len()`\n",
    " - minúsculas: `.lower()`\n",
    " - mayúsculas: `.upper()`\n",
    " - tipo título: `.title()`\n",
    " - buscar: `.find()`\n",
    " - reemplazar `.replace()`\n",
    " - cortar: `[ini:fin]`\n",
    " - eliminar espacios: `.strip()`\n",
    " - separar: `.split()`\n",
    " - unir: `.join()`\n",
    " - [y un largo etc.](https://www.w3schools.com/python/python_ref_string.asp)\n"
   ]
  },
  {
   "cell_type": "markdown",
   "metadata": {
    "slideshow": {
     "slide_type": "slide"
    }
   },
   "source": [
    "### 💡 Ejercicios:\n",
    "1. Muestra el resultado de concatenar el primer título con el segundo\n",
    "2. Muestra el resultado de repetir el primer título dos veces y concatenarlo con el segundo\n",
    "3. Muestra la longitud del primer título\n",
    "4. Muestra el primer título en mayúsculas y el segundo en minúsculas\n",
    "5. Busca alguna palabra en el primer título\n",
    "6. Muestra el título \"   Black Mirror  \" sin espacios al principio ni al final\n",
    "6. Recorta el primer título e imprime del 5 al 10\n"
   ]
  },
  {
   "cell_type": "code",
   "execution_count": null,
   "metadata": {
    "slideshow": {
     "slide_type": "-"
    }
   },
   "outputs": [],
   "source": []
  },
  {
   "cell_type": "markdown",
   "metadata": {
    "slideshow": {
     "slide_type": "slide"
    }
   },
   "source": [
    "## ¿Qué operaciones puedo hacer con números?\n",
    "\n",
    "- Suma: `+`\n",
    "- Resta: `-`\n",
    "- Negativo: `-`\n",
    "- Multiplicación: `*`\n",
    "- Exponente: `**`\n",
    "- División: `/`\n",
    "- División entera: `//`\n",
    "- Resto: `%`\n",
    "- *Operadores a nivel bit* (`^`, `&`, `|`, `~`,`>>`, `<<`)\n",
    "- *Operadores de asignación* (`+=`,`-=`, `*=`, `**=`, `/=`, `//=`,  `%=`, etc.)\n",
    "- Métodos para operar números:\n",
    " - `abs()`, `min()`, `max()`, `sum()`, `pow()`, `round()`, ..."
   ]
  },
  {
   "cell_type": "markdown",
   "metadata": {
    "slideshow": {
     "slide_type": "slide"
    }
   },
   "source": [
    "### 💡 Ejercicios:\n",
    "1. Calcula la media de las puntuaciones de las dos primeras series (prueba con división decimal y entera)\n",
    "2. Calcula la duración total de las dos primeras series\n",
    "3. Usando métodos, ¿cuál es la puntuación más alta? ¿y la más baja? ¿y la suma? ¿cómo se redondea el resultado?\n",
    "4. ¿Qué pasa si dividimos un número por cero?\n"
   ]
  },
  {
   "cell_type": "code",
   "execution_count": null,
   "metadata": {
    "slideshow": {
     "slide_type": "-"
    }
   },
   "outputs": [],
   "source": []
  },
  {
   "cell_type": "markdown",
   "metadata": {
    "slideshow": {
     "slide_type": "slide"
    }
   },
   "source": [
    "## ¿Qué operaciones puedo hacer con los lógicos?\n",
    "\n",
    "- Negar (`not`)\n",
    "- ... y ... (`and`)\n",
    "- ... o ... (`or`)\n"
   ]
  },
  {
   "cell_type": "markdown",
   "metadata": {
    "slideshow": {
     "slide_type": "slide"
    }
   },
   "source": [
    "### 💡 Ejercicios:\n",
    "1. Al principio, no has visto ninguna de las dos primeras series, asigna el valor `False` a las dos\n",
    "2. Tenías un poco de tiempo libre, y has visto una de las series. Cambia el valor de esa serie negando el valor anterior.\n",
    "3. Alguien te pregunta si has visto alguna de estas dos series, ¿qué le responderías?\n",
    "4. Alguien te pregunta si has visto las dos series, ¿qué le responderías?\n"
   ]
  },
  {
   "cell_type": "code",
   "execution_count": null,
   "metadata": {
    "slideshow": {
     "slide_type": "-"
    }
   },
   "outputs": [],
   "source": []
  },
  {
   "cell_type": "markdown",
   "metadata": {
    "slideshow": {
     "slide_type": "slide"
    }
   },
   "source": [
    "## Combinando tipos...\n",
    "\n",
    "- Cambiando el tipo de las variables\n",
    "- Mostrando mensajes con diferentes tipos\n",
    "- Funciones de conversión: `str()`, `int()`, `float()`, `bool()`, etc.\n",
    "- Cómo imprimir variables en un texto (con/sin formateo):\n",
    " - Conversión de tipo y concatenación\n",
    " - Separado por comas\n",
    " - Formateo posicional (sintaxis antigua `%d` y nueva `{} .format()`) \n",
    "  - `f-strings`\n"
   ]
  },
  {
   "cell_type": "code",
   "execution_count": null,
   "metadata": {},
   "outputs": [],
   "source": []
  },
  {
   "cell_type": "markdown",
   "metadata": {
    "slideshow": {
     "slide_type": "slide"
    }
   },
   "source": [
    "### 💡 Ejercicios:\n",
    "1. Tengo dos variables, `a = 4` y `b = \"3\"`, ¿cómo las sumarías?\n",
    "2. Imprime un mensaje en pantalla diciendo: La puntuación de la primera serie es (y el valor)\n",
    "3. Tengo dos variables, `a = 4` y `b = 3.5`. ¿Cómo imprimo un mensaje diciendo: el valor de a es ... y el de b es ...)\n",
    "4. Para el ejercicio anterior, muestra un mensaje diciendo la base de un rectángulo es (valor de a), la altura es (valor de b) y el área es (resultado a\\*b)\n"
   ]
  },
  {
   "cell_type": "code",
   "execution_count": null,
   "metadata": {
    "slideshow": {
     "slide_type": "-"
    }
   },
   "outputs": [],
   "source": []
  },
  {
   "cell_type": "markdown",
   "metadata": {
    "slideshow": {
     "slide_type": "slide"
    }
   },
   "source": [
    "## Mutables vs inmutables\n",
    "Python trabaja con el concepto de **mutable** (se puede cambiar) e **inmutable** (no se puede alterar). Todos los tipos de datos que hemos visto en este apartado (números, textos, booleanos) son *inmutables*. Esto tiene una serie de implicaciones (algunas las iremos viendo a lo largo del curso), pero, en general, podemos obviar estos detalles. Por mostrar un caso concreto, una implicación de que una cadena de texto sea inmutable en python es que no la podemos cambiar, así cuando modificamos una variable que contiene una cadena de texto lo que realmente hacemos es crear una nueva cadena de texto basándonos en lo que contenía anteriormente.\n",
    "\n",
    "Por ejemplo:\n",
    "```python\n",
    "texto = \"Hola\"\n",
    "# texto[0] = \"h\"       # Esto daría un error, no se puede modificar una cadena de texto\n",
    "texto = texto.lower()  # Creamos una nueva cadena de texto modificando la anterior\n",
    "print(texto)\n",
    "```\n",
    "\n",
    "\n",
    "## Algunos \"valores especiales\"\n",
    "\n",
    "- `None`\n",
    "- `float('Nan')`\n",
    "- `float('Inf')`\n",
    "- ...\n",
    "\n",
    "## Constantes en Python\n",
    "\n",
    "- En muchos lenguajes de programación se usan **constantes** (variables a las que una vez se le asigna un valor por primera vez, este no se puede cambiar). Por ejemplo: `PI = 3.14159265359\"\n",
    "- Python no tiene constantes como tal, pero por convención se utilizan variables con nombre en **MAYÚSCULAS** para denotar constantes (no se debe cambiar su valor una vez se le asigna un valor)\n",
    " \n",
    "\n"
   ]
  },
  {
   "cell_type": "code",
   "execution_count": null,
   "metadata": {
    "slideshow": {
     "slide_type": "-"
    }
   },
   "outputs": [],
   "source": []
  }
 ],
 "metadata": {
  "celltoolbar": "Slideshow",
  "kernelspec": {
   "display_name": "Python 3",
   "language": "python",
   "name": "python3"
  },
  "language_info": {
   "codemirror_mode": {
    "name": "ipython",
    "version": 3
   },
   "file_extension": ".py",
   "mimetype": "text/x-python",
   "name": "python",
   "nbconvert_exporter": "python",
   "pygments_lexer": "ipython3",
   "version": "3.7.3"
  }
 },
 "nbformat": 4,
 "nbformat_minor": 2
}
