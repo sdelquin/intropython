{
 "cells": [
  {
   "cell_type": "markdown",
   "metadata": {
    "slideshow": {
     "slide_type": "slide"
    }
   },
   "source": [
    "![Files](images/files/files.jpg)\n",
    "\n",
    "Photo by [Maarten van den Heuvel](https://unsplash.com/photos/8EzNkvLQosk?utm_source=unsplash&utm_medium=referral&utm_content=creditCopyText) on [Unsplash](https://unsplash.com/search/photos/files?utm_source=unsplash&utm_medium=referral&utm_content=creditCopyText)"
   ]
  },
  {
   "cell_type": "markdown",
   "metadata": {
    "slideshow": {
     "slide_type": "subslide"
    }
   },
   "source": [
    "# Motivación\n",
    "\n",
    "La *persistencia de la información* es un elemento clave dentro del desarrollo de software. Si sólo tuviéramos la pospibilidad de trabajar en memoria principal (RAM) perderíamos los datos con los que trabajamos.\n",
    "\n",
    "Es por ello que el manejo de ficheros es una destreza fundamental dentro del aprendizaje de cualquier lenguaje de programación."
   ]
  },
  {
   "cell_type": "markdown",
   "metadata": {
    "slideshow": {
     "slide_type": "subslide"
    }
   },
   "source": [
    "# Guión\n",
    "\n",
    "1. Ficheros de texto\n",
    "2. Lectura de ficheros\n",
    "3. Escritura de ficheros"
   ]
  },
  {
   "cell_type": "markdown",
   "metadata": {
    "slideshow": {
     "slide_type": "slide"
    }
   },
   "source": [
    "# Ficheros de texto\n",
    "---"
   ]
  },
  {
   "cell_type": "markdown",
   "metadata": {
    "slideshow": {
     "slide_type": "subslide"
    }
   },
   "source": [
    "# Formatos de ficheros\n",
    "\n",
    "Existen infinidad de formatos de ficheros en función de cuál sea su finalidad y qué software trabaje sobre él, pero sí podemos establecer una clasificación de los ficheros atendiendo a la forma de almacenamiento de la información:\n",
    "- Ficheros de texto.\n",
    "- Ficheros binarios\n",
    "\n",
    "En esta sección nos vamos a centrar en los **ficheros de texto**, ya que permiten trabajar de manera sencilla mediante el uso de cadenas de texto, tanto para lectura como para escritura.\n",
    "\n",
    "Por citar algunos ejemplos de ficheros de texto (plano): *css, html, xml, yaml, txt, dat, csv, python, c, ruby, etc.*"
   ]
  },
  {
   "cell_type": "markdown",
   "metadata": {
    "slideshow": {
     "slide_type": "slide"
    }
   },
   "source": [
    "# Lectura de ficheros\n",
    "---"
   ]
  },
  {
   "cell_type": "markdown",
   "metadata": {
    "slideshow": {
     "slide_type": "subslide"
    }
   },
   "source": [
    "# Manejador del fichero\n",
    "\n",
    "Cuando abrimos un fichero en cualquier programa debemos *\"localizar\"* ese fichero e indicar su ruta. En ese momento se crea una *referencia* interna al fichero que permitirá posteriormente leer y/o escribir.\n",
    "\n",
    "En Python las cosas funcionan de manera análoga. Cuando abrimos un fichero habrá que indicar su ruta y el modo de apertura. Nos devolverá un **manejador del fichero** que utilizaremos en todas las operaciones posteriores:\n",
    "\n",
    "Vamos a partir de un *fichero csv* publicado en [Kaggle](https://www.kaggle.com/chasewillden/netflix-shows/version/1) que contiene características de 1000 series de Netflix."
   ]
  },
  {
   "cell_type": "code",
   "execution_count": 1,
   "metadata": {
    "scrolled": true,
    "slideshow": {
     "slide_type": "-"
    }
   },
   "outputs": [
    {
     "name": "stdout",
     "output_type": "stream",
     "text": [
      "title,rating,ratingLevel,ratingDescription,release year,user rating score,user rating size\r\n",
      "White Chicks,PG-13,crude and sexual humor language and some drug content,80,2004,82,80\r\n",
      "Lucky Number Slevin,R,strong violence sexual content and adult language,100,2006,NA,82\r\n",
      "Grey's Anatomy,TV-14,Parents strongly cautioned. May be unsuitable for children ages 14 and under.,90,2016,98,80\r\n"
     ]
    }
   ],
   "source": [
    "!head -n 4 resources/files/netflix_shows.csv"
   ]
  },
  {
   "cell_type": "markdown",
   "metadata": {
    "slideshow": {
     "slide_type": "subslide"
    }
   },
   "source": [
    "# Apertura de un fichero"
   ]
  },
  {
   "cell_type": "code",
   "execution_count": 2,
   "metadata": {
    "slideshow": {
     "slide_type": "-"
    }
   },
   "outputs": [],
   "source": [
    "file_path = 'resources/files/netflix_shows.csv'"
   ]
  },
  {
   "cell_type": "markdown",
   "metadata": {
    "slideshow": {
     "slide_type": "-"
    }
   },
   "source": [
    "La función `open` recibe como parámetros la ruta al fichero y el modo de apertura:"
   ]
  },
  {
   "cell_type": "code",
   "execution_count": 3,
   "metadata": {
    "slideshow": {
     "slide_type": "-"
    }
   },
   "outputs": [
    {
     "data": {
      "text/plain": [
       "<_io.TextIOWrapper name='resources/files/netflix_shows.csv' mode='r' encoding='UTF-8'>"
      ]
     },
     "execution_count": 3,
     "metadata": {},
     "output_type": "execute_result"
    }
   ],
   "source": [
    "file_handler = open(file_path, 'r')\n",
    "file_handler"
   ]
  },
  {
   "cell_type": "markdown",
   "metadata": {
    "slideshow": {
     "slide_type": "-"
    }
   },
   "source": [
    "El modo de apertura por defecto de ficheros en Python es *lectura*, con lo cual no es obligatorio pasar `'r'`."
   ]
  },
  {
   "cell_type": "markdown",
   "metadata": {
    "slideshow": {
     "slide_type": "subslide"
    }
   },
   "source": [
    "# Lectura de un fichero\n",
    "\n",
    "Hay distintas formas de leer el contenido de un fichero. En una primera aproximación podemos leer todo el contenido del fichero de una sola vez utilizando el método `read`:"
   ]
  },
  {
   "cell_type": "code",
   "execution_count": 4,
   "metadata": {
    "slideshow": {
     "slide_type": "-"
    }
   },
   "outputs": [
    {
     "data": {
      "text/plain": [
       "\"title,rating,ratingLevel,ratingDescription,release year,user rating score,user rating size\\nWhite Chicks,PG-13,crude and sexual humor language and some drug content,80,2004,82,80\\nLucky Number Slevin,R,strong violence sexual content and adult language,100,2006,NA,82\\nGrey's Anatomy,TV-14,Parents strongly cautioned. May be unsuitable for children ages 14 and under.,90,2016,98,80\\nPrison Break,TV-14,Parents strongly cautioned. May be unsuitable for children ages 14 and under.,90,2008,98,80\\nHow I Met Your Mother,TV-PG,Parental guidance suggested. May not be suitable for all children.,70,2014,94,80\\nSupernatural,TV-14,Parents strongly cautioned. May be unsuitable for children ages 14 and under.,90,2016,95,80\\nBreaking Bad,TV-MA,For mature audiences.  May not be suitable for children 17 and under.,110,2013,97,80\\nThe Vampire Diaries,TV-14,Parents strongly cautioned. May be unsuitable for children ages 14 and under.,90,2017,91,80\\nThe Walking Dead,TV-MA,For mature audiences.  May not be suitable for\""
      ]
     },
     "execution_count": 4,
     "metadata": {},
     "output_type": "execute_result"
    }
   ],
   "source": [
    "file_content = file_handler.read()\n",
    "# mostramos sólo los 1000 primeros caracteres\n",
    "file_content[:1000]"
   ]
  },
  {
   "cell_type": "markdown",
   "metadata": {
    "slideshow": {
     "slide_type": "-"
    }
   },
   "source": [
    "Podemos ver que se trata de una cadena de texto incluyendo todos los caracteres de control (tabulares, saltos de línea, etc.)"
   ]
  },
  {
   "cell_type": "markdown",
   "metadata": {
    "slideshow": {
     "slide_type": "subslide"
    }
   },
   "source": [
    "# Cerrando el fichero\n",
    "\n",
    "Un detalle importante cuando manejamos ficheros es recordar que debemos cerrarlos una vez que hemos terminado su lectura y/o escritura. En caso de no hacerlo podríamos dejar el fichero en un estado indeterminado que puede dar lugar a resultados no deseados:"
   ]
  },
  {
   "cell_type": "code",
   "execution_count": 5,
   "metadata": {
    "slideshow": {
     "slide_type": "-"
    }
   },
   "outputs": [],
   "source": [
    "file_handler.close()"
   ]
  },
  {
   "cell_type": "markdown",
   "metadata": {
    "slideshow": {
     "slide_type": "-"
    }
   },
   "source": [
    "Hecho esto, podríamos abrir de nuevo el fichero y procesarlo como antes:"
   ]
  },
  {
   "cell_type": "code",
   "execution_count": 6,
   "metadata": {
    "slideshow": {
     "slide_type": "-"
    }
   },
   "outputs": [
    {
     "data": {
      "text/plain": [
       "\"title,rating,ratingLevel,ratingDescription,release year,user rating score,user rating size\\nWhite Chicks,PG-13,crude and sexual humor language and some drug content,80,2004,82,80\\nLucky Number Slevin,R,strong violence sexual content and adult language,100,2006,NA,82\\nGrey's Anatomy,TV-14,Parents strongly cautioned. May be unsuitable for children ages 14 and under.,90,2016,98,80\\nPrison Break,TV-14,Parents strongly cautioned. May be unsuitable for children ages 14 and under.,90,2008,98,80\\nHow I Met Y\""
      ]
     },
     "execution_count": 6,
     "metadata": {},
     "output_type": "execute_result"
    }
   ],
   "source": [
    "# modo de lectura por defecto\n",
    "file_handler = open(file_path)\n",
    "file_content = file_handler.read()\n",
    "file_content[:500]"
   ]
  },
  {
   "cell_type": "markdown",
   "metadata": {
    "slideshow": {
     "slide_type": "subslide"
    }
   },
   "source": [
    "# Lectura de un fichero como listas de cadenas de texto\n",
    "\n",
    "Existe la posibilidad de leer un fichero y almacenar el contenido en una lista de cadenas de texto. Para ellos utilizamos el método `readlines`:"
   ]
  },
  {
   "cell_type": "code",
   "execution_count": 7,
   "metadata": {
    "slideshow": {
     "slide_type": "-"
    }
   },
   "outputs": [
    {
     "data": {
      "text/plain": [
       "['title,rating,ratingLevel,ratingDescription,release year,user rating score,user rating size\\n',\n",
       " 'White Chicks,PG-13,crude and sexual humor language and some drug content,80,2004,82,80\\n',\n",
       " 'Lucky Number Slevin,R,strong violence sexual content and adult language,100,2006,NA,82\\n',\n",
       " \"Grey's Anatomy,TV-14,Parents strongly cautioned. May be unsuitable for children ages 14 and under.,90,2016,98,80\\n\",\n",
       " 'Prison Break,TV-14,Parents strongly cautioned. May be unsuitable for children ages 14 and under.,90,2008,98,80\\n']"
      ]
     },
     "execution_count": 7,
     "metadata": {},
     "output_type": "execute_result"
    }
   ],
   "source": [
    "file_handler = open(file_path)\n",
    "file_content = file_handler.readlines()\n",
    "file_handler.close()\n",
    "# mostramos las 5 primeras líneas del fichero\n",
    "file_content[:5]"
   ]
  },
  {
   "cell_type": "markdown",
   "metadata": {
    "slideshow": {
     "slide_type": "-"
    }
   },
   "source": [
    "Se puede ver que cada línea del fichero corresponde con un elemento de la lista. También se leen los caracteres de control."
   ]
  },
  {
   "cell_type": "markdown",
   "metadata": {
    "slideshow": {
     "slide_type": "subslide"
    }
   },
   "source": [
    "# Lectura de un fichero línea a línea\n",
    "\n",
    "Hay otra alternativa para leer un fichero y es recuperar una línea cada vez que accedemos al fichero. A priori esto puede parecer prescindible ya que existe la posibilidad de leer todas las líneas a la vez. Sin embargo hay que pensar en un escenario donde estemos leyendo ficheros *muy grandes* que pueden ocupar una cantidad ingente de memoria principal:"
   ]
  },
  {
   "cell_type": "code",
   "execution_count": 8,
   "metadata": {
    "scrolled": true,
    "slideshow": {
     "slide_type": "-"
    }
   },
   "outputs": [
    {
     "name": "stdout",
     "output_type": "stream",
     "text": [
      "title,rating,ratingLevel,ratingDescription,release year,user rating score,user rating size\n",
      "White Chicks,PG-13,crude and sexual humor language and some drug content,80,2004,82,80\n",
      "Lucky Number Slevin,R,strong violence sexual content and adult language,100,2006,NA,82\n"
     ]
    }
   ],
   "source": [
    "file_handler = open(file_path)\n",
    "# número máximo de líneas a mostrar\n",
    "LINES_LIMIT = 3\n",
    "line_no = 1\n",
    "line = file_handler.readline()\n",
    "while line:\n",
    "    print(line, end='')\n",
    "    line = file_handler.readline()\n",
    "    if line_no >= LINES_LIMIT:\n",
    "        break\n",
    "    line_no += 1\n",
    "file_handler.close()"
   ]
  },
  {
   "cell_type": "markdown",
   "metadata": {
    "slideshow": {
     "slide_type": "subslide"
    }
   },
   "source": [
    "## Estrategia alternativa para leer un fichero línea a línea\n",
    "\n",
    "Si iteramos sobre un manejador de fichero obtendremos una colección con todas las líneas del mismo. Así, podríamos leer el contenido de un fichero línea a línea de la siguiente forma:"
   ]
  },
  {
   "cell_type": "code",
   "execution_count": 9,
   "metadata": {
    "slideshow": {
     "slide_type": "-"
    }
   },
   "outputs": [
    {
     "name": "stdout",
     "output_type": "stream",
     "text": [
      "title,rating,ratingLevel,ratingDescription,release year,user rating score,user rating size\n",
      "White Chicks,PG-13,crude and sexual humor language and some drug content,80,2004,82,80\n",
      "Lucky Number Slevin,R,strong violence sexual content and adult language,100,2006,NA,82\n",
      "Grey's Anatomy,TV-14,Parents strongly cautioned. May be unsuitable for children ages 14 and under.,90,2016,98,80\n",
      "Prison Break,TV-14,Parents strongly cautioned. May be unsuitable for children ages 14 and under.,90,2008,98,80\n"
     ]
    }
   ],
   "source": [
    "file_handler = open(file_path)\n",
    "\n",
    "for i, line in enumerate(file_handler):\n",
    "    # mostrar las 5 primeras líneas\n",
    "    if i >= 5:\n",
    "        break\n",
    "    print(line, end='')\n",
    "\n",
    "file_handler.close()"
   ]
  },
  {
   "cell_type": "markdown",
   "metadata": {
    "slideshow": {
     "slide_type": "subslide"
    }
   },
   "source": [
    "# Uso de contextos en lectura de ficheros\n",
    "\n",
    "Ya hemos visto la necesidad de cerrar un fichero cuando estamos trabajando con él. Python nos ofrece una forma más elegante y sencilla de gestionar estas situaciones y es a través de los [contextos](https://docs.python.org/3/reference/compound_stmts.html#with) (sentencia `with`):"
   ]
  },
  {
   "cell_type": "code",
   "execution_count": 10,
   "metadata": {
    "slideshow": {
     "slide_type": "-"
    }
   },
   "outputs": [],
   "source": [
    "with open(file_path) as file_handler:\n",
    "    file_content = file_handler.readlines()"
   ]
  },
  {
   "cell_type": "markdown",
   "metadata": {
    "slideshow": {
     "slide_type": "-"
    }
   },
   "source": [
    "Con este código conseguimos que Python cierre por nosotros el fichero al salir del contexto. Incluso, si se lanzara alguna excepción (error) dentro del contexto, cerraría el fichero de forma segura para no incurrir en resultados no deseados."
   ]
  },
  {
   "cell_type": "markdown",
   "metadata": {
    "slideshow": {
     "slide_type": "subslide"
    }
   },
   "source": [
    "# Lectura de todas las líneas de un fichero\n",
    "\n",
    "Usando contexto y bucle *for* podemos recorrer fácilmente todas las líneas de un fichero:"
   ]
  },
  {
   "cell_type": "code",
   "execution_count": 11,
   "metadata": {
    "slideshow": {
     "slide_type": "-"
    }
   },
   "outputs": [
    {
     "name": "stdout",
     "output_type": "stream",
     "text": [
      "Altered Carbon\n",
      "Kingdom\n",
      "Élite\n",
      "House of Cards\n",
      "The Last Kingdom\n"
     ]
    }
   ],
   "source": [
    "file_path = 'resources/files/netflix-favs'\n",
    "\n",
    "with open(file_path) as file_handler:\n",
    "    for line in file_handler.readlines():\n",
    "        print(line.strip())"
   ]
  },
  {
   "cell_type": "markdown",
   "metadata": {
    "slideshow": {
     "slide_type": "subslide"
    }
   },
   "source": [
    "## Simplificando la lectura de todas las líneas de un fichero\n",
    "\n",
    "Python nos proporciona un *\"atajo\"* para leer las líneas de un fichero y es utilizar un bucle *for* directamente como si accediéramos a una colección:"
   ]
  },
  {
   "cell_type": "code",
   "execution_count": 12,
   "metadata": {
    "slideshow": {
     "slide_type": "-"
    }
   },
   "outputs": [
    {
     "name": "stdout",
     "output_type": "stream",
     "text": [
      "Altered Carbon\n",
      "Kingdom\n",
      "Élite\n",
      "House of Cards\n",
      "The Last Kingdom\n"
     ]
    }
   ],
   "source": [
    "file_path = 'resources/files/netflix-favs'\n",
    "\n",
    "with open(file_path) as file_handler:\n",
    "    for line in file_handler:    # <--- diferencia\n",
    "        print(line.strip())"
   ]
  },
  {
   "cell_type": "markdown",
   "metadata": {
    "slideshow": {
     "slide_type": "subslide"
    }
   },
   "source": [
    "# Lectura y \"limpieza\" del contenido de un fichero\n",
    "\n",
    "Como ya hemos visto, cuando leemos el contenido de un fichero también leemos los caracteres de control (principalmente saltos de línea). A continuación vamos a ver una forma de leer el contenido del fichero en una lista \"limpiando\" la información:"
   ]
  },
  {
   "cell_type": "code",
   "execution_count": 13,
   "metadata": {
    "slideshow": {
     "slide_type": "-"
    }
   },
   "outputs": [
    {
     "name": "stdout",
     "output_type": "stream",
     "text": [
      "title,rating,ratingLevel,ratingDescription,release year,user rating score,user rating size\n",
      "White Chicks,PG-13,crude and sexual humor language and some drug content,80,2004,82,80\n",
      "Lucky Number Slevin,R,strong violence sexual content and adult language,100,2006,NA,82\n",
      "Grey's Anatomy,TV-14,Parents strongly cautioned. May be unsuitable for children ages 14 and under.,90,2016,98,80\n",
      "Prison Break,TV-14,Parents strongly cautioned. May be unsuitable for children ages 14 and under.,90,2008,98,80\n"
     ]
    }
   ],
   "source": [
    "file_path = 'resources/files/netflix_shows.csv'\n",
    "\n",
    "with open(file_path) as file_handler:\n",
    "    file_content = [line.strip() for line in file_handler]  # lista por comprensión\n",
    "\n",
    "# mostramos las 5 primeras líneas\n",
    "print('\\n'.join(file_content[:5]))"
   ]
  },
  {
   "cell_type": "markdown",
   "metadata": {
    "slideshow": {
     "slide_type": "subslide"
    }
   },
   "source": [
    "# Almacenando el contenido de un fichero de forma estructurada\n",
    "\n",
    "Vamos a utilizar una lista de diccionarios para almacenar el contenido del fichero *csv* que contiene información de las series de Netflix:"
   ]
  },
  {
   "cell_type": "code",
   "execution_count": 14,
   "metadata": {
    "slideshow": {
     "slide_type": "-"
    }
   },
   "outputs": [],
   "source": [
    "netflix_shows = []\n",
    "with open(file_path) as file_handler:\n",
    "    # la primera fila contiene los encabezados = títulos de columnas\n",
    "    line = file_handler.readline()\n",
    "    columns = line.strip().split(',')\n",
    "    for line in file_handler.readlines():\n",
    "        show = {}\n",
    "        values = line.strip().split(',')\n",
    "        for i, value in enumerate(values):\n",
    "            show[columns[i]] = value\n",
    "        netflix_shows.append(show)"
   ]
  },
  {
   "cell_type": "markdown",
   "metadata": {
    "slideshow": {
     "slide_type": "subslide"
    }
   },
   "source": [
    "Mostramos los 3 primeros elementos de la lista:"
   ]
  },
  {
   "cell_type": "code",
   "execution_count": 15,
   "metadata": {
    "scrolled": false,
    "slideshow": {
     "slide_type": "-"
    }
   },
   "outputs": [
    {
     "data": {
      "text/plain": [
       "[{'title': 'White Chicks',\n",
       "  'rating': 'PG-13',\n",
       "  'ratingLevel': 'crude and sexual humor language and some drug content',\n",
       "  'ratingDescription': '80',\n",
       "  'release year': '2004',\n",
       "  'user rating score': '82',\n",
       "  'user rating size': '80'},\n",
       " {'title': 'Lucky Number Slevin',\n",
       "  'rating': 'R',\n",
       "  'ratingLevel': 'strong violence sexual content and adult language',\n",
       "  'ratingDescription': '100',\n",
       "  'release year': '2006',\n",
       "  'user rating score': 'NA',\n",
       "  'user rating size': '82'},\n",
       " {'title': \"Grey's Anatomy\",\n",
       "  'rating': 'TV-14',\n",
       "  'ratingLevel': 'Parents strongly cautioned. May be unsuitable for children ages 14 and under.',\n",
       "  'ratingDescription': '90',\n",
       "  'release year': '2016',\n",
       "  'user rating score': '98',\n",
       "  'user rating size': '80'}]"
      ]
     },
     "execution_count": 15,
     "metadata": {},
     "output_type": "execute_result"
    }
   ],
   "source": [
    "netflix_shows[:3]"
   ]
  },
  {
   "cell_type": "markdown",
   "metadata": {
    "slideshow": {
     "slide_type": "subslide"
    }
   },
   "source": [
    "# 💡 Ejercicio\n",
    "\n",
    "Dado [este fichero que contiene series y años de lanzamiento](resources/my-netflix-favs.csv), lea el contenido del mismo y cree un diccionario llamado `my_netflix_favs` cuyas **claves** sean los **nombres de las series** y los **valores** sean los **años de lanzamiento**."
   ]
  },
  {
   "cell_type": "code",
   "execution_count": null,
   "metadata": {
    "slideshow": {
     "slide_type": "-"
    }
   },
   "outputs": [],
   "source": [
    "# %load \"resources/files/my-netflix-favs.csv\""
   ]
  },
  {
   "cell_type": "code",
   "execution_count": 17,
   "metadata": {
    "slideshow": {
     "slide_type": "skip"
    }
   },
   "outputs": [],
   "source": [
    "# Escriba aquí su solución"
   ]
  },
  {
   "cell_type": "markdown",
   "metadata": {
    "slideshow": {
     "slide_type": "skip"
    }
   },
   "source": [
    "## ⭐️ Solución"
   ]
  },
  {
   "cell_type": "code",
   "execution_count": null,
   "metadata": {
    "slideshow": {
     "slide_type": "skip"
    }
   },
   "outputs": [],
   "source": [
    "# %load \"solutions/files/read_csv.py\""
   ]
  },
  {
   "cell_type": "markdown",
   "metadata": {
    "slideshow": {
     "slide_type": "slide"
    }
   },
   "source": [
    "# Escritura de ficheros\n",
    "---"
   ]
  },
  {
   "cell_type": "markdown",
   "metadata": {
    "slideshow": {
     "slide_type": "subslide"
    }
   },
   "source": [
    "# Modo escritura\n",
    "\n",
    "La única diferencia con lo que hemos visto hasta ahora, es que para abrir un fichero en modo escritura, hay que pasarle el parámetro `'w'` indicando que se trata de modo *write*.\n",
    "\n",
    "Supongamos que tenemos el siguiente *Netflix-favs*:"
   ]
  },
  {
   "cell_type": "code",
   "execution_count": 19,
   "metadata": {
    "slideshow": {
     "slide_type": "-"
    }
   },
   "outputs": [],
   "source": [
    "netflix_favs = ['Altered Carbon', 'Kingdom', 'Élite', 'House of Cards', 'The Last Kingdom']"
   ]
  },
  {
   "cell_type": "markdown",
   "metadata": {
    "slideshow": {
     "slide_type": "-"
    }
   },
   "source": [
    "Queremos guardar nuestras series favoritas en un fichero de texto:"
   ]
  },
  {
   "cell_type": "code",
   "execution_count": 20,
   "metadata": {
    "slideshow": {
     "slide_type": "-"
    }
   },
   "outputs": [],
   "source": [
    "with open('resources/files/netflix-favs', 'w') as file_handler:\n",
    "    for serie in netflix_favs:\n",
    "        file_handler.write(serie + '\\n')"
   ]
  },
  {
   "cell_type": "markdown",
   "metadata": {
    "slideshow": {
     "slide_type": "subslide"
    }
   },
   "source": [
    "## Comprobación de escritura\n",
    "\n",
    "Vamos a comprobar que el fichero se ha creado satisfactoriamente:"
   ]
  },
  {
   "cell_type": "code",
   "execution_count": null,
   "metadata": {
    "slideshow": {
     "slide_type": "-"
    }
   },
   "outputs": [],
   "source": [
    "# %load resources/files/netflix-favs"
   ]
  },
  {
   "cell_type": "markdown",
   "metadata": {
    "slideshow": {
     "slide_type": "subslide"
    }
   },
   "source": [
    "# 💡 Ejercicio\n",
    "\n",
    "Partiendo del fichero `resources/files/netflix_shows.csv` genere otro fichero `resources/files/netflix_shows.min.csv` que contenga filas con nombre de serie y año de lanzamiento separadas por una barra vertical:\n",
    "\n",
    "`<title>|<release year>`\n",
    "\n",
    "**Detalles de implementación**:\n",
    "- Cree una función `read_csv(filepath)` que recibe la ruta al fichero de origen y devuelve un *diccionario* cuyas claves son los nombres de las series y sus valores son los años de lanzamiento.\n",
    "- Cree una función `write_csv(filepath, info)` que recibe la ruta al fichero de destino y el diccionario que ha devuelto la función anterior."
   ]
  },
  {
   "cell_type": "code",
   "execution_count": 22,
   "metadata": {
    "slideshow": {
     "slide_type": "skip"
    }
   },
   "outputs": [],
   "source": [
    "# Escriba aquí su solución"
   ]
  },
  {
   "cell_type": "markdown",
   "metadata": {
    "slideshow": {
     "slide_type": "skip"
    }
   },
   "source": [
    "## ⭐️ Solución"
   ]
  },
  {
   "cell_type": "code",
   "execution_count": null,
   "metadata": {
    "slideshow": {
     "slide_type": "skip"
    }
   },
   "outputs": [],
   "source": [
    "# %load \"solutions/files/file_transfer.py\""
   ]
  }
 ],
 "metadata": {
  "celltoolbar": "Slideshow",
  "kernelspec": {
   "display_name": "Python 3",
   "language": "python",
   "name": "python3"
  },
  "language_info": {
   "codemirror_mode": {
    "name": "ipython",
    "version": 3
   },
   "file_extension": ".py",
   "mimetype": "text/x-python",
   "name": "python",
   "nbconvert_exporter": "python",
   "pygments_lexer": "ipython3",
   "version": "3.7.0"
  }
 },
 "nbformat": 4,
 "nbformat_minor": 2
}
