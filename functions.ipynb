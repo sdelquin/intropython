{
 "cells": [
  {
   "cell_type": "markdown",
   "metadata": {
    "slideshow": {
     "slide_type": "slide"
    }
   },
   "source": [
    "![Canoes](images/functions/canoes.jpg)\n",
    "\n",
    "Photo by [Fernando Bacheschi](https://unsplash.com/photos/LaDJmjzi_gA?utm_source=unsplash&utm_medium=referral&utm_content=creditCopyText) on [Unsplash](https://unsplash.com/search/photos/structure?utm_source=unsplash&utm_medium=referral&utm_content=creditCopyText)"
   ]
  },
  {
   "cell_type": "markdown",
   "metadata": {
    "slideshow": {
     "slide_type": "slide"
    }
   },
   "source": [
    "# Motivación\n",
    "\n",
    "En general en todo programa hay partes del código que es necesario ejecutar varias veces, normalmente con diferentes parámetros. Este código que se repite suele ser un buen candidato a convertirse en una función, de esta forma cada vez que necesitemos ejecutarlo, bastará con invocar a la función, evitando así tener que repetir el mismo código una y otra vez.\n",
    "\n",
    "Por ejemplo, si estamos haciendo un programa que me calcule la distancia óptima a la que debo sentarme para ver mis series favoritas de Netflix según el tamaño del televisor, tengo que tener en cuenta que este tamaño en los televisores se mide en pulgadas (diagonal), mientras que yo quiero saber la distancia a la que me tengo que sentar en metros. De esta forma, es previsible que este programa tenga que hacer varias conversiones de pulgadas a metros y viceversa. Una opción es que cada vez que necesite hacer una conversión, escriba el código necesario para llevarla a cabo, pero entonces tendría que repetir el mismo código varias veces. Una solución mejor es escribir una función que realice esta conversión, y llamar a esta función cada vez que necesite convertir las unidades.\n"
   ]
  },
  {
   "cell_type": "markdown",
   "metadata": {
    "slideshow": {
     "slide_type": "slide"
    }
   },
   "source": [
    "# Guion\n",
    "\n",
    "1. ¿Por qué usar funciones? Ventajas y desventajas\n",
    "2. Definir una función\n",
    "3. Parámetros y argumentos\n",
    "4. Retornando un valor\n",
    "5. Argumentos opcionales, posicionales y por nombre\n",
    "6. Variables locales y globales. Paso de argumentos. Funciones anidadas "
   ]
  },
  {
   "cell_type": "markdown",
   "metadata": {
    "slideshow": {
     "slide_type": "slide"
    }
   },
   "source": [
    "## Ventajas de usar funciones\n",
    "\n",
    "Para definir una función necesitamos:\n",
    "1. Evitar repetir el mismo código (menos código significa menos errores, más fácil de depurar, testear, etc.)\n",
    "2. Código estructurado, modular, etc.\n",
    "3. Código mucho más sencillo y legible\n",
    "4. Posibilidad de re-usar el código, compartirlo, etc.\n",
    "5. Abstracción\n",
    "\n",
    "## Desventajas de usar funciones\n",
    "En general hay muy pocas desventajas al usar las funciones. Evidentemente hay una pequeña pérdida de rendimiento (las funciones *inline* solucionan esto), pero queda de sobra compensado por todas las ventajas\n"
   ]
  },
  {
   "cell_type": "markdown",
   "metadata": {
    "slideshow": {
     "slide_type": "slide"
    }
   },
   "source": [
    "## Definiendo una función\n",
    "\n",
    "Para definir una función necesitamos:\n",
    "1. Para indicar que es una definición, usamos la palabra reservada **`def`**\n",
    "2. El nombre de la función (debe ser un identificador, con las mismas reglas de una variable. Este identificador se usará para luego llamar a la función)\n",
    "3. Entre paréntesis la lista de parámetros o argumentos\n",
    "4. `:` para indicar que empieza el bloque\n",
    "5. El bloque con el contenido de la función\n",
    "\n",
    "> [PEP8](https://www.python.org/dev/peps/pep-0008/#function-and-variable-names): Las reglas para elegir el nombre de las funciones son similares al de las variables. Se deben dejar dos líneas en blanco antes de definir una nueva función\n",
    " \n",
    "- Nota: *función* vs *método*\n"
   ]
  },
  {
   "cell_type": "markdown",
   "metadata": {
    "slideshow": {
     "slide_type": "slide"
    }
   },
   "source": [
    "## Ejemplo\n",
    "\n",
    "Siguiendo con mi aplicación de favoritos de Netflix, estoy rellenando las fichas de varias películas y quiero que al mostrarlas se imprima un separador. Tengo el siguiente código:\n"
   ]
  },
  {
   "cell_type": "code",
   "execution_count": 38,
   "metadata": {},
   "outputs": [
    {
     "name": "stdout",
     "output_type": "stream",
     "text": [
      "Título: Muñeca rusa\n",
      "Número de temporadas: 1\n",
      "Año: 2019\n",
      "-----------------------\n",
      "\n",
      "\n",
      "=======================\n",
      "Título: Stranger Things \n",
      "Número de temporadas: 2\n",
      "Año: 2016\n",
      "-----------------------\n",
      "\n",
      "\n",
      "=======================\n",
      "Título: The Killing\n",
      "Número de temporadas: 4\n",
      "Año: 2011\n",
      "-----------------------\n",
      "\n",
      "\n",
      "=======================\n"
     ]
    }
   ],
   "source": [
    "print(\"Título: Muñeca rusa\")\n",
    "print(\"Número de temporadas: 1\")\n",
    "print(\"Año: 2019\")\n",
    "print(\"-----------------------\")\n",
    "print(\"\\n\")\n",
    "print(\"=======================\")\n",
    "print(\"Título: Stranger Things \")\n",
    "print(\"Número de temporadas: 2\")\n",
    "print(\"Año: 2016\")\n",
    "print(\"-----------------------\")\n",
    "print(\"\\n\")\n",
    "print(\"=======================\")\n",
    "print(\"Título: The Killing\")\n",
    "print(\"Número de temporadas: 4\")\n",
    "print(\"Año: 2011\")\n",
    "print(\"-----------------------\")\n",
    "print(\"\\n\")\n",
    "print(\"=======================\")\n"
   ]
  },
  {
   "cell_type": "markdown",
   "metadata": {
    "slideshow": {
     "slide_type": "slide"
    }
   },
   "source": [
    "Como vemos, estoy repitiendo el código que muestra el separador varias veces\n",
    "```python\n",
    "print(\"-----------------------\")\n",
    "print(\"\\n\")\n",
    "print(\"=======================\")\n",
    "```\n",
    "¿Cómo crearíamos una función para evitar tener que repetir este código?"
   ]
  },
  {
   "cell_type": "code",
   "execution_count": null,
   "metadata": {},
   "outputs": [],
   "source": []
  },
  {
   "cell_type": "markdown",
   "metadata": {
    "slideshow": {
     "slide_type": "slide"
    }
   },
   "source": [
    "## Parámetros y argumentos\n",
    "\n",
    "Si analizamos el ejemplo anterior, realmente seguimos repitiendo código, porque al imprimir la información de cada serie se está ejecutando prácticamente las mismas sentencias. La parte que informa de muestra la etiqueta para indicar si se trata del título, número de temporadas y año es igual para todas las series, sólo cambia el valor específico de ese dato para cada serie.\n",
    "\n",
    "Para lidiar con esta situación, las funciones aceptan parámetros, de modo que cuando llamemos a la función le podamos pasar diferentes valores (argumentos). Por ejemplo, veamos cómo hacer esto para el ejemplo anterior.\n",
    "\n",
    "Nota: *parámetros* vs *argumentos*"
   ]
  },
  {
   "cell_type": "code",
   "execution_count": null,
   "metadata": {},
   "outputs": [],
   "source": []
  },
  {
   "cell_type": "markdown",
   "metadata": {
    "slideshow": {
     "slide_type": "slide"
    }
   },
   "source": [
    "### 💡 Ejercicio\n",
    "\n",
    "Ahora vamos a hacer un \"conversor\" de puntuación numérica a una escala de valoración. Por ejemplo, podemos tomar como referencia la siguiente escala:\n",
    "- puntuación entre 0 y 3 (ambos inclusive): serie muy mala\n",
    "- puntuación entre 3 y 5: serie mala\n",
    "- puntuación mayor o igual que 5 y menor que 7: serie pasable\n",
    "- puntuación mayor o igual que 7 y menor que 9: serie buena\n",
    "- puntuación entre 9 y 10 (ambos inclusive): obra maestra\n",
    "- cualquier otra puntuación: error, la puntuación no es correcta\n",
    "\n",
    "Se pide hacer una función que al pasarle un valor numérico de una puntuación, muestre un mensaje de acuerdo a la escala\n"
   ]
  },
  {
   "cell_type": "code",
   "execution_count": null,
   "metadata": {},
   "outputs": [],
   "source": []
  },
  {
   "cell_type": "markdown",
   "metadata": {
    "slideshow": {
     "slide_type": "slide"
    }
   },
   "source": [
    "## Retornando valores\n",
    "\n",
    "Una de las principales características de las funciones es que se pueden utilizar para realizar cálculos, y devolver un resultado. Para ello se usa la palabra reservada `return`.\n",
    "Para obtener este resultado, basta con asignar la función a la variable en el momento de invocarla. Por ejemplo:\n",
    "\n",
    "```python\n",
    "\n",
    "def suma(x, y):\n",
    "  return x + y\n",
    "  \n",
    "resultado = suma(a, b)\n",
    "```\n"
   ]
  },
  {
   "cell_type": "markdown",
   "metadata": {
    "slideshow": {
     "slide_type": "slide"
    }
   },
   "source": [
    "### 💡 Ejercicio\n",
    "\n",
    "Realizar una función que dada dos puntuaciones, devuelva la media de ambas."
   ]
  },
  {
   "cell_type": "code",
   "execution_count": null,
   "metadata": {},
   "outputs": [],
   "source": []
  },
  {
   "cell_type": "markdown",
   "metadata": {
    "slideshow": {
     "slide_type": "slide"
    }
   },
   "source": [
    "## Argumentos opcionales\n",
    "\n",
    "En algunos casos nos puede interesar no indicar uno o varios de los argumentos, y que la función use un valor por defecto (prefijado) para estos casos, es decir, que el argumento sea **opcional**. \n",
    "\n",
    "Por ejemplo, me puede interesar que por defecto la media de puntuaciones (ver el ejercicio anterior) se redondee al segundo decimal, pero que también tenga la posibilidad de especificar cuántos decimales quiero.\n",
    "\n",
    "Para ello, en la definición de la función podemos asignar un valor por defecto a los argumentos. Por ejemplo, para la función `media()` podría ser:\n",
    "\n",
    "```python\n",
    "def media(x, y, dec=2):\n",
    "  # ...\n",
    "  return resultado\n",
    "\n",
    "\n",
    "res1 = media(a, b)     # Resultado con valor por defecto (2 decimales)\n",
    "res2 = media(a, b, 5)  # Resultado con 5 decimales\n",
    "```\n",
    "\n",
    "> [PEP8](https://www.python.org/dev/peps/pep-0008/#function-and-variable-names): El valor por defecto debe asignarse sin espacios (```a=1```)\n",
    "\n",
    "----\n",
    "Al trabajar con **argumentos posicionales**, hay que tener en cuenta que:\n",
    "- Los argumentos opcionales deben ir al final, después de los obligatorios (sin valor por defecto). Si hay argumentos obligatorios después de los opcionales, se producirá un error.\n",
    "- Si hay varios argumentos opcionales, estos se asignan por orden (**posicional**). Por ejemplo, en la siguiente función:\n",
    "\n",
    "```python\n",
    "def test(a, b, m=1, n=2, o=3, p=4, q=5)   # a y b son obligatorios; m, n, o, p, q son opcionales\n",
    "    # ...\n",
    "    \n",
    "test(1, 2, 3, 4)   # a=1, b=2, m=3, o=4 (el resto de argumentos toman el valor por defecto)\n",
    "```\n",
    "\n",
    "## Argumentos por nombre\n",
    "\n",
    "¿Qué pasa entonces si quiero indicar el argumento `q`, por ejemplo, pero no indicar los otros opcionales? Como la asignación es posicional, no podría...\n",
    "\n",
    "Para solventar este problema, python también permite indicar argumentos por su nombre (*keyword* o *named argument*). En este caso, podría indicarlo de la siguiente manera:\n",
    "\n",
    "```python\n",
    "test(a=1, b=2, q=3)   # a=1, b=2, q=3   (el resto de argumentos toman el valor por defecto)\n",
    "```\n",
    "\n",
    "Se puede especificar los argumentos por nombre ya sean opcionales y obligatorios, y como se indica el nombre, el orden es irrelevante. Por ejemplo, la siguiente llamada a la función tendría el mismo efecto que la anterior:\n",
    "\n",
    "```python\n",
    "test(q=3, b=2, a=1)   # a=1, b=2, q=3   (el resto de argumentos toman el valor por defecto)\n",
    "```\n",
    "\n",
    "Para saber el nombre de los argumentos, se puede usar `help()`\n",
    "\n",
    "```python\n",
    "help(test)\n",
    "\n",
    "Help on function test in module __main__:\n",
    "test(a, b, m=1, n=2, o=3, p=4, q=5)\n",
    "```"
   ]
  },
  {
   "cell_type": "markdown",
   "metadata": {
    "slideshow": {
     "slide_type": "slide"
    }
   },
   "source": [
    "### 💡 Ejercicios\n",
    "\n",
    "1. Cambiar la función `media()` para que acepte el número de decimales\n",
    "2. Pasar los argumentos a la función de forma posicional y por nombre\n",
    "\n",
    "Pista: se puede usar `round(x, n)` para redondear `x` con `n` decimales"
   ]
  },
  {
   "cell_type": "code",
   "execution_count": null,
   "metadata": {},
   "outputs": [],
   "source": []
  },
  {
   "cell_type": "markdown",
   "metadata": {
    "slideshow": {
     "slide_type": "slide"
    }
   },
   "source": [
    "## Variables locales, globales\n",
    "\n",
    "El ámbito de las variables es algo a tener muy en cuenta cuando estamos desarrollando una aplicación. En general, trataremos que las variables estén *vivas* sólo donde se las necesita, es decir, potenciaremos el uso de las variables **locales** frente a las **globales** (estas últimas deberíamos evitarlas siempre que sea posible).\n",
    "\n",
    "Cuando definimos una función, las variables dentro de esa función son locales, es decir, sólo *viven* dentro de esa función, y luego se destruyen cuando la función finaliza. Por este motivo, las variables definidas en una función no son accesibles desde fuera de la misma, aunque una función sí puede acceder a las variables globales. Como hemos indicado, el uso de las variables globales es muy desaconsejado, porque nos puede llevar a equívocos. Veamos el siguiente ejemplo:\n",
    "\n",
    "```python\n",
    "a = 5  # Variable global\n",
    "\n",
    "def func():\n",
    "    # print(f\"Dentro de func antes de asignar, a={a}\")\n",
    "    a = 6\n",
    "    print(f\"Dentro de func después de asignar, a={a}\")\n",
    "\n",
    "print(f\"Antes de llamar a la función, a={a}\")\n",
    "func()\n",
    "print(f\"Después de llamar a la función, a={a}\")\n",
    "```\n",
    "\n",
    "¿Qué ha pasado con el valor de `a`?  ¿Qué pasa si dentro de la función descomento la primera línea? ¿y la segunda?\n",
    "\n",
    "## Paso de argumentos\n",
    "\n",
    "En cuanto al **paso de argumentos**, tradicionalmente otros lenguajes de programación han usado estrategias de *paso por valor* (en la llamada se copia el valor del argumento) o *paso por referencia* (en la llamada se indica la variable que contiene el valor). Esto tiene importantes implicaciones, en el primer método (*valor*), la función recibe una copia del valor, así que si lo modifica, la variable original que estaba fuera de la función no se verá alterada. En el segundo caso, la función recibe una *referencia* a la variable original, así que si esta variable es alterada dentro de la función, este cambio se conservará una vez finalice la llamada. No hay un método mejor que otro, los dos funcionan de forma diferente y depende del uso que queramos hacer para elegir uno u otro. Algunos lenguajes de programación permiten que el programador elija qué método quiere en cada caso, otros lenguajes sólo permiten uno de ellos.\n",
    "\n",
    "¿Cómo implementa python el paso de argumentos? El paso de argumentos en python es un poco más complejo, realmente se pasa una *referencia* al objeto, pero esta referencia se pasa por valor. ¿Qué quiere esto decir? Que si tratamos de cambiar una variable que hayamos pasado como parámetro a una función, realmente lo que estaremos haciendo es definir una nueva variable *local* dentro de la función, y la variable externa no cambiará. Sin embargo, si modificamos una variable dentro de una función sin *cambiar su referencia* (por ejemplo en una lista que es *mutable*), este cambio sí se verá reflejado. Aunque estos conceptos escapan a este curso introductorio, veamos un ejemplo que escenifica esta situación:\n",
    "\n",
    "```python\n",
    "def func(a, x, y, z):\n",
    "    print(f\"Dentro de func antes de asignar, a={a}, x={x}, y={y}, z={z}\")\n",
    "    a += 6\n",
    "    x = [10, 20]\n",
    "    y.append(5)\n",
    "    z[0] = 100\n",
    "    z[1] = 200\n",
    "    print(f\"Dentro de func después de asignar, a={a}, x={x}, y={y}, z={z}\")\n",
    "    \n",
    "\n",
    "# Valores originales\n",
    "a = 5  \n",
    "x = [1, 2]\n",
    "y = [3, 4]\n",
    "z = [5, 6]\n",
    "\n",
    "print(f\"Antes de llamar a la función, a={a}, x={x}, y={y}, z={z}\")\n",
    "func(a, x, y, z)\n",
    "print(f\"Después de llamar a la función, a={a}, x={x}, y={y}, z={z}\")\n",
    "```\n",
    "\n",
    "## Funciones anidadas\n",
    "Python permite definir **funciones anidadas**, es decir, cuando estemos definiendo una función podemos definir otra(s) funcion(es) dentro de ella, y estas funciones anidadas sólo podrán ser usadas por la función que las definió. Por ejemplo:\n",
    "\n",
    "```python\n",
    "\n",
    "def funcion1(): \n",
    "    \n",
    "    def funcion2():\n",
    "        print(\"Ahora estoy en la funcion2 dentro de la funcion1\")\n",
    "        \n",
    "    print(\"Ahora estoy en la funcion1\")\n",
    "    funcion2()   # Llamamos a la funcion2 (solo existe dentro de funcion1\n",
    "    \n",
    "\n",
    "funcion1()\n",
    "```\n",
    "\n",
    "     \n",
    "\n"
   ]
  },
  {
   "cell_type": "code",
   "execution_count": null,
   "metadata": {},
   "outputs": [],
   "source": [
    "\n",
    "\n",
    "\n",
    "\n"
   ]
  },
  {
   "cell_type": "markdown",
   "metadata": {
    "slideshow": {
     "slide_type": "slide"
    }
   },
   "source": [
    "## Para saber más sobre funciones...\n",
    "\n",
    "Python brinda más opciones sobre argumentos y opciones, que no podemos abarcar dado el tiempo disponible y el carácter introductorio de este curso. Si estás interesado, puedes consultar:\n",
    "- Argumentos variables (no se fija el número de argumentos, el usuario puede especificar todos los que quiera y la función los recibe como un vector de argumentos)\n",
    "- Argumentos variables clave-valor (similar al caso anterior, pero se recibe un diccionario con el nombre del argumento y su valor)\n",
    "\n",
    "Por ejemplo:\n",
    "\n",
    "```python\n",
    "def test(oblig1, oblig2, opc1=1, opc2=2, *variables, **var_clave_valor):\n",
    "    # ...\n",
    "```\n",
    "\n",
    "- Funciones *recursivas* (funciones que se llaman a sí mismas)\n",
    "```python\n",
    "def fibonacci(n):  \n",
    "   if n <= 1:  \n",
    "       return n  \n",
    "   else:  \n",
    "       return(fibonacci(n-1) + fibonacci(n-2))  \n",
    "```\n",
    "\n",
    "- También te puede interesar cómo documentar las funciones de forma adecuada (p.ej usando `docstrings` [PEP257](https://www.python.org/dev/peps/pep-0257/)), para luego usar herramientas automáticas de documentación"
   ]
  },
  {
   "cell_type": "markdown",
   "metadata": {
    "slideshow": {
     "slide_type": "slide"
    }
   },
   "source": [
    "### 💡 Ejercicios\n",
    "\n",
    "1. La letra del NIF se calcula dividiendo la parte numérica (8 primeras cifras) por 23. A partir del resto de esta división se asigna una letra según su posición en la siguiente cadena: `'TRWAGMYFPDXBNJZSQVHLCKE'`. Por ejemplo, el DNI 64253469 da como resto 2 al dividir por 23 (tercera posición, ya que empieza por 0), por lo que le corresponde la letra `W`. Implementar una función en python que calcule la letra a partir del número del NIF. <br/><br/>\n",
    " \n",
    "2. Para convertir grados Farenheit (`F`) a Celsius (`C`) se usa la siguiente expresión: `C = (F − 32) * 5/9`. Implementar una función que realice esta conversión (compruebe que 32ºF son 0ºC y que 75.2ºF son 24ºC. <br/><br/>\n",
    " \n",
    "3. En el ejercicio anterior, añadir un argumento opcional booleano de forma que si está a `False` (valor por defecto) devuelve el resultado numérico (p.ej: `24`), mientras que si se indica `True` le añade la unidad `ºC` (p.ej `24ºC`).<br/><br/>\n",
    " \n",
    "4. Genera una lista que contenga el cuadrado de los números pares y el cubo de los impares entre 1 y 100 (inclusive). <br/><br/>\n",
    " \n",
    "5. Escribir un programa que proporcione el desglose en el número mínimo de billetes y monedas de una cantidad entera cualquiera de euros dada. Recuerda que los billetes y monedas de uso legal disponibles hasta 1 euro son de: 500, 200, 100, 50, 20, 10, 5, 2 y 1 euros. Para ello deben solicitar al usuario un número entero, debiendo comprobar que así se lo ofrece y desglosar tal cantidad en el número mínimo de billetes y monedas que el programa escribirá finalmente en pantalla."
   ]
  },
  {
   "cell_type": "code",
   "execution_count": null,
   "metadata": {},
   "outputs": [],
   "source": []
  }
 ],
 "metadata": {
  "celltoolbar": "Slideshow",
  "kernelspec": {
   "display_name": "Python 3",
   "language": "python",
   "name": "python3"
  },
  "language_info": {
   "codemirror_mode": {
    "name": "ipython",
    "version": 3
   },
   "file_extension": ".py",
   "mimetype": "text/x-python",
   "name": "python",
   "nbconvert_exporter": "python",
   "pygments_lexer": "ipython3",
   "version": "3.7.3"
  }
 },
 "nbformat": 4,
 "nbformat_minor": 2
}
