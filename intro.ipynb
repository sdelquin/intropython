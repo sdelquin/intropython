{
 "cells": [
  {
   "cell_type": "markdown",
   "metadata": {
    "slideshow": {
     "slide_type": "slide"
    }
   },
   "source": [
    "![Snake](images/intro/snake.jpg)\n",
    "\n",
    "Photo by [Tyler B](https://unsplash.com/photos/72vLY-QMd3w?utm_source=unsplash&utm_medium=referral&utm_content=creditCopyText) on [Unsplash](https://unsplash.com/search/photos/python?utm_source=unsplash&utm_medium=referral&utm_content=creditCopyText)"
   ]
  },
  {
   "cell_type": "markdown",
   "metadata": {
    "slideshow": {
     "slide_type": "slide"
    }
   },
   "source": [
    "# Objetivos\n",
    "\n",
    "- Introducir el entorno interactivo **Jupyter Notebook** para escribir código y ejecutarlo.\n",
    "- Conocer los **elementos básicos del lenguaje**, las **estructuras de control**, **estructuras de datos**, y **elementos sintácticos** específicos de Python.\n",
    "- Introducir algunas de las **bibliotecas más habituales** del lenguaje.\n",
    "- Realizar **prácticas y ejercicios** sencillos de programación con Python."
   ]
  },
  {
   "cell_type": "markdown",
   "metadata": {
    "slideshow": {
     "slide_type": "slide"
    }
   },
   "source": [
    "# Contenidos\n",
    "\n",
    "0. [Desarrollo del curso](intro.ipynb)\n",
    "1. [Introducción a Python](intro.ipynb)\n",
    "2. [Entorno de desarrollo Jupyter](jupyter.ipynb)\n",
    "3. [Tipos de datos](data_types.ipynb)\n",
    "4. [Estructuras de control condicional](conditionals.ipynb)\n",
    "5. [Estructuras de datos + Estructuras de control iterativas](data_structures.ipynb)\n",
    "7. [Funciones](functions.ipynb)\n",
    "8. [Ficheros](files.ipynb)\n",
    "9. [Programación orientada a objetos](oop.ipynb)\n",
    "10. [Librería estándar](stdlib.ipynb)\n",
    "11. [Librerías de terceros](third_parties.ipynb)\n",
    "12. [Mini-proyecto](mini_project.ipynb)"
   ]
  },
  {
   "cell_type": "markdown",
   "metadata": {
    "slideshow": {
     "slide_type": "slide"
    }
   },
   "source": [
    "# Lugar\n",
    "\n",
    "![Sala de estudio Cajacanarias](images/intro/sala_cajacanarias.jpg)"
   ]
  },
  {
   "cell_type": "markdown",
   "metadata": {
    "slideshow": {
     "slide_type": "slide"
    }
   },
   "source": [
    "# Temporalización del curso\n",
    "\n",
    "- Lunes 1 de abril de 2019.\n",
    "- Jueves 4 de abril de 2019.\n",
    "- Viernes 5 de abril de 2019.\n",
    "- Lunes 8 de abril de 2019.\n",
    "- Jueves 11 de abril de 2019.\n",
    "\n",
    "## Horario\n",
    "\n",
    "De **16:00h a 20:00h** (descanso de 17:50h a 18:10h)"
   ]
  },
  {
   "cell_type": "markdown",
   "metadata": {
    "slideshow": {
     "slide_type": "subslide"
    }
   },
   "source": [
    "# Evaluación\n",
    "\n",
    "La evaluación comprende la asistencia y participación en las sesiones presenciales, así como la realización de uno o varios ejercicios a completar mediante trabajo autónomo.\n",
    "\n",
    "![Evaluación](images/intro/evaluation.png)"
   ]
  },
  {
   "cell_type": "markdown",
   "metadata": {
    "slideshow": {
     "slide_type": "slide"
    }
   },
   "source": [
    "# Ponentes\n",
    "\n",
    "![Ponentes](images/intro/speakers.jpg)"
   ]
  },
  {
   "cell_type": "markdown",
   "metadata": {
    "slideshow": {
     "slide_type": "slide"
    }
   },
   "source": [
    "# Introducción ¿por qué Python?\n",
    "---"
   ]
  },
  {
   "cell_type": "markdown",
   "metadata": {
    "slideshow": {
     "slide_type": "subslide"
    }
   },
   "source": [
    "## Un poco de historia... ¿de dónde viene Python?"
   ]
  },
  {
   "cell_type": "markdown",
   "metadata": {
    "slideshow": {
     "slide_type": "subslide"
    }
   },
   "source": [
    "- Python toma el nombre de los **Monty Python**, un grupo humorista inglés de los años 60\n",
    "- El creador de Python es **Guido van Rossum** (el primer *\"[Dictador Benevolente Vitalicio](https://es.wikipedia.org/wiki/Benevolent_Dictator_for_Life)\"*), un holandés que trabajaba en el Centro para las Matemáticas y la Informática de los Países Bajos\n",
    "- Python fue creado en los años ochenta como sucesor del lenguaje `ABC`, y publicado a principio de los noventa"
   ]
  },
  {
   "cell_type": "markdown",
   "metadata": {
    "slideshow": {
     "slide_type": "subslide"
    }
   },
   "source": [
    "## A día de hoy, ¿python se usa mucho o poco?\n",
    "\n",
    "## ¿Ha sido una buena idea hacer este curso?"
   ]
  },
  {
   "cell_type": "markdown",
   "metadata": {
    "slideshow": {
     "slide_type": "subslide"
    }
   },
   "source": [
    "### ¿Cuántos lenguajes de programación existen? \n",
    "\n",
    "### ¿Decenas, centenas, miles?"
   ]
  },
  {
   "cell_type": "markdown",
   "metadata": {
    "slideshow": {
     "slide_type": "subslide"
    }
   },
   "source": [
    "### ¿Cuántos lenguajes de programación existen? \n",
    "\n",
    "La respuesta es... depende de qué se considere un lenguaje de programación... y a quién preguntes... ;)\n",
    "- [TIOBE](https://www.tiobe.com/tiobe-index/programming-languages-definition/#instances): Más de 250\n",
    "- [Wikipedia](https://en.wikipedia.org/wiki/List_of_programming_languages): Más de 700\n",
    "- [Language List](http://www.info.univ-angers.fr/~gh/hilapr/langlist/langlist.htm): Más de 2500\n",
    "- [Online Historical Encyclopaedia of Programming Languages](http://hopl.info/): 8945  "
   ]
  },
  {
   "cell_type": "markdown",
   "metadata": {
    "slideshow": {
     "slide_type": "subslide"
    }
   },
   "source": [
    "## De acuerdo, hay muchos lenguajes de programación...\n",
    "\n",
    "## pero, ¿python se usa mucho o no?\n",
    "\n",
    "\n",
    "\n",
    "### Tres ejemplos:\n",
    "1. [Índice TIOBE](https://www.tiobe.com/tiobe-index/) de marzo de 2019\n",
    "2. [Encuesta a desarrolladores de StackOverflow](https://insights.stackoverflow.com/survey/2018) de 2018 ([stats](https://stackexchange.com/sites?view=list#questionsperday))\n",
    "3. [Estadísticas del Proyecto Euler](https://projecteuler.net/) de marzo de 2019\n"
   ]
  },
  {
   "cell_type": "markdown",
   "metadata": {
    "slideshow": {
     "slide_type": "subslide"
    }
   },
   "source": [
    "![Encuestas de popularidad](images/intro/prog_survey1b.png)\n",
    "*Fuente: [Índice TIOBE](https://www.tiobe.com/tiobe-index/) de marzo de 2019, [encuesta a desarrolladores de StackOverflow](https://insights.stackoverflow.com/survey/2018) de 2018 y [estadísticas del proyecto Euler](https://projecteuler.net/) de marzo de 2019*\n"
   ]
  },
  {
   "cell_type": "markdown",
   "metadata": {
    "slideshow": {
     "slide_type": "subslide"
    }
   },
   "source": [
    "![Encuestas \"Amado/temido/deseado\"](images/intro/prog_survey2.png)\n",
    "*Fuente: [Encuesta a desarrolladores de StackOverflow](https://insights.stackoverflow.com/survey/2018) de 2018*\n"
   ]
  },
  {
   "cell_type": "markdown",
   "metadata": {
    "slideshow": {
     "slide_type": "subslide"
    }
   },
   "source": [
    "![The Incredible Growth of Python](images/intro/python_growth.png)\n",
    "*Fuente: [The Incredible Growth of Python (StackOverflow)](https://stackoverflow.blog/2017/09/06/incredible-growth-python/?_ga=2.48372070.1915528183.1553819159-552525811.1547434741)*\n"
   ]
  },
  {
   "cell_type": "markdown",
   "metadata": {
    "slideshow": {
     "slide_type": "subslide"
    }
   },
   "source": [
    "## ¿Quién usa python?\n"
   ]
  },
  {
   "cell_type": "markdown",
   "metadata": {
    "slideshow": {
     "slide_type": "subslide"
    }
   },
   "source": [
    "## ¿Quién usa python?\n",
    "\n",
    "- Google\n",
    "- Facebook\n",
    "- Instagram\n",
    "- Spotify\n",
    "- Netflix\n",
    "- Dropbox\n",
    "- PayPal\n",
    "- Amazon\n",
    "- YouTube\n",
    "- IBM\n",
    "- Uber\n",
    "- Quora\n",
    "- Prezi\n",
    "- NASA\n",
    "- CIA\n",
    "- ULL, IAC, ..."
   ]
  },
  {
   "cell_type": "markdown",
   "metadata": {
    "slideshow": {
     "slide_type": "subslide"
    }
   },
   "source": [
    "## ¿Cuál son las características (~ventajas) de Python?\n",
    "\n",
    "\n",
    "- Libre y gratuito (OpenSource)\n",
    "- Fácil de leer, parecido a pseudocódigo\n",
    "- Aprendizaje relativamente fácil y rápido: claro, intuitivo...\n",
    "- Alto nivel\n",
    "- Alta Productividad: simple y rápido\n",
    "- Tiende a producir un buen código: orden, limpieza, elegancia, flexibilidad, ...\n",
    "- Multiplataforma. Portable\n",
    "- Multiparadigma: programación imperativa, orientada a objetos, funcional, ...\n",
    "- Interactivo, modular, dinámico\n",
    "- Librerías extensivas (\"pilas incluídas\")\n",
    "- Gran cantidad de librerías de terceros\n",
    "- Extensible (C++, C, ...) y \"embebible\"\n",
    "- Gran comunidad, amplio soporte\n",
    "- *Interpretado*\n",
    "- *Fuertemente tipado, tipado dinámico*\n",
    "- *Hay dos versiones principales: 2.7 y 3.7*\n",
    "- *Hay diferentes implementaciones*: `CPython`, `Jython`, `IronPython`, `MicroPython`, ...\n"
   ]
  },
  {
   "cell_type": "markdown",
   "metadata": {
    "slideshow": {
     "slide_type": "subslide"
    }
   },
   "source": [
    "## ¿Es todo positivo? Pues no, también hay algunas desventajas...\n",
    "\n",
    "\n",
    "- Interpretado (velocidad de ejecución, multithread vs GIL, etc.)\n",
    "- Consumo de memoria\n",
    "- Errores durante la ejecución\n",
    "- Dos versiones mayores no del todo compatibles\n",
    "- Desarrollo móvil\n",
    "- Acceso a base de datos\n",
    "- Documentación a veces dispersa e incompleta\n",
    "- Varios módulos para la misma funcionalidad\n",
    "- Librerías de terceros no siempre del todo maduras\n",
    "- A veces demasiado simple o alto nivel...\n",
    "- *¿Es de verdad el lenguaje ideal para principiantes?*\n",
    "\n"
   ]
  },
  {
   "cell_type": "markdown",
   "metadata": {
    "slideshow": {
     "slide_type": "subslide"
    }
   },
   "source": [
    "## ¿Para qué se usa Python?\n",
    "\n",
    "- Scripts de administración del sistema y widgets\n",
    "- Análisis de datos y big data: `pandas` + `statsmodels`. Bases de datos.\n",
    "- Aplicaciones web (`Django`)\n",
    "- Tratamiento de texto, ficheros y documentos. Manipulación de todo tipo de documentos: docs, xls, pdf, hdf5, xml, json, etc.\n",
    "- Conexión y administración de dispositivos e instrumentos: `http`, `ftp`, `pyusb`, `pyserial`, `pyvisa`...\n",
    "- Prototipado de software. Interfaces gráficas de usuario fáciles.\n",
    "- Interfaz a otras aplicaciones. Wrapping con C y Fortran\n",
    "- Datos científicos: `Scipy`/`Numpy`, `Matplotlib`, `Sympy`, `Astropy`, `ObsPy`, ...\n"
   ]
  },
  {
   "cell_type": "markdown",
   "metadata": {
    "slideshow": {
     "slide_type": "subslide"
    }
   },
   "source": [
    "## El Zen de Python\n",
    "### Los 20 principios de Python (aunque sólo se han escrito 19 ;)\n",
    "\n",
    "1. Bello es mejor que feo.\n",
    "2. Explícito es mejor que implícito.\n",
    "3. Simple es mejor que complejo.\n",
    "4. Complejo es mejor que complicado.\n",
    "5. Plano es mejor que anidado.\n",
    "6. Espaciado es mejor que denso.\n",
    "7. La legibilidad es importante.\n",
    "8. Los casos especiales no son lo suficientemente especiales como para romper las reglas.\n",
    "9. Sin embargo la practicidad le gana a la pureza.\n",
    "10. Los errores nunca deberían pasar silenciosamente.\n",
    "11. A menos que se silencien explícitamente.\n",
    "12. Frente a la ambigüedad, evitar la tentación de adivinar.\n",
    "13. Debería haber una, y preferiblemente solo una, manera obvia de hacerlo.\n",
    "14. A pesar de que esa manera no sea obvia a menos que seas Holandés.\n",
    "15. Ahora es mejor que nunca.\n",
    "16. A pesar de que nunca es muchas veces mejor que *ahora* mismo.\n",
    "17. Si la implementación es difícil de explicar, es una mala idea.\n",
    "18. Si la implementación es fácil de explicar, puede que sea una buena idea.\n",
    "19. Los espacios de nombres son una gran idea, ¡tengamos más de esos!\n",
    "\n",
    "*Fuente: [Wikipedia](https://es.wikipedia.org/wiki/Zen_de_Python), [PEP 20](https://www.python.org/dev/peps/pep-0020/)*"
   ]
  },
  {
   "cell_type": "markdown",
   "metadata": {
    "slideshow": {
     "slide_type": "slide"
    }
   },
   "source": [
    "# Entorno de trabajo\n",
    "---"
   ]
  },
  {
   "cell_type": "markdown",
   "metadata": {
    "slideshow": {
     "slide_type": "slide"
    }
   },
   "source": [
    "# Python 2.x vs 3.x\n",
    "---"
   ]
  },
  {
   "cell_type": "code",
   "execution_count": null,
   "metadata": {},
   "outputs": [],
   "source": []
  },
  {
   "cell_type": "markdown",
   "metadata": {
    "slideshow": {
     "slide_type": "subslide"
    }
   },
   "source": [
    "### Python 2.x\n",
    "\n",
    "- Python 2.0 se publicó en 2000\n",
    "- La última versión es Python 2.7 publicada en 2010\n",
    "- Actualmente 2.7.16 (4/3/19)\n",
    "- No habrá más actualizaciones, sólo corrección de fallos hasta el 1 de enero de 2020 (2.7.18)\n",
    "\n",
    "## Python 3.x\n",
    "\n",
    "- Python 3.0 se publicó en 2008\n",
    "- La última versión es Python 3.7 publicada en junio de 2018 \n",
    "- Actualmente 3.7.3 (25/3/19)\n",
    "- Ya se está trabajando en la [3.8](https://docs.python.org/3.8/)\n"
   ]
  },
  {
   "cell_type": "markdown",
   "metadata": {
    "slideshow": {
     "slide_type": "subslide"
    }
   },
   "source": [
    "## Python 2.x vs 3.x\n",
    "- Similares, pero **NO** totalmente compatibles\n",
    "- Principales diferencias:\n",
    " - Por defecto, la división es entera en python 2.x, mientras que en 3.x es decimal\n",
    " - Por defecto, las cadenas de texto se guardan como `ASCII` en python 2.x, mientras que en 3.x se usa `UNICODE`\n",
    " - La función `print`, en python 2.x no requiere paréntesis, en python 3.x con paréntesis\n",
    " - Incompatibilidad de librerías entre versiones\n",
    " - Diferencias de implementación. Por ejemplo: \n",
    "   - `input()` (evaluado o no)\n",
    "   - `range()` (lista o iterador)\n",
    "   - `round(2.5)` (diferente resultado en python 2 y 3)\n",
    "   - excepciones\n",
    "   - ...\n",
    "   \n",
    "En resumen: ***Python 2.x es el pasado (legado), python 3.x es el futuro***\n"
   ]
  },
  {
   "cell_type": "markdown",
   "metadata": {
    "slideshow": {
     "slide_type": "subslide"
    }
   },
   "source": [
    "# Descarga de la carpeta del proyecto\n",
    "\n",
    "Se necesita tener instalada [la herramienta de control de versiones **git**](https://git-scm.com/downloads) en el sistema:\n",
    "\n",
    "## Opción A\n",
    "\n",
    "~~~bash\n",
    "$> git clone https://github.com/sdelquin/intropython.git\n",
    "~~~\n",
    "\n",
    "## Opción B\n",
    "\n",
    "Acceder a https://github.com/sdelquin/intropython y usar el botón de **Download ZIP**:\n",
    "\n",
    "![Descarga Github](images/intro/github_download.png)\n",
    "\n",
    "> **Se recomienda** usar la **Opción A** ya que, en otro caso, no se podrá actualizar de forma sencilla el repositorio."
   ]
  },
  {
   "cell_type": "markdown",
   "metadata": {
    "slideshow": {
     "slide_type": "subslide"
    }
   },
   "source": [
    "# Instalación del entorno virtual\n",
    "\n",
    "## Requerimientos\n",
    "\n",
    "- [Python 3](https://www.python.org/downloads/) y [pip](https://pip.pypa.io/en/stable/installing/) (o bien usar [miniconda](https://docs.conda.io/en/latest/miniconda.html) o [anaconda](https://www.anaconda.com/distribution/#download-section) con `conda`)\n",
    "- [pipenv](https://pipenv.readthedocs.io/en/latest/install/#installing-pipenv) (`pip install pipenv`)\n",
    "\n",
    "![Instalando dependencias](images/intro/install_dependencies.png)\n",
    "\n",
    "> Lo que realmente se está ejecutando es:\n",
    "\n",
    "~~~bash\n",
    "$> pipenv install --three\n",
    "~~~"
   ]
  },
  {
   "cell_type": "markdown",
   "metadata": {
    "slideshow": {
     "slide_type": "subslide"
    }
   },
   "source": [
    "# Actualización del repositorio\n",
    "\n",
    "- Es posible que, durante el curso, actualicemos el repositorio para corregir o añadir contenido.\n",
    "- Para mantener al día el repositorio se puede ejecutar el siguiente comando:\n",
    "\n",
    "![Update Repo](images/intro/update_repo.png)\n",
    "\n",
    "> Este comando, además de actualizar el repo, hace copias de los notebooks en la carpeta `backups` de tal forma que, si has hecho cambios, puedes mantener un backup de los mismos."
   ]
  },
  {
   "cell_type": "markdown",
   "metadata": {
    "slideshow": {
     "slide_type": "subslide"
    }
   },
   "source": [
    "# Binder\n",
    "\n",
    "[Binder](https://mybinder.org/) es un servicio que permite ejecutar **Jupyter Notebooks** directamente en la nube sin necesidad de instalar ningún software, únicamente utilizando un navegador web.\n",
    "\n",
    "# http://tiny.cc/intropy"
   ]
  }
 ],
 "metadata": {
  "celltoolbar": "Slideshow",
  "kernelspec": {
   "display_name": "Python 3",
   "language": "python",
   "name": "python3"
  },
  "language_info": {
   "codemirror_mode": {
    "name": "ipython",
    "version": 3
   },
   "file_extension": ".py",
   "mimetype": "text/x-python",
   "name": "python",
   "nbconvert_exporter": "python",
   "pygments_lexer": "ipython3",
   "version": "3.8.0"
  }
 },
 "nbformat": 4,
 "nbformat_minor": 2
}
