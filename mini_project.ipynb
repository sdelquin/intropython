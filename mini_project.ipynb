{
 "cells": [
  {
   "cell_type": "code",
   "execution_count": 14,
   "metadata": {},
   "outputs": [
    {
     "data": {
      "text/html": [
       "<style>/* alignment */\n",
       "table {\n",
       "    margin-left: initial !important;\n",
       "}\n",
       "\n",
       "/* title of columns */\n",
       "table thead th {\n",
       "    font-size: 1.2em !important;\n",
       "    padding-top: 0.2em !important;\n",
       "    padding-bottom: 0.2em !important;\n",
       "    text-align: left !important;\n",
       "}\n",
       "\n",
       "/* title of rows */\n",
       "table tbody th {\n",
       "    font-size: 1.2em !important;\n",
       "    background: rgba(199, 199, 199, 0.356) !important;\n",
       "    border: 1px solid black !important;\n",
       "}\n",
       "\n",
       "/* style for each cell */\n",
       "table td {\n",
       "    font-size: 1.15em !important;\n",
       "    border: 1px solid black !important;\n",
       "}\n",
       "\n",
       "/* disable zebra-style */\n",
       "table tbody tr {\n",
       "    background: white !important;\n",
       "}\n",
       "\n",
       "/* row color on hover */\n",
       "table tbody tr:hover {\n",
       "    background: rgba(43, 137, 226, 0.144) !important;\n",
       "}\n",
       "</style>"
      ],
      "text/plain": [
       "<IPython.core.display.HTML object>"
      ]
     },
     "execution_count": 14,
     "metadata": {},
     "output_type": "execute_result"
    }
   ],
   "source": [
    "from IPython.display import HTML\n",
    "from pathlib import Path\n",
    "\n",
    "css_rules = Path('custom.css').read_text()\n",
    "HTML('<style>' + css_rules + '</style>')"
   ]
  },
  {
   "cell_type": "markdown",
   "metadata": {},
   "source": [
    "# Miniproyecto\n",
    "\n",
    "![Netflix Logo](images/common/netflix_logo.png)\n",
    "\n",
    "En la línea de la temática del curso, el objetivo del miniproyecto es integrar todo lo visto hasta el momento e implementar un **CRUD de series de Netflix** hecho completamente en Python.\n",
    "\n",
    "[CRUD](https://es.wikipedia.org/wiki/CRUD) son las siglas de \"Crear, Leer, Actualizar y Borrar\" y se usa para referirse a las funciones básicas en bases de datos o la capa de persistencia en un software.\n",
    "\n",
    "A continuación se explican las **clases** que tendrá que implementar:"
   ]
  },
  {
   "cell_type": "markdown",
   "metadata": {},
   "source": [
    "![Mini-Project](images/mini_project/mini_project.png)"
   ]
  },
  {
   "cell_type": "markdown",
   "metadata": {},
   "source": [
    "## Clase `Episode`\n",
    "\n",
    "Esta clase representa un capítulo de una serie de *Netflix*.\n",
    "\n",
    "### Atributos\n",
    "\n",
    "- Nombre del capítulo.\n",
    "- Duración en minutos del capítulo.\n",
    "- Sinopsis.\n",
    "\n",
    "### Métodos\n",
    "\n",
    "- `__init__`\n",
    "- `__str__`"
   ]
  },
  {
   "cell_type": "markdown",
   "metadata": {},
   "source": [
    "## Clase `Serie`\n",
    "\n",
    "Esta clase representa una serie de *Netflix*.\n",
    "\n",
    "### Atributos\n",
    "\n",
    "- Nombre de la serie.\n",
    "- Año de estreno.\n",
    "- Clasificación de edad.\n",
    "- Número de temporadas.\n",
    "- Número de capítulos por temporada.\n",
    "- Información sobre cada capítulo (vinculado a la clase `Episode`).\n",
    "- Géneros.\n",
    "- Protagonistas.\n",
    "- Creadores/as.\n",
    "- URL de Twitter.\n",
    "\n",
    "### Métodos\n",
    "\n",
    "- `__init__`\n",
    "- `__str__`"
   ]
  },
  {
   "cell_type": "markdown",
   "metadata": {},
   "source": [
    "## Clase `Netflix`\n",
    "\n",
    "### Atributos\n",
    "\n",
    "- Diccionario para guardar información sobre las series, donde:\n",
    "    - Clave: identificador de la serie (*string de 8 caracteres*)\n",
    "    - Valor: clase `Serie`\n",
    "\n",
    "### Métodos\n",
    "\n",
    "- `__init__`\n",
    "- `__str__`\n",
    "- Cargar series a partir de un fichero `.csv`\n",
    "- Escribir series a un fichero `.csv`"
   ]
  },
  {
   "cell_type": "markdown",
   "metadata": {},
   "source": [
    "# Referencia a un ejemplo concreto\n",
    "\n",
    "[Black Mirror](https://www.netflix.com/es/title/70264888)\n",
    "\n",
    "Identificador: **70264888**"
   ]
  },
  {
   "cell_type": "markdown",
   "metadata": {},
   "source": [
    "# Rúbrica\n",
    "\n",
    "Los proyectos se valorarán de **0 a 10** teniendo en cuenta los porcentajes asociados a cada **criterio** según se indica en la siguiente rúbrica:\n",
    "\n",
    "Criterio | Valoración\n",
    "- | -\n",
    "¿Existe la clase `Netflix`? | $5\\%$\n",
    "¿Existe la clase `Episode`? | $5\\%$\n",
    "¿Existe la clase `Serie`? | $5\\%$\n",
    "¿Funciona la carga del fichero `.csv`? | $10\\%$\n",
    "¿Funciona la escritura del fichero `.csv`? | $10\\%$\n",
    "¿Funciona `__str__` de `Netflix`? | $5\\%$\n",
    "¿Funciona `__str__` de `Episode`? | $5\\%$\n",
    "¿Funciona `__str__` de `Serie`? | $5\\%$"
   ]
  }
 ],
 "metadata": {
  "kernelspec": {
   "display_name": "Python 3",
   "language": "python",
   "name": "python3"
  },
  "language_info": {
   "codemirror_mode": {
    "name": "ipython",
    "version": 3
   },
   "file_extension": ".py",
   "mimetype": "text/x-python",
   "name": "python",
   "nbconvert_exporter": "python",
   "pygments_lexer": "ipython3",
   "version": "3.7.0"
  }
 },
 "nbformat": 4,
 "nbformat_minor": 2
}
