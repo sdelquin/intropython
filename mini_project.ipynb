{
 "cells": [
  {
   "cell_type": "code",
   "execution_count": 1,
   "metadata": {},
   "outputs": [
    {
     "data": {
      "text/html": [
       "<style>/* alignment */\n",
       "table {\n",
       "    margin-left: initial !important;\n",
       "}\n",
       "\n",
       "/* title of columns */\n",
       "table thead th {\n",
       "    font-size: 1.2em !important;\n",
       "    padding-top: 0.2em !important;\n",
       "    padding-bottom: 0.2em !important;\n",
       "    text-align: left !important;\n",
       "}\n",
       "\n",
       "/* title of rows */\n",
       "table tbody th {\n",
       "    font-size: 1.2em !important;\n",
       "    background: rgba(199, 199, 199, 0.356) !important;\n",
       "    border: 1px solid black !important;\n",
       "}\n",
       "\n",
       "/* style for each cell */\n",
       "table td {\n",
       "    font-size: 1.15em !important;\n",
       "    border: 1px solid black !important;\n",
       "    text-align: left !important;\n",
       "}\n",
       "\n",
       "/* disable zebra-style */\n",
       "table tbody tr {\n",
       "    background: white !important;\n",
       "}\n",
       "\n",
       "/* row color on hover */\n",
       "table tbody tr:hover {\n",
       "    background: rgba(43, 137, 226, 0.144) !important;\n",
       "}\n",
       "</style>"
      ],
      "text/plain": [
       "<IPython.core.display.HTML object>"
      ]
     },
     "execution_count": 1,
     "metadata": {},
     "output_type": "execute_result"
    }
   ],
   "source": [
    "from IPython.display import HTML\n",
    "from pathlib import Path\n",
    "\n",
    "css_rules = Path('custom.css').read_text()\n",
    "HTML('<style>' + css_rules + '</style>')"
   ]
  },
  {
   "cell_type": "markdown",
   "metadata": {},
   "source": [
    "# Miniproyecto\n",
    "\n",
    "![Netflix Logo](images/common/netflix_logo.png)\n",
    "\n",
    "En la línea de la temática del curso, el objetivo del miniproyecto es integrar la mayoría de características vistas hasta el momento e implementar una pequeña base de datos para una serie (a elección del alumno/a), realizado completamente en Python.\n",
    "\n",
    "A continuación se explican las **clases** que tendrá que implementar:\n",
    "\n",
    "![Mini Project](images/mini_project/mini_project.png)"
   ]
  },
  {
   "cell_type": "markdown",
   "metadata": {},
   "source": [
    "## Clase `Episode`\n",
    "\n",
    "Esta clase representa un capítulo de una serie de *Netflix*.\n",
    "\n",
    "### Atributos\n",
    "\n",
    "- Nombre del capítulo.\n",
    "- Duración en minutos del capítulo.\n",
    "- Sinopsis.\n",
    "- Puntuación.\n",
    "\n",
    "### Métodos\n",
    "\n",
    "- `__init__()`\n",
    "- `__str__()`"
   ]
  },
  {
   "cell_type": "markdown",
   "metadata": {},
   "source": [
    "## Clase `Serie`\n",
    "\n",
    "Esta clase representa una serie de *Netflix*.\n",
    "\n",
    "### Atributos\n",
    "\n",
    "- Identificador de la serie.\n",
    "- Nombre de la serie.\n",
    "- Año de estreno.\n",
    "- Clasificación de edad.\n",
    "- Número de temporadas.\n",
    "- URL de Twitter.\n",
    "- *Lista* de protagonistas (no puede haber protagonistas repetidos).\n",
    "- *Lista* de capítulos (vinculado a la clase `Episode`, se guardarán por clave según temporada, por ejemplo `'S1:E3'` significaría, *capítulo 3 de la primera temporada*. No puede haber capítulos repetidos).\n",
    "\n",
    "**NOTA**: Se ha indicado *lista* como nombre genérico, al implementarlo se debería de elegir la estructura más adecuada entre las diferentes estructuras vistas en clase (listas, tuplas, conjuntos, diccionarios, etc.)\n",
    "\n",
    "### Métodos\n",
    "\n",
    "Signatura | Descripción\n",
    "- | -\n",
    "`__init__()` | Constructor\n",
    "`__str__()` | Representanción del objeto\n",
    "`add_episode(season, episode, title, duration, synopsis, rating)` | Añade un capítulo de clase *Episode* a la temporada indicada (comprobar que no se trata de un capítulo repetido). **Será el método utilizado al cargar los episodios desde fichero**\n",
    "`num_episodes()` | Calcula y devuelve el número de capítulos totales de la serie.\n",
    "`num_seasons()` | Calcula y devuelve el número de temporadas totales de la serie.\n",
    "`qr_code()` | Devuelve el código QR de la URL de Twitter. Utilizar la librería `PyQRCode` y aprovechar [su salida de terminal](https://pythonhosted.org/PyQRCode/moddoc.html#pyqrcode.QRCode.terminal).\n",
    "`info_episode(season, episode)` | Si existe la temporada y capítulo indicados, muestra la información de ese capítulo. Haría uso de `num_episodes`, `num_seasons` y de `qr_code`.\n",
    "`set_rating(season, episode, rating)` | Si existe la temporada y capítulo indicado, y la puntuación es entre 1 y 5, asigna la puntuación a ese capítulo.\n",
    "`stats()` | Calcula y muestra la duración total de la serie (suma de la duración de todos los capítulos) y la media de todas las puntuaciones que estén entre 1 y 5 (ignorar otros valores).\n",
    "`save2cvs(nombre_fichero)` | Guarda toda la información a ese fichero, usando el mismo formato que el csv de la entrada.\n",
    "\n",
    "> Se pueden crear otros métodos si se considera oportuno."
   ]
  },
  {
   "cell_type": "markdown",
   "metadata": {},
   "source": [
    "## Programa\n",
    "\n",
    "El programa **aceptará por argumento de línea de comandos el nombre del fichero CSV** con los datos iniciales de series y episiodios (si no se especifica este nombre, al iniciar el programa se solicitará que se introduzca por teclado). Se comprobará si el fichero existe (si no, informar del error) y luego se cargarán los datos, usando para ello el *constructor* y el método `add_episode` de la clase `Serie`.\n",
    "\n",
    "![Control de flujo](images/mini_project/flowcontrol.png)\n",
    "\n",
    "Una vez cargados los datos, crear un menú en un bucle infinito similar al siguiente. Los datos que se piden se calcularán usando los diferentes métodos que están disponibles en la clase `Serie`:\n",
    "\n",
    "```python\n",
    "0: salir\n",
    "1: mostrar información de la serie     # Muestra título, año de estreno, clasificación de edad,  \n",
    "                                       # número de temporadas, número total de capítulos, protagonistas,\n",
    "                                       # URL de twitter ó QR de la URL de twitter\n",
    "2: mostrar información de un episodio  # Solicita número de temporada y número de episodio\n",
    "3: asignar puntuación                  # Solicita número de temporada, número de episodio y puntuación (entre 1 y 5)\n",
    "4: mostrar estadísticas\n",
    "5: salvar a fichero CSV                # Solicita nombre de fichero y guarda todos los datos en el mismo formato CSV \n",
    "                                       # que la entrada (todos los datos deben ser iguales, excepto las puntuaciones)   \n",
    "```\n",
    "\n",
    "**Se deberá entregar un único fichero `netflix.py` con la siguiente estructura**:\n",
    "\n",
    "![Program layout](images/mini_project/program_layout.png)"
   ]
  },
  {
   "cell_type": "markdown",
   "metadata": {},
   "source": [
    "## Formato de los ficheros de datos\n",
    "\n",
    "El fichero CSV tiene como primera línea la información de la serie, y luego una línea por episodio, de la siguiente forma:\n",
    "\n",
    "```\n",
    "id_serie;serie_title;premiere_year;age_limit;num_seasons;starring;twitter_url\n",
    "season;episode;title;duration;synopsis;rating\n",
    "season;episode;title;duration;synopsis;rating\n",
    "season;episode;title;duration;synopsis;rating\n",
    "\n",
    "...\n",
    "```\n",
    "\n",
    "Un fichero de ejemplo con la serie [Black Mirror](https://www.netflix.com/es/title/70264888):\n",
    "\n",
    "```\n",
    "70264888;Black Mirror;2011;16+;4;Jesse Plemons,Cristin Milioti,Jimmi Simpson;https://twitter.com/blackmirror\n",
    "\n",
    "1;1;El himno nacional;44;El primer ministro Michael Callow se enfrenta a un dilema impactante cuando la princesa Susannah, un miembro muy querido de la familia real, es secuestrada.;0\n",
    "\n",
    "1;2;15 millones de méritos;62;Tras fracasar al intentar impresionar a los jueces en una competición de canto, una mujer tiene que hacer actuaciones degradantes o regresar a su vida de esclava.;0\n",
    "\n",
    "1;3;Toda tu historia;49;En un futuro cercano, todo el mundo tendrá acceso a un implante de memoria que grabe todo lo que los humanos hagan, vean y oigan.;0\n",
    "\n",
    "2;1;Ahora mismo vuelvo;49;Después de enterarse de un nuevo servicio que permite a la gente estar en contacto con los muertos, Martha, solitaria y afligida, conecta con su difunto novio.;0\n",
    "\n",
    "2;2;Oso blanco;42;Victoria se despierta y no puede recordar nada de su vida. Todo el mundo con el que se encuentra, se niega a comunicarse con ella.;0\n",
    "\n",
    "2;3;El momento Waldo;44;Un cómico fracasado que pone la voz a un oso de dibujos animados, se ve arrastrado a la política cuando los ejecutivos quieren que el oso se presente como candidato.;0\n",
    "\n",
    "2;4;Blanca Navidad;74;En una base remota aislada por la nieve, dos hombres cuentan varias historias sobre estragos causados por la tecnología durante unas navidades.;0\n",
    "\n",
    "3;1;Caída en picado;63;Desesperada por aumentar su popularidad en las redes sociales, una mujer acude ilusionada a una boda de alto copete. Pero el viaje no sale como tenía previsto.;0\n",
    "\n",
    "...\n",
    "```\n",
    "\n",
    "Puede encontrar el [fichero completo aquí](resources/mini_project/netflix-70264888.csv)."
   ]
  },
  {
   "cell_type": "markdown",
   "metadata": {},
   "source": [
    "## Descarga de otros ficheros *Netflix*\n",
    "\n",
    "Se les proporciona una utilidad que hemos desarrollado en Python para que puedan descargar cualquier serie de *Netflix* y generar ficheros de ejemplo para probar su programa.\n",
    "\n",
    "La forma de ejecutarlo es:\n",
    "\n",
    "~~~bash\n",
    "$> python netflix_dl.py <url_de_la_serie>\n",
    "~~~\n",
    "\n",
    "Un ejemplo de ejecución para la serie [The Crown](https://www.netflix.com/es/title/80025678):\n",
    "\n",
    "![netflix_dl](images/mini_project/netflix_dl.png)"
   ]
  },
  {
   "cell_type": "markdown",
   "metadata": {},
   "source": [
    "# Entrega del proyecto\n",
    "\n",
    "La entrega del proyecto deberá hacerse antes del **30 de abril de 2019 a las 23:00h** utilizando [este enlace de subida de Dropbox](https://www.dropbox.com/request/8RelUyPlXpJcsE1MEGz1).\n",
    "\n",
    "Se permiten entregas **FUERA DE PLAZO** hasta el **7 de mayo de 2019 a las 23:00h**. Los proyectos entregados fuera de plazo tendrá una **penalización de 3 puntos**."
   ]
  },
  {
   "cell_type": "markdown",
   "metadata": {},
   "source": [
    "## Contacto \n",
    "\n",
    "Para cualquier duda, comentario o sugerencia pueden contactar con nosotros utilizando los siguientes medios:\n",
    "    \n",
    "Profesor | Email | Telegram\n",
    "- | - | -\n",
    "Sergio Delgado Quintero | sdelquin@gmail.com | [@sdelquin](https://t.me/sdelquin)\n",
    "Antonio Javier Dorta Lorenzo | ajdorta@gmail.com | [@adorta](https://t.me/adorta)"
   ]
  },
  {
   "cell_type": "markdown",
   "metadata": {},
   "source": [
    "# Rúbrica\n",
    "\n",
    "Los proyectos se valorarán de **0 a 10** teniendo en cuenta los porcentajes asociados a cada **criterio** según se indica en la siguiente rúbrica:\n",
    "\n",
    "Criterio | Valoración\n",
    "- | -\n",
    "¿Existe y está bien definida la clase `Episode`? | $5\\%$\n",
    "¿Funcionan los métodos `__init__` y `__str__` de `Episode`? | $5\\%$\n",
    "¿Existe y está bien definida `Serie` (atributos y métodos)? | $10\\%$\n",
    "¿Funcionan los métodos `__init__` y `__str__` de `Serie`? | $5\\%$\n",
    "¿Se han elegido estructuras adecuadas en la clase `Serie`? | $5\\%$\n",
    "¿Funciona el menú mostrando las opciones como bucle infinito? | $5\\%$\n",
    "¿Funciona la carga del fichero `.csv`? | $15\\%$\n",
    "¿Funciona la información de la serie (opción 1)? | $10\\%$\n",
    "¿Funciona la información de un episodio (opción 2)? | $5\\%$\n",
    "¿Funciona asignar puntuación a un episodio (opción 3)? | $5\\%$\n",
    "¿Funcionan las estadísticas (opción 4)? | $5\\%$\n",
    "¿Funciona la escritura del fichero `.csv`(opción 5)? | $10\\%$\n",
    "¿El código está bien estructurado, documentado, es legible...? | $10\\%$\n",
    "¿Se ha implementado el método para mostrar código QR? | $5\\%$"
   ]
  }
 ],
 "metadata": {
  "kernelspec": {
   "display_name": "Python 3",
   "language": "python",
   "name": "python3"
  },
  "language_info": {
   "codemirror_mode": {
    "name": "ipython",
    "version": 3
   },
   "file_extension": ".py",
   "mimetype": "text/x-python",
   "name": "python",
   "nbconvert_exporter": "python",
   "pygments_lexer": "ipython3",
   "version": "3.7.0"
  }
 },
 "nbformat": 4,
 "nbformat_minor": 2
}
