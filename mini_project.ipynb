{
 "cells": [
  {
   "cell_type": "code",
   "execution_count": 14,
   "metadata": {},
   "outputs": [
    {
     "data": {
      "text/html": [
       "<style>/* alignment */\n",
       "table {\n",
       "    margin-left: initial !important;\n",
       "}\n",
       "\n",
       "/* title of columns */\n",
       "table thead th {\n",
       "    font-size: 1.2em !important;\n",
       "    padding-top: 0.2em !important;\n",
       "    padding-bottom: 0.2em !important;\n",
       "    text-align: left !important;\n",
       "}\n",
       "\n",
       "/* title of rows */\n",
       "table tbody th {\n",
       "    font-size: 1.2em !important;\n",
       "    background: rgba(199, 199, 199, 0.356) !important;\n",
       "    border: 1px solid black !important;\n",
       "}\n",
       "\n",
       "/* style for each cell */\n",
       "table td {\n",
       "    font-size: 1.15em !important;\n",
       "    border: 1px solid black !important;\n",
       "}\n",
       "\n",
       "/* disable zebra-style */\n",
       "table tbody tr {\n",
       "    background: white !important;\n",
       "}\n",
       "\n",
       "/* row color on hover */\n",
       "table tbody tr:hover {\n",
       "    background: rgba(43, 137, 226, 0.144) !important;\n",
       "}\n",
       "</style>"
      ],
      "text/plain": [
       "<IPython.core.display.HTML object>"
      ]
     },
     "execution_count": 14,
     "metadata": {},
     "output_type": "execute_result"
    }
   ],
   "source": [
    "from IPython.display import HTML\n",
    "from pathlib import Path\n",
    "\n",
    "css_rules = Path('custom.css').read_text()\n",
    "HTML('<style>' + css_rules + '</style>')"
   ]
  },
  {
   "cell_type": "markdown",
   "metadata": {},
   "source": [
    "# Miniproyecto\n",
    "\n",
    "![Netflix Logo](images/common/netflix_logo.png)\n",
    "\n",
    "En la línea de la temática del curso, el objetivo del miniproyecto es integrar la mayoría de características vistas hasta el momento e implementar una pequeña base de datos para una serie (a elección del alumno/a), realizado completamente en Python.\n",
    "\n",
    "A continuación se explican las **clases** que tendrá que implementar:"
   ]
  },
  {
   "cell_type": "markdown",
   "metadata": {},
   "source": [
    "## Clase `Episode`\n",
    "\n",
    "Esta clase representa un capítulo de una serie de *Netflix*.\n",
    "\n",
    "### Atributos\n",
    "\n",
    "- Nombre del capítulo.\n",
    "- Duración en minutos del capítulo.\n",
    "- Puntuación\n",
    "\n",
    "### Métodos\n",
    "\n",
    "- `__init__`\n",
    "- `__str__`"
   ]
  },
  {
   "cell_type": "markdown",
   "metadata": {},
   "source": [
    "## Clase `Serie`\n",
    "\n",
    "Esta clase representa una serie de *Netflix*.\n",
    "\n",
    "### Atributos\n",
    "\n",
    "- Nombre de la serie\n",
    "- Año de estreno\n",
    "- URL\n",
    "- *Lista* de capítulos por temporada (nota: dos temporadas pueden tener el mismo número de capítulos. Por ejemplo, si tenemos los valores: 5, 6, 6, 0, 7 quieren decir que la primera temporada tiene 5 capítulos, la segunda y tercera 6, la cuarta temporada no tiene capítulos y la última temporada tiene 7)\n",
    "- *Lista* de capítulos (vinculado a la clase `Episode`, se guardarán por clave según temporada, por ejemplo `'S1E3'` significaría, *capítulo 3 de la primera temporada*. No puede haber capítulos repetidos).\n",
    "- *Lista* de protagonistas (nota: los protagonistas no deberían repetirse)\n",
    "\n",
    "\n",
    "**NOTA**: Se ha indicado *lista* como nombre genérico, al implementarlo se debería de elegir la estructura más adecuada entre las diferentes estructuras vistas en clase (listas, tuplas, conjuntos, diccionarios, etc.)\n",
    "\n",
    "### Métodos\n",
    "\n",
    "- `__init__`\n",
    "- `__str__`\n",
    "- `addEpisode(season, title, duration, ranking)`: añade un capítulo de clase Episode a la temporada indicada, y actualiza la lista de capítulos por temporada (comprobar que no se trata de un capítulo repetido)\n",
    "- `numEpisodes()`: calcula y devuelve el número de capítulos totales de la serie\n",
    "- `numSeasons()`: calcula y devuelve el número de temporadas\n",
    "- `infoEpisode(season, episode)`: si existe la temporada y capítulo indicados, muestra la información de ese capítulo) \n",
    "- `setRanking(season, episode, ranking)`: si existe la temporada y capítulo indicado, y la puntuación es entre 1 y 5, asigna la puntuación a ese capítulo\n",
    "- `stats()`: calcula e imprime la duración total de la serie y la media, moda, mediana y desviación estándar de todas las puntuaciones que estén entre 1 y 5\n",
    "- `save2cvs(nombre_fichero)`: guarda toda la información a ese fichero, usando el mismo formato que el csv de la entrada\n",
    "\n"
   ]
  },
  {
   "cell_type": "markdown",
   "metadata": {},
   "source": [
    "## Programa\n",
    "\n",
    "Al iniciar el programa se pedirá el nombre de un fichero CSV con los datos iniciales de series y episodios, y se cargarán los datos si el fichero existe (si no, informar del error). \n",
    "\n",
    "Este CSV tiene como primera línea la información de la serie, y luego una línea por episodio, de la siguiente forma:\n",
    "\n",
    "```\n",
    "title_serie,premiere_year,character1|character2|character3...|url\n",
    "season,episode,title,duration,ranking\n",
    "season,episode,title,duration,ranking\n",
    "season,episode,title,duration,ranking\n",
    "season,episode,title,duration,ranking\n",
    "```\n",
    "\n",
    "Por ejemplo:\n",
    "\n",
    "```\n",
    "\"Black Mirror\",2011,\"Jesse Plemons|Cristin Milioti|Jimmi Simpson\",\"https://www.netflix.com/es/title/70264888\"\n",
    "1,1,\"El himno nacional\",44,0\n",
    "1,2,\"15 millones de méritos\",62,0\n",
    "1,3,\"Toda tu historia\",49,0\n",
    "2,1,\"Ahora mismo vuelvo\",49,0\n",
    "2,2,\"Oso blanco\",42,0\n",
    "2,3,\"El momento Waldo\",44,0\n",
    "2,4,\"Blanca Navidad\",74,0\n",
    "3,1,\"Caída en picado\",63,0\n",
    "3,2,\"Playtesting\",57,0\n",
    "3,3,\"Cállate y baila\",53,0\n",
    "3,4,\"San Junípero\",61,0\n",
    "3,5,\"La ciencia de matar\",60,0\n",
    "3,6,\"Odio nacional\",90,0\n",
    "4,1,\"USS Callister\",77,0\n",
    "4,2,\"Arkangel\",52,0\n",
    "4,3,\"Cocodrilo\",59,0\n",
    "4,4,\"Hang the DJ\",52,0\n",
    "4,5,\"Cabeza de metal\",41,0\n",
    "4,6,\"Black Museum\",69,0\n",
    "\n",
    "```\n",
    "\n",
    "Una vez cargados los datos, crear un menú en un bucle infinito similar al siguiente. Las diferentes acciones son las implementadas en los métodos de la case `Serie`:\n",
    "```python\n",
    "0: salir\n",
    "1: mostrar información de la serie     # Muestra título, año de estreno, capítulos por temporada,  \n",
    "                                       # número total de capítulos, número de temporadas, protagonistras y URL\n",
    "2: mostrar información de un episodio  # Solicita número de temporada y número de episodio\n",
    "3: asignar puntuación                  # Solicita número de temporada, número de episodio y puntuación (entre 1 y 5)\n",
    "4: mostrar estadísticas\n",
    "5: salvar a fichero CSV                # Solicita nombre de fichero y guarda todos los datos en el mismo formato CSV \n",
    "                                       # que la entrada (todos los datos deben ser iguales, excepto las puntuaciones)   \n",
    "```\n",
    "\n"
   ]
  },
  {
   "cell_type": "markdown",
   "metadata": {},
   "source": [
    "# Rúbrica\n",
    "\n",
    "Los proyectos se valorarán de **0 a 10** teniendo en cuenta los porcentajes asociados a cada **criterio** según se indica en la siguiente rúbrica:\n",
    "\n",
    "Criterio | Valoración\n",
    "- | -\n",
    "¿Existe la clase `Netflix`? | $5\\%$\n",
    "¿Existe la clase `Episode`? | $5\\%$\n",
    "¿Existe la clase `Serie`? | $5\\%$\n",
    "¿Funciona la carga del fichero `.csv`? | $10\\%$\n",
    "¿Funciona la escritura del fichero `.csv`? | $10\\%$\n",
    "¿Funciona `__str__` de `Netflix`? | $5\\%$\n",
    "¿Funciona `__str__` de `Episode`? | $5\\%$\n",
    "¿Funciona `__str__` de `Serie`? | $5\\%$"
   ]
  }
 ],
 "metadata": {
  "kernelspec": {
   "display_name": "Python 3",
   "language": "python",
   "name": "python3"
  },
  "language_info": {
   "codemirror_mode": {
    "name": "ipython",
    "version": 3
   },
   "file_extension": ".py",
   "mimetype": "text/x-python",
   "name": "python",
   "nbconvert_exporter": "python",
   "pygments_lexer": "ipython3",
   "version": "3.7.3"
  }
 },
 "nbformat": 4,
 "nbformat_minor": 2
}
