{
 "cells": [
  {
   "cell_type": "markdown",
   "metadata": {
    "slideshow": {
     "slide_type": "slide"
    }
   },
   "source": [
    "![Objects](images/poo/objects.jpg)\n",
    "\n",
    "Photo by [Kevin Crosby](https://unsplash.com/photos/HQkz_lWT_lY?utm_source=unsplash&utm_medium=referral&utm_content=creditCopyText) on [Unsplash](https://unsplash.com/search/photos/structure?utm_source=unsplash&utm_medium=referral&utm_content=creditCopyText)"
   ]
  },
  {
   "cell_type": "markdown",
   "metadata": {
    "slideshow": {
     "slide_type": "slide"
    }
   },
   "source": [
    "# Motivación\n",
    "\n",
    "Tradicionalmente hemos usado la programación para crear aplicaciones con el objetivo de resolver problemas. En muchos casos, tras resolver un problema de una forma concreta, nos encontrábamos que al intentar resolver otro problema similar era muy complicado o costoso reutilizar la aplicación que ya teníamos debido a cómo estaba programada, por lo que teníamos que volver a desarrollar otra aplicación. Algunas veces incluso el problema era exactamente el mismo, pero cambiaba el tipo de datos que se usaba, lo que podía llevarnos a tener diferentes aplicaciones para un mismo problema según el tipo de datos que se empleaba, u otros matices similares.\n",
    "\n",
    "La Programación Orientada a Objetos (POO, o bien OOP de sus iniciales en inglés) tiene como uno de sus objetivos facilitar la reutilización del código, la modularidad, el encapsulamiento, una mejor organización donde los datos, es decir, la información, esté de alguna forma relacionada con los métodos que la procesan.\n",
    "\n",
    "En sí, la Programación Orientada a Objetos no es especialmente compleja, quizá incluso sea más *natural* e intuitiva, más similar a cómo pensamos en la *vida real*. Sin embargo, sí que requiere un cambio de mentalidad, una forma de pensar distinta a la que tradicionalmente se venía usando al programar. En definitiva, se trata de un cambio de paradigma. En este apartado veremos una introducción a estas técnicas, aunque en realidad ya venimos usando la POO desde el principio de curso, porque casi todo en python (tipos de datos, estructuras, iteradores, etc.) son al final clases y objetos."
   ]
  },
  {
   "cell_type": "markdown",
   "metadata": {
    "slideshow": {
     "slide_type": "slide"
    }
   },
   "source": [
    "# Guion\n",
    "\n",
    "1. Introducción a la POO\n",
    "2. Las clases. Propiedades y métodos\n",
    "3. Objetos o instancias.\n",
    "4. Características de la POO. Herencia\n"
   ]
  },
  {
   "cell_type": "code",
   "execution_count": null,
   "metadata": {},
   "outputs": [],
   "source": []
  },
  {
   "cell_type": "markdown",
   "metadata": {
    "slideshow": {
     "slide_type": "slide"
    }
   },
   "source": [
    "# Introducción a la POO (I)\n",
    "\n",
    "Hasta ahora hemos ido guardando información sobre nuestras series favoritas de Netflix, y además desarrollando diferentes funciones para procesar esta información. Un problema de este enfoque es que no hay una relación evidente entre los datos y las funciones que los procesan. Por ejemplo, si decido eliminar parte de la información que estoy guardando, ¿cómo sé qué funciones ya no serían necesarias? O si quiero usar parte de mi código en otro proyecto, ¿qué parte tendría que copiar?\n",
    "\n",
    "La Programación Orientada a Objetos nos da herramientas para resolver estos problemas. El eje central sobre el que gira este paradigma son los **objetos**. Por ejemplo, en nuestro caso un objeto sería una serie de Netflix, y en su definición indicaríamos qué información queremos guardar (**atributos** o **propiedades** del objeto) y qué operaciones podemos realizar (similar a las funciones, pero en POO se denominan los **métodos** del objeto). De este modo, tanto las *propiedades* como los *métodos* pertenecen al mismo objeto y están ligados a él, de esta forma gestionar esta parte es muy simple, si se decide reutilizar esta parte, o bien eliminarla, tendremos muy delimitado cuál es el código que lo implementa.\n",
    "\n",
    "\n",
    "### Las clases\n",
    "\n",
    "Para trabajar con objetos se utilizan **clases**, que es simplemente una definición de los mismos, es decir, un listado de todos las **propiedades** y **métodos** del objeto. A partir de esta definición, luego podremos crear tantos objetos como deseemos basándonos en la clase, proceso que se denomina como crear una **instancia** o **instanciar** la clase (*objeto* e *instancia* vienen a significar lo mismo).\n",
    "\n",
    "En python las clases se crean de la siguiente forma:\n",
    "\n",
    "```python\n",
    "class MiClase:\n",
    "    # ...\n",
    "```\n",
    "\n",
    "> [PEP8](https://www.python.org/dev/peps/pep-0008/#class-names): El nombre de las clases debe asignarse en singular usando *CamelCase* (comenzar en mayúsculas)\n",
    "\n",
    "Por seguir con nuestra analogía, la *clase* de nuestras series Netflix indicará las *propiedades* (*título*, *año*, *duración*, *temporadas*, etc.) y los *métodos* (*calcular duración total*, *obtener media*, etc.). Cuando queramos crear una nueva serie, sólo tendremos que decir algo así como \"oye, que queremos una nueva serie a partir de clase `Serie`\", es decir, crearemos una nueva *instancia* u *objeto* a partir de su clase. \n",
    "\n",
    "\n",
    "### El constructor y los atributos (variables de clase y variables de instancia)\n",
    "\n",
    "Normalmente aprovecharemos el proceso de creación para indicar los datos del nuevo objeto (en nuestro caso podría ser, por ejemplo, el título de la serie, su duración, etc.), y así en vez de obtener un objeto vacío y luego tener que ir asignando sus propiedades una a una, ya crearemos el objeto directamente con toda su información (¡matamos dos pájaros de un tiro! ;). \n",
    "\n",
    "Para poder llevar esto a cabo, se utiliza un **constructor**, que básicamente es un método especial que asigna los valores a un objeto en el momento de crearlo. Este método especial se denomina **`__init__()`** (ya veremos que en python todas las variables que empiezan por `_` o `__` tienen un uso particular). \n",
    "\n",
    "Este *constructor* debe asignar los valores al propio objeto, es decir, a sí mismo. Si el objeto está creándose y aún no está asignado a ninguna variable, ¿cómo podemos hacer para que el constructor pueda asignarle los valores? Para solucionar esto, el primer parámetro del método `__init__()` debe ser **`self`**, que referencia al propio objeto. De hecho, esto no es algo exclusivo únicamente del constructor, si no que **todos los métodos de un objeto deben tener como primer parámetro `self`**.\n",
    "\n",
    "Además, el método `__init__()` también tiene otra función:\n",
    "- todas las propiedades que se definan dentro de este método serán **variables de instancia**, es decir, pertenecerán a cada objeto, y cada objeto podrá tener sus propios atributos (en nuestro caso, aquí pondríamos el título, duración, etc., porque cada objeto tiene sus propios valores).\n",
    "- todas las propiedades de la clase que se definan fuera del constructor, serán **variables de clase**, es decir, pertenecerán a la clase y todos los objetos de la misma clase verán los mismos valores (esto puede ser útil para almacenar información común que es igual para todas las series, como la dirección de una página web que indique un ranking de todas las series, información de la suscripción a Netflix, etc.\n",
    "\n",
    "Por ejemplo, imaginemos que la clase `MiClase` tiene un atributo `m` (con valor ```5```) común para todos los objetos, y luego cada objeto debe tener sus propios atributos `a`, `b` y `c` (`c` con valor por defecto ```10```). Entonces la clase se definiría como:\n",
    "\n",
    "```python\n",
    "class MiClase:\n",
    "    m = 5   # variable de clase, común para todos los objetos\n",
    "    \n",
    "    def __init__(self, a, b, c=0):\n",
    "        self.a = a\n",
    "        self.b = b\n",
    "        self.c = c\n",
    "```  \n",
    "\n",
    "- **NOTA**: Ten mucho cuidado al cambiar las variables de clase, si las cambias en un objeto, el cambio sólo afectará a ese objeto. Para cambiar una variable de clase para todos los objetos, se debe usar la propia clase. Por ejemplo:\n",
    "`MiClase.m = 10`\n",
    "\n",
    "\n",
    "### Métodos\n",
    "\n",
    "Además de las propiedades, es interesante que las clases incluyan los métodos que realizan las operaciones sobre los objetos. De esta forma, estos métodos quedarán ligados a los propios objetos y para invocarlos bastará con usar la sintaxis `miObjeto.metodo()`. \n",
    "\n",
    "Los métodos se definen dentro de las clases como si fueran funciones, usando la palabra reservada **`def`**. No debemos olvidar que se siempre se tiene que especificar como primer parámetro una referencia al propio objeto, usando el parámetro **`self`**.\n",
    "\n",
    "Por ejemplo, si queremos crear un método que devuelva el resultado de multiplicar `a` por un valor que nos indique el usuario, simplemente añadiríamos lo siguiente a la clase:\n",
    "\n",
    "```python\n",
    "class MiClase:\n",
    "    # ...\n",
    "    \n",
    "    def mult(self, x):\n",
    "        return self.a * x\n",
    "```\n",
    "\n",
    "Algunos métodos interesantes para definir en nuestras clases son:\n",
    "\n",
    "- `__str__(self)`: Como vemos, este método empieza por `__`, así que se trata de un método especial (del sistema). Este método se usa para mostrar el objeto cuando hacemos un `print()`. Por defecto se va a mostrar la referencia del objeto, lo cual no suele ser muy útil, así que normalmente nos conviene definir este método indicando cómo queremos que se muestre el objeto. Por ejemplo, en este caso:\n",
    "\n",
    "```python\n",
    "class MiClase:\n",
    "    # ...\n",
    "    \n",
    "    def __str__(self):\n",
    "        return f\"El objeto tiene como atributos m:{self.m}, a:{self.a}, b:{self.b}, c:{self.c}\" \n",
    "```\n",
    "\n",
    "- *setter* y *getter*: En muchas ocasiones no queremos que los usuarios accedan directamente al valor de los atributos. Por ejemplo, en el caso de modificar un atributo, podríamos querer comprobar que el valor es correcto (si es una edad, no puede ser menor que 0). En el caso de obtener el valor de un atributo, podríamos querer formatearlo o mostrarlo de una determinada forma. Para estos casos, es común definir y utilizar los métodos *setter* y *getter*, respectivamente. De esta forma, se indica que la escritura o la lectura de un atributo no debería hacerse directamente, sino a través de estos métodos para que se realicen las comprobaciones y/u operaciones adecuadas. Aunque no veremos estos métodos en este curso debido a que escapa de su objetivo introductorio, se recomienda que si se va a trabajar con objetos se [consulte el `property` de python](https://docs.python.org/3/library/functions.html#property) para conocer cómo implementar los *setter* y *getter*.<br/><br/>\n",
    "\n",
    "- Exiten muchos más métodos \"especiales\" que podemos definir. Por ejemplo, si nos interesa, podemos definir el método ``__cmp__()`` que nos permite comparar dos objetos para ver cuál es el mayor, el método ``__add__()`` para sumar dos objetos, el método ``__sub__()`` para restar, etc. (esto es útil, por ejemplo, si queremos trabajar con fracciones e implementamos una clase `Fraccion` para poder operar con ellas).<br/><br/>\n",
    "\n",
    "- Mediante **`dir()`** podemos conocer los diferentes atributos y métodos de un objeto. Por ejemplo, `dir(miObjeto)`\n",
    "\n",
    "<sub>**NOTA**: si has trabajado con otros lenguajes de programación, conocerás que los atributos y métodos de un objeto pueden tener diferente comportamiento, por ejemplo es normal que se puedan definir como *públicos*, *privados* o *protegidos*. En python este comportamiento es un poco diferente, y por convenio se añade el prefijo `_` o `__` a atributos y métodos para indicar que no deberían ser públicos. En cuanto a los atributos `estáticos`, en python vendrían a ser las *variables de clase* ya vistas.</sub>\n",
    "\n",
    "\n",
    "### Instanciando un objeto\n",
    "\n",
    "Una vez que hemos definido una clase, para instanciar el objeto sólo tenemos que utilizar el nombre de la clase y pasarle los argumentos necesarios al constructor entre paréntesis. Por ejemplo si queremos crear un objeto con los valores `a=20`, `b=50` y usar el valor por defecto de `c`, usaríamos la siguiente instancia:\n",
    "\n",
    "```python\n",
    "miObjeto = MiClase(20, 50)\n",
    "print(miObjeto)\n",
    "```\n",
    "\n",
    "### Eliminando un objeto\n",
    "\n",
    "En general, no tendremos que preocuparnos por eliminar los objetos, ya que python hace esto automáticamente cuando detecta que el objeto no se usa más porque no hay más referencias a él (python lleva internamente el conteo de cuántas referencias hay a un objeto, cuanto esta cuenta llega a cero, el *recolector de basura* elimina automáticamente el objeto). \n",
    "\n",
    "Sin embargo, en la mayoría de casos podemos *forzar* la eliminación del objeto usando **`del`**\n",
    "\n",
    "```python\n",
    "miObjeto = MiClase(10, 20)\n",
    "del miObjeto\n",
    "```"
   ]
  },
  {
   "cell_type": "markdown",
   "metadata": {
    "slideshow": {
     "slide_type": "slide"
    }
   },
   "source": [
    "\n",
    "### Uniendo todo el código\n",
    "\n",
    "Aquí tenemos un resumen al unir todo el código:\n",
    "\n",
    "```python\n",
    "# Definimos la clase \n",
    "class MiClase:\n",
    "    m = 5   # variable de clase, común para todos los objetos\n",
    "    \n",
    "    def __init__(self, a, b, c=0):\n",
    "        self.a = a\n",
    "        self.b = b\n",
    "        self.c = c\n",
    "        \n",
    "    def mult(self, x):\n",
    "        return self.a * x\n",
    "    \n",
    "    def __str__(self):\n",
    "        return f\"El objeto tiene como atributos m:{self.m}, a:{self.a}, b:{self.b}, c:{self.c}\" \n",
    "\n",
    "\n",
    "# Hacemos algunas pruebas craendo un objeto\n",
    "miObjeto = MiClase(20, 50)\n",
    "print(miObjeto)\n",
    "print(f\"El resultado de multiplicar {miObjeto.a} por 10 es {miObjeto.mult(10)}\") \n",
    "\n",
    "dir(miObjeto)\n",
    "\n",
    "del miObjeto \n",
    "```"
   ]
  },
  {
   "cell_type": "code",
   "execution_count": null,
   "metadata": {},
   "outputs": [],
   "source": []
  },
  {
   "cell_type": "markdown",
   "metadata": {
    "slideshow": {
     "slide_type": "slide"
    }
   },
   "source": [
    "### Ejemplo\n",
    "\n",
    "Imaginemos que queremos crear una clase muy simple, por ejemplo, trabajamos en una tienda de animales y queremos crear una clase para guardar información de gatos. Hay una serie de atributos comunes en todos los gatos (son de la familia *felinos*, tienen 4 patas, etc.) y otros específicos a cada gato (raza, nombre, peso, etc.). Veamos cómo sería la clase:\n",
    "\n",
    "```python\n",
    "class Gato:\n",
    "    familia = \"felino\"\n",
    "    num_patas = 4\n",
    "    cola = True\n",
    "    \n",
    "    def __init__(self, nombre, raza, color, peso):\n",
    "        self.nombre = nombre\n",
    "        self.raza = raza\n",
    "        self.color = color\n",
    "        self.peso = peso\n",
    "        \n",
    "    def __str__(self):\n",
    "        return \"Hola, soy el gato {self.nombre}. Soy de la raza {self.raza}, de color {self.color} y peso {self.peso} kg.\"\n",
    "    \n",
    "    def maullar(self):\n",
    "        return \"Miaaaauuuuu\"\n",
    "    \n",
    "        \n",
    "gato1 = Gato('Garfield', 'persa', 'amarillo', 5)\n",
    "gato2 = Gato('Michu', 'siamés', 'gris', 7)\n",
    "gato3 = Gato('Anubis', 'sphynx', 'blanco', 3)\n",
    "\n",
    "print(gato1)\n",
    "print(gato2)\n",
    "print(gato3)\n",
    "print(gato1.maullar())\n",
    "```    "
   ]
  },
  {
   "cell_type": "code",
   "execution_count": null,
   "metadata": {},
   "outputs": [],
   "source": []
  },
  {
   "cell_type": "markdown",
   "metadata": {
    "slideshow": {
     "slide_type": "slide"
    }
   },
   "source": [
    "### 💡 Ejercicio\n",
    "\n",
    "Crear una clase para nuestras series de Netflix. Deberá tener los siguientes atributos:\n",
    "- `ranking` (variable de clase: https://www.hobbyconsolas.com/listas/mejores-series-netflix-2019-no-te-deberias-perder-6919)\n",
    "- `titulo` (título de la serie)\n",
    "- `temporadas` (número de temporadas)\n",
    "- `capitulos_temporada` (número medio de capítulos por temporada)\n",
    "- `duracion_capitulo` (duración media de cada capítulo)\n",
    "\n",
    "Además, definir los siguiente métodos:\n",
    " - `__init__()`: para instanciar los objetos (el constructor)\n",
    " - `__str__()`: para mostrar la serie con `print()`\n",
    " - `duracion_total()`: mostrará la duración total de la serie multiplicando el número de temporadas por el número de capítulos de cada temporada por la duración media de cada capítulo"
   ]
  },
  {
   "cell_type": "code",
   "execution_count": null,
   "metadata": {},
   "outputs": [],
   "source": []
  },
  {
   "cell_type": "markdown",
   "metadata": {
    "slideshow": {
     "slide_type": "slide"
    }
   },
   "source": [
    "# Introducción a la POO (II)\n",
    "\n",
    "La Programación Orientada a Objetos introduce una serie de características que la hacen especialmente atractiva, como **abstracción**, **encapsulamiento**, **modularidad**, **polimorfismo**, etc. ([aquí puedes ampliar más información](https://es.wikibooks.org/wiki/Programaci%C3%B3n_Orientada_a_Objetos/Caracter%C3%ADsticas_de_la_POO)).\n",
    "\n",
    "Entre todas estas características, hay una que es especialmente útil, la **herencia**. La herencia nos permite que una clase pueda ser definida a partir de otra, *heredando* sus propiedades y métodos. Esto nos proporciona una herramienta potente a la hora de trabajar con objetos. \n",
    "\n",
    "Por ejemplo, siguiendo con nuestro ejemplo de la tienda de animales, ¿qué pasaría si ahora nos pidieran guardar también información de perros? Podríamos crear otra clase para perros como hicimos para gatos, pero las clases de perros y gatos serían muy similares, estaríamos repitiendo código (tenemos que seguir el [principio DRY](https://es.wikipedia.org/wiki/No_te_repitas)!! ;) Para evitar esto, podemos definir una clase con las propiedades y métodos comunes (por ejemplo, una clase `Mamifero`) y a partir de esta clase crear las clases `Gato` y `Perro` usando la herencia. De esta forma podemos construir objetos cada vez más complejos a partir de otros más simples. De hecho, usando la *herencia múltiple*, podemos definir una clase a partir de varias clases.\n",
    "\n",
    "Para definir una clase a partir de otra(s), basta con añadir la clase *padre* entre paréntesis después de definirla. Por ejemplo, si ya tenemos la clase `Mamifero`, para definir una clase `Gato` que sea *hija* y que herede sus atributos y métodos, usaremos:\n",
    "\n",
    "```python\n",
    "class Gato(Mamifero):\n",
    "    # ...\n",
    "```\n",
    "\n",
    "Desde la clase *hija* podemos acceder a los métodos y atributos del *padre* usando el método **`super()`**. Por ejemplo, para acceder al constructor del *padre* desde una clase *hija*, usaremos:\n",
    "\n",
    "```python\n",
    "class Gato(Mamifero):\n",
    "    # ...\n",
    "    super().__init__() \n",
    "    # ...\n",
    "```\n",
    "\n",
    "<sub>**NOTA**: Es posible que al consultar códigos de POO en python adviertan que las clases se definen como *hijas* de otras clase llamada `object` (p.ej: `class MiClase(object)`). Esto tenía sentido sólo en python 2, pero se ha mantenido en algunos códigos de python 3 simplemente por compatibilidad, sin que tenga ningún efecto, así que su uso puede ignorarse ([más información aquí](https://stackoverflow.com/questions/4015417/python-class-inherits-object)).</sub>\n"
   ]
  },
  {
   "cell_type": "markdown",
   "metadata": {
    "slideshow": {
     "slide_type": "slide"
    }
   },
   "source": [
    "### Ejemplo\n",
    "\n",
    "Definir una clase para perros y gatos. Además, para los perros queremos saber si está vacunado y para los gatos su dieta:\n",
    "\n",
    "```python\n",
    "\n",
    "# Mamifero: clase \"padre\"\n",
    "class Mamifero:\n",
    "    num_patas = 4\n",
    "    cola = True\n",
    "\n",
    "    def __init__(self, nombre, raza, color, peso):\n",
    "        self.nombre = nombre\n",
    "        self.raza = raza\n",
    "        self.color = color\n",
    "        self.peso = peso\n",
    "        \n",
    "    def __str__(self):\n",
    "        return f\"Me llamo {self.nombre } y soy de la raza {self.raza}, de color {self.color}, peso {self.peso} kg\"    \n",
    "\n",
    "    def comunicarse(self):\n",
    "        # Los mamíferos se comunican, cada una de forma diferente, este método lo implementará luego cada \"hijo\"\n",
    "        pass\n",
    "    \n",
    "\n",
    "# Gato: clase \"hija\" de Mamifero\n",
    "class Gato(Mamifero):\n",
    "    familia = \"felino\"\n",
    "    \n",
    "    def __init__(self, nombre, raza, color, peso, dieta):\n",
    "        # Los atributos comunes (nombre, raza, color y peso) los inicializamos con la clase padre\n",
    "        super().__init__(nombre, raza, color, peso)\n",
    "        # El atributo dieta sólo pertenece a la clase Gato, lo inicializamos aquí\n",
    "        self.dieta = dieta\n",
    "        \n",
    "    def __str__(self):\n",
    "        # Aprovecharemos el método para imprimir del padre para la información\n",
    "        # común y añadiremos los nuevos atributos.\n",
    "        return f\"Soy un gato. {super().__str__()} y mi dieta es {self.dieta}.\"\n",
    "        \n",
    "    def maullar(self):\n",
    "        # La forma de comunicarse de los gatos es maullar\n",
    "        return \"Miaaaauuuuu\"\n",
    "    \n",
    "    def comunicarse(self):\n",
    "        return self.maullar()\n",
    "    \n",
    "\n",
    "# Perro: Clase \"hija\" de Mamifero \n",
    "class Perro(Mamifero):\n",
    "    familia = \"cánido\"\n",
    "    \n",
    "    def __init__(self, nombre, raza, color, peso, vacunado):\n",
    "        # Los atributos comunes (nombre, raza, color y peso) los inicializamos con la clase padre\n",
    "        super().__init__(nombre, raza, color, peso)\n",
    "        # El atributo vacunado sólo pertenece a la clase Perro, lo inicializamos aquí\n",
    "        self.vacunado = vacunado\n",
    "        \n",
    "    def __str__(self):\n",
    "        # Aprovecharemos el método para imprimir del padre para la información\n",
    "        # común y añadiremos los nuevos atributos.\n",
    "        return f\"Soy un perro. {super().__str__()} y estoy vacunado {self.vacunado}.\"\n",
    "        \n",
    "    def ladrar(self):\n",
    "        # La forma de comunicarse de los gatos es ladrar\n",
    "        return \"Guaaaauuuuu\"\n",
    "    \n",
    "    def comunicarse(self):\n",
    "        return self.ladrar()    \n",
    "\n",
    "# Creamos algunos objetos para comprobar que esté funcionando correctamente    \n",
    "        \n",
    "gato1 = Gato('Garfield', 'persa', 'amarillo', 5, \"pescado\")\n",
    "gato2 = Gato('Michu', 'siamés', 'gris', 7, \"pienso\")\n",
    "gato3 = Gato('Anubis', 'sphynx', 'blanco', 3, \"carne\")\n",
    "\n",
    "perro1 = Perro('Tara', 'pastor alemán', 'canelo', 15, True)\n",
    "perro2 = Perro('Luna', 'caniche', 'negro', 3, False)\n",
    "perro3 = Perro('Thor', 'Terrier', 'blanco', 8, True)\n",
    "\n",
    "print(gato1)\n",
    "print(gato2)\n",
    "print(gato3)\n",
    "print(gato1.comunicarse())\n",
    "\n",
    "print(perro1)\n",
    "print(perro2)\n",
    "print(perro3)\n",
    "print(perro1.comunicarse())\n",
    "```    "
   ]
  },
  {
   "cell_type": "code",
   "execution_count": null,
   "metadata": {},
   "outputs": [],
   "source": []
  },
  {
   "cell_type": "markdown",
   "metadata": {
    "slideshow": {
     "slide_type": "slide"
    }
   },
   "source": [
    "### 💡 Ejercicio\n",
    "\n",
    "Además de las series de Netflix, también queremos guardar información de las películas de esta plataforma. Aunque hay mucha información común, también hay datos en las series que no están en las películas (como número de temporadas, número de capítulos, duración media de capítulos, etc.), y viceversa (si es una saga, duración total, etc.). Se pide crear una clase `Video` con la información común de series y películas, y luego crear las clases *hijas* `Serie` y `Pelicula`."
   ]
  },
  {
   "cell_type": "code",
   "execution_count": null,
   "metadata": {},
   "outputs": [],
   "source": []
  }
 ],
 "metadata": {
  "celltoolbar": "Slideshow",
  "kernelspec": {
   "display_name": "Python 3",
   "language": "python",
   "name": "python3"
  },
  "language_info": {
   "codemirror_mode": {
    "name": "ipython",
    "version": 3
   },
   "file_extension": ".py",
   "mimetype": "text/x-python",
   "name": "python",
   "nbconvert_exporter": "python",
   "pygments_lexer": "ipython3",
   "version": "3.7.3"
  }
 },
 "nbformat": 4,
 "nbformat_minor": 2
}
