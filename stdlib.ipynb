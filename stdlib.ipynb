{
 "cells": [
  {
   "cell_type": "markdown",
   "metadata": {
    "slideshow": {
     "slide_type": "slide"
    }
   },
   "source": [
    "![Library](images/stdlib/library.jpg)\n",
    "\n",
    "Photo by [chuttersnap](https://unsplash.com/photos/dERxI-Rna2E?utm_source=unsplash&utm_medium=referral&utm_content=creditCopyText) on [Unsplash](https://unsplash.com/search/photos/structure?utm_source=unsplash&utm_medium=referral&utm_content=creditCopyText)"
   ]
  },
  {
   "cell_type": "markdown",
   "metadata": {
    "slideshow": {
     "slide_type": "slide"
    }
   },
   "source": [
    "# Motivación\n",
    "\n",
    "Como ya comentamos en la introducción, pyhton viene con las \"pilas incluidas\", y es que además de la potencia del propio lenguaje, al utilizar python contamos con un gran surtido de librerías incluidas para realizar una gran diversidad de tareas comunes. Durante este apartado aprenderemos cómo poder utilizar estas librerías y realizaremos ejemplos con algunas de ellas.\n"
   ]
  },
  {
   "cell_type": "markdown",
   "metadata": {
    "slideshow": {
     "slide_type": "slide"
    }
   },
   "source": [
    "# Guion\n",
    "1. Módulos y paquetes en python\n",
    "2. La librería estándar\n",
    "3. Ejemplos de librería standard"
   ]
  },
  {
   "cell_type": "markdown",
   "metadata": {
    "slideshow": {
     "slide_type": "slide"
    }
   },
   "source": [
    "# Módulos y paquetes en python\n",
    "\n",
    "\n",
    "\n",
    "Como ya hemos ido constatando, en python se ha hecho un gran esfuerzo por fomentar los principios de **simplicidad**, **reusabilidad** y **mantenibilidad**, basados sobre todo en la idea de **modularidad**. De esta forma, una aplicación muy compleja, en vez de estar definida en un fichero inmenso, se divide en *bloques lógicos* o módulos que compartan características comunes, que se almacenan en diferentes ficheros (por resumirlo, cada uno de estos *fichero* equivale a un *módulo*, así podríamos tener el módulo de lectura de los datos de entrada, el de procesamiento, etc., de hecho unos módulos podrían estar escritos en python, otros en otros lenguajes, ...). Por ejemplo, si mi aplicación es muy compleja y quiero modularizarla, puede *sacar* del código principal la parte que gestiona la conversión de unidades y pongo todo este código en un fichero llamado `conversiones.py`, de esta forma, acabo de crear mi módulo `conversiones` (el módulo se llama igual que el fichero, eliminando la extensión `.py`).\n",
    "\n",
    "A veces el código es tan extenso o complejo, que tenemos que dividirlo en varios módulos relacionados. En estos casos, todos los módulos se colocan en un mismo directorio que se denomina **paquete**. Un paquete puede tener también otros subdirectorios con más módulos, pudiendo ser la estructura tan compleja como se necesite.\n",
    "\n",
    "De este modo, a medida que nuestra aplicación va creciendo y/o necesitamos incorporar funcionalidades que están en un fichero (módulo) distinto, tenemos que **importar** estos ficheros externos para poder usar sus métodos, constantes, etc.\n",
    "\n",
    "\n",
    "\n",
    "## Importando módulos\n",
    "\n",
    "Python nos proporciona las herramientas para importar estos ficheros, pero tenemos que tener cuidado, quizá haya dos módulos que tengan una función o una constante que se llame igual... Si esto pasa, ¿cómo sé qué función estaré usando al invocarla? Por este motivo, existen diferentes formas de importar los módulos, y tenemos que saber cuál es la que debemos usar en cada caso.\n",
    "\n",
    "Por ejemplo, supongamos que vamos a usar las funciones llamadas `fn1()` y `fn2()` que están en un módulo llamado `mod`. La forma de importar el módulo e invocar las funciones podría ser:\n",
    "\n",
    "- ### Opción 1: importamos el módulo\n",
    "Ésta es la opción recomendada, se importa el módulo y posteriormente añadimos el nombre del módulo como prefijo al contenido que deseemos usar, separándolo por un `.`. Por ejemplo, para acceder a `fn1()` dentro del `mod`, después de importar el módulo usaremos `mod.fn1()`. Esta opción es la más segura en el sentido de que no hay ambigüedades, estamos indicando en todo momento qué módulo usamos para cada contenido, evitando así conflictos si un mismo elemento se llamara igual en varios módulos, o bien en nuestro código hubiéramos usado ese mismo nombre.\n",
    "\n",
    "```python\n",
    "import mod\n",
    "mod.fn1()\n",
    "mod.fn2()\n",
    "```\n",
    "<br />\n",
    "\n",
    "- ###  Opción 2: importamos las funciones concretas (o constantes, métodos, etc.)\n",
    "En esta opción, de todo el contenido del módulo sólo vamos a importar lo que necesitamos. Por ejemplo, en este caso sólo importaremos las funciones `fn1()` y `fn2()`. Esta opción simplifica un poco el código, ya que no tenemos que indicar siempre de qué módulo proviene el elemento, pero por otro lado puede generar problemas si ya habíamos definido un elemento con el mismo nombre o bien lo habíamos importado desde otro módulo.\n",
    "\n",
    "```python\n",
    "from mod import fn1, fn2\n",
    "fn1()\n",
    "fn2()\n",
    "```\n",
    "<br />\n",
    "\n",
    "- ### Opción 3: importamos todo el contenido del módulo\n",
    "Esta opción es la menos recomendable, porque vamos a importar *todo* el contenido del módulo. Normalmente los módulos suelen definir muchos elementos (variables, constantes, funciones, métodos, etc.), así que es difícil hacernos una idea de todo lo que estamos importando, y si va a entrar en conflicto o no con lo que ya teníamos definido en nuestro código o habíamos importado de otros módulos previamente. Por este motivo, esta opción debería evitarse siempre que sea posible.\n",
    "\n",
    "```python\n",
    "from mod import *\n",
    "fn1()\n",
    "fn2()\n",
    "```\n",
    "\n",
    "## Recomendaciones a la hora de importar módulos\n",
    "\n",
    "A la hora de importar módulos, deberíamos seguir las recomendaciones que indica [PEP 8](https://www.python.org/dev/peps/pep-0008/#imports):\n",
    " - Las **importaciones deben hacerse al principio** del fichero, justo después de los comentarios, y antes de definir cualquier constante o variable global. \n",
    " - Al importar, **utiliza una línea por cada módulo** \n",
    " - Importa las librerías en este orden: 1) librerías estándar, 2) librerías de terceros, 3) ficheros locales de la aplicación. Separa cada grupo por una línea en blanco (dentro de cada grupo, se suelen ordenar los módulos por orden alfabético).\n",
    "\n",
    "## Importando módulos dentro de paquetes\n",
    "\n",
    "Para importar un módulo que está dentro de un paquete, sólo tenemos que ir indicando la ruta necesaria hasta llegar al módulo en cuestión. Por ejemplo, si queremos importar el método `destornillador()` que está en el fichero `./tornillo/tuerca/arandela.py`, entonces tendríamos que hacer:\n",
    "\n",
    "```python\n",
    "import tornillo.tuerca.arandela\n",
    "arandela.destornillador()\n",
    "```\n",
    "\n",
    "o bien:\n",
    "\n",
    "```python\n",
    "from tornillo.tuerca.arandela import destornillador\n",
    "destornillador()\n",
    "```\n",
    "\n",
    "\n",
    "## Renombrando al importar (usando *alias*)\n",
    "\n",
    "A veces el nombre de un método, contante, etc. a importar es igual que uno que ya estamos usando. En estos casos, podemos cambiarle el nombre al importarlo. O también puede que nos interese importar con otro nombre simplemente porque es muy largo y queremos simplificarlo.\n",
    "\n",
    "Por ejemplo, imaginemos que queremos importar `calcular_el_valor_medio()` del módulo `operaciones_calculo`. Podríamos cambiar los nombres usando **`as`**:\n",
    "\n",
    "```python\n",
    "import operaciones_calculo as oper \n",
    "oper.calcular_el_valor_medio()\n",
    "```\n",
    "\n",
    "o bien:\n",
    "\n",
    "```python\n",
    "from operaciones_calculo import calcular_el_valor_medio() as calc_medio()\n",
    "calc_medio()\n",
    "```\n",
    "\n",
    "## Módulos precompilados\n",
    "\n",
    "Python, para poder acelerar la ejecución del código, primero *compila* los ficheros `*.py` y crea el equivalente `*.pyc`, que se suele *cachear* (dentro del directorio `__pycache__`). En principio esto es algo que no debería ni saber ni tener en cuenta, porque cada vez que cambiemos el correspondiente `*.py`, python debería volver a *compilarlo* y actualizar el correspondiente `*.pyc`. \n",
    "\n",
    "Sin embargo, en proyectos muy complejos con muchos ficheros, puede que python tarde un rato en darse cuenta que un fichero ha cambiado, así que aunque hagamos modificaciones en nuestro código, python seguirá usando la versión *compilada* que no contiene estos cambios. Esto hará que los resultados no sean correctos y puede despistarnos un poco porue no sabremos dónde está el error. En estos casos, o bien esperamos hasta que python vuelva a *compilarlo*, o podemos *forzar* esta compilación por comando, o incluso más fácil sería borrar el correspondiente `.pyc` para obligar a python que lo vuelva a generar.\n",
    "\n"
   ]
  },
  {
   "cell_type": "markdown",
   "metadata": {
    "slideshow": {
     "slide_type": "slide"
    }
   },
   "source": [
    "# Librería estándar\n",
    "\n",
    "Además de las varias decenas de funciones incorporadas ([built-in functions](https://docs.python.org/3/library/functions.html)) en python, en la instalación se incluyen cientos de módulos y paquetes que conforman la librería estándar (es decir, no hace falta instalar nada, ya vienen incluidas) y cuyo objetivo es facilitarnos enormemente la programación en un amplio rango de tareas comunes. \n",
    "\n",
    "De este modo, si tenemos que trabajar, por ejemplo, con ficheros en formato `CSV`, podemos importar directamente el módulo `csv` y ya disponemos de múltiples métodos para procesar este tipo de ficheros. Lo mismo, para realizar operaciones matemáticas, trabajar con ficheros comprimidos, con fechas y horas, con protocolos, y un larguísimo etcétera.\n",
    "\n",
    "Aquí resumimos los paquetes que nos pueden ser más útiles, aunque si se está interesado el [listado completo de módulos](https://docs.python.org/3/py-modindex.html) está disponible en la [Python Software Foundation (PSF)](https://www.python.org).\n",
    "\n",
    " - Texto y datos: `re`, `math`, `random`, `statistics`, ...\n",
    " - Ficheros y sistema: `os`, `logging`, `platform`, `sqlite3`, ...\n",
    " - Fechas y tiempo: `datetime`, `calendar`, `time`, ...\n",
    " - Compresión y criptografía: `zlib`, `gzip`, `tarfile`, `hashlib`, ... \n",
    " - Manipulación de diferentes formatos de ficheros: `csv`, `xml`, `json`, `html`, ...\n",
    " - Servicios multidioma y multiregión: `locale`, ...\n",
    " - Comunicaciones: `socket`, `ssl`, ...\n",
    " - Protocolos de Internet: `ftp`, `email`, `urllib`, `imap`, `http`, `telnet`, ...\n",
    " - Ejecución recurrente: `threading`, `multiprocessing`, ...\n",
    " - Otros: depurador, ficheros de audio, ...\n",
    " \n",
    "Además de estos módulos estándar, para tareas más especializadas (cálculo científico, procesamiento de imágenes, desarrollo web, etc.) existen las [librerías de terceros](third_parties.ipynb), es decir, librerías desarrolladas por otras personas que están a nuestra disposición y que podremos usar en nuestros desarrollos  (¡en la actualidad hay más de 170.000 proyectos!!). \n",
    "\n",
    "Estudiaremos algunas de estas librerías de terceros en el siguiente tema, ahora nos centraremos en conocer algunas de los módulos de la librería estándar que pueden sernos más útiles (recomendamos también realizar el [breve tour de la librería estándar](https://docs.python.org/3/tutorial/stdlib.html) disponible en la [documentación oficial](https://docs.python.org/3/index.html)). \n",
    "\n",
    "En concreto, en este apartado veremos ejemplos de:\n",
    " - Matemáticas: `math`, `random` y `statistics`\n",
    " - Fechas: `datetime`, `calendar` y `time`\n",
    " - Sistema: `sys` y `platform`\n",
    " - Sistema Operativo: `os` y `subprocess`\n",
    " - Ficheros: `glob`, `shutil` y `tempfile`\n",
    " - Datos: `re`, `csv` y `sqlite3`\n",
    " - Python: `pprint`, `collections`, `timeit` y `pdb`\n",
    " \n",
    "Recuerda que para ver todas las posibilidades que nos ofrece un módulo, además de consultar la documentación, podemos usar lo siguiente:\n",
    "\n",
    "```python\n",
    "import modulo\n",
    "\n",
    "dir(modulo)  # Listado de todos los métodos y atributos de un módulo\n",
    "help(modulo) # Documentación del módulo, incluyendo información de las clases, métodos y sus argumentos, etc. \n",
    "```\n"
   ]
  },
  {
   "cell_type": "markdown",
   "metadata": {
    "slideshow": {
     "slide_type": "slide"
    }
   },
   "source": [
    "## Módulos para matemáticas: [`math`](https://docs.python.org/3/library/math.html#module-math),  [`random`](https://docs.python.org/3/library/random.html#module-random) y [`statistics`](https://docs.python.org/3/library/statistics.html#module-statistics)\n",
    "\n",
    "- [`math`](https://docs.python.org/3/library/math.html#module-math): este módulo incorpora múltiples **funciones matemáticas**, tales como raíces cuadradas y potencias, operaciones trigonométricas, logarítmicas, exponenciales, redondeos, factoriales, etc. Por ejemplo, para calcular la raíz cuadrada de 15 con dos decimales utilizamos:\n",
    "\n",
    "``` python\n",
    "# Importamos el módulo\n",
    "import math\n",
    "\n",
    "x = 15\n",
    "print(f\"La raíz cuadrada de {x} es {math.sqrt(x):.2f}\")\n",
    "```\n",
    "\n",
    "El módulo matemático `math` trabaja preferentemente con enteros y flotantes, para números complejos se debe utilizar el [módulo `cmath`](https://docs.python.org/3/library/cmath.html#module-cmath). \n",
    "\n",
    "<br />\n",
    "\n",
    "- [`random`](https://docs.python.org/3/library/random.html#module-random): En muchas ocasiones necesitamos generar **números aleatorios**, para estas tareas el módulo `random` puede ser de mucha ayuda. Este módulo nos permite generar números aleatorios (más bien pseudo-aleatorios, tener en cuenta la `seed`) utilizando distribuciones uniformes y normales (Gausianas), entre otras. Por ejemplo, el método `random()` genera un número pseudo-aleatorio de forma uniforme entre `[0,1)`. Si queremos que nuestro número aleatorio esté entre 10 y 20 tenemos que hacer:\n",
    "\n",
    "``` python\n",
    "# Importamos el módulo\n",
    "from random import random\n",
    "\n",
    "#Límites de mi número aleatorio\n",
    "ini = 10\n",
    "end = 20\n",
    "x = (random() * (end - ini)) + ini\n",
    "print(f\"El número aleatorio es {x}\")\n",
    "```\n",
    "\n",
    "<br />\n",
    "\n",
    "- [`statistics`](https://docs.python.org/3/library/statistics.html#module-statistics): Este módulo nos proporciona **operaciones estadísticas** básicas como el cálculo de la media, moda, mediana, desviación estándar, etc. Por ejemplo, para calcular estos valores a partir de los datos almacenados en `x`, usamos el siguiente código:\n",
    "\n",
    "``` python\n",
    "# Importamos el módulo\n",
    "import statistics as stats\n",
    "\n",
    "x = [3, 6, 2, 6, 3, 2, 7, 8, 3, 4]\n",
    "print(f\"La media es {stats.mean(x)}, la moda es {stats.mode(x)}, la mediana es {stats.median(x)} y la desviación estándar {stats.stdev(x)}\") \n",
    "```\n",
    "\n",
    "<br />\n",
    "\n",
    "\n",
    "### 💡 Ejercicios:\n",
    "1. Calcule para `x = 158` el redondeo al alza (cielo) de la siguiente expresión: <br />\n",
    "$y = (seno(x) * ln(x) + (coseno(x) * log(x)))^5$\n",
    "<br />\n",
    "\n",
    "2. Genere 5 números aleatorios entre 20 y 40 y calcule su media, moda, mediana y desviación estándar\n",
    "\n"
   ]
  },
  {
   "cell_type": "code",
   "execution_count": null,
   "metadata": {
    "slideshow": {
     "slide_type": "-"
    }
   },
   "outputs": [],
   "source": []
  },
  {
   "cell_type": "markdown",
   "metadata": {
    "slideshow": {
     "slide_type": "slide"
    }
   },
   "source": [
    "## Módulos para fechas: [`datetime`](https://docs.python.org/3/library/datetime.html#module-datetime), [`calendar`](https://docs.python.org/3/library/calendar.html#module-calendar) y [`time`](https://docs.python.org/3/library/time.html#module-time)\n",
    "\n",
    "- [`datetime`](https://docs.python.org/3/library/datetime.html#module-datetime): Este módulo nos permite **manipular fechas y horas** (pasar de fechas en formato texto a objeto y viceversa, realizar sumas y restas de fechas para obtener el periodo que ha pasado, etc). Por ejemplo, para saber cuántos días han pasado desde el 1 de enero de 2019, podemos hacer lo siguiente:\n",
    "\n",
    "```python\n",
    "# Importamos el módulo\n",
    "from datetime import date\n",
    "\n",
    "# Obtenemos la fecha de hoy\n",
    "hoy = date.today()\n",
    "# Obtenemos la fecha de referencia\n",
    "referencia = date(2019, 1, 1)\n",
    "\n",
    "# Calculamos la diferecia y la mostramos en días\n",
    "diff = hoy - referencia\n",
    "print(f\"El número de días desde {referencia.strftime('%d-%m-%y')} es {diff.days}\")\n",
    "```\n",
    "\n",
    "<br />\n",
    "\n",
    "- [`calendar`](https://docs.python.org/3/library/calendar.html#module-calendar): Muestra un **calendario** y nos permite hacer algunas operaciones sobre él. Por ejemplo, para mostrar el calendario de abril de 2019, debemos hacer lo siguiente (si lo deseamos, también podemos configurar el texto para los días de la semana, etc.):\n",
    "\n",
    "```python\n",
    "# Importamos el módulo\n",
    "import calendar\n",
    "\n",
    "cal = calendar.month(2019, 4)\n",
    "print(cal)\n",
    "```\n",
    "\n",
    "<br />\n",
    "\n",
    "- [`time`](https://docs.python.org/3/library/time.html#module-time): Además de los dos módulos vistos anteriormente, existe un tercero denominado `time` que proporciona funcionalidades relacionadas con el tiempo específicas a más bajo nivel, como tiempos de acceso y conversiones, etc.\n",
    "\n",
    "\n",
    "### 💡 Ejercicios:\n",
    "1. Calcule los días que han pasado desde que naciste\n",
    "2. Muestre el mes y el año en el que naciste\n"
   ]
  },
  {
   "cell_type": "code",
   "execution_count": null,
   "metadata": {
    "slideshow": {
     "slide_type": "-"
    }
   },
   "outputs": [],
   "source": []
  },
  {
   "cell_type": "markdown",
   "metadata": {
    "slideshow": {
     "slide_type": "slide"
    }
   },
   "source": [
    "## Módulos para el sistema: [`sys`](https://docs.python.org/3/library/sys.html#module-sys) y [`platform`](https://docs.python.org/3/library/platform.html#module-platform)\n",
    "\n",
    "- [`sys`](https://docs.python.org/3/library/sys.html#module-sys): Este módulo es muy versátil, se usa sobre todo para **interactuar con el intérprete**, como por ejemplo obtener los parámetros usados en línea de comando, información de las excepciones, y muchas otras funciones relacionadas. Por ejemplo, si estuviéramos ejecutando un programa python como un script y quisiéramos abortar la ejecución usaríamos `sys.exit()` y para capturar los parámetros indicados por línea de comando, podríamos usar:\n",
    "\n",
    "``` python\n",
    "# Importamos el módulo\n",
    "from sys import argv\n",
    "\n",
    "print(f\"(Se han indicado {len(argv)} parámetros, con valor {argv}\")\n",
    "```\n",
    "\n",
    "<br />\n",
    "\n",
    "- [`platform`](https://docs.python.org/3/library/platform.html#module-platform): Nos da **información sobre la plataforma** en la que estamos ejecutando, como su arquitectura, nombre del equipo, procesador, S.O. y su versión, etc. También lo podemos usar para obtener información de la versión de python, entre otras muchas cosas. Por ejemplo, para ver información de nuestra plataforma actual:\n",
    "\n",
    "``` python\n",
    "# Importamos el módulo\n",
    "\n",
    "import platform\n",
    "print('uname:', platform.uname())\n",
    "print('system :', platform.system())\n",
    "print('node :', platform.node())\n",
    "print('release :', platform.release())\n",
    "print('version :', platform.version())\n",
    "print('machine :', platform.machine())\n",
    "print('processor:', platform.processor())\n",
    "print('distribution:', \" \".join(platform.dist()))\n",
    "```\n",
    "\n",
    "<br/>\n",
    "\n",
    "### 💡 Ejercicios:\n",
    "1. Muestra la información de su sistema. ¿Sabes lo que significa cada dato?\n",
    "\n"
   ]
  },
  {
   "cell_type": "code",
   "execution_count": null,
   "metadata": {
    "slideshow": {
     "slide_type": "-"
    }
   },
   "outputs": [],
   "source": []
  },
  {
   "cell_type": "markdown",
   "metadata": {
    "slideshow": {
     "slide_type": "slide"
    }
   },
   "source": [
    "## Módulos para el sistema operativo: [`os`](https://docs.python.org/3/library/os.html#module-os) y [`subprocess`](https://docs.python.org/3/library/subprocess.html#module-subprocess)\n",
    "- [`os`](https://docs.python.org/3/library/os.html#module-os): Este módulo es uno de los más potentes de la librería estándar y ofrece un gran número de funciones para trabajar con el **sistema operativo** de forma portable, es decir, podremos realizar las mismas operaciones de la misma forma independientemente de si estamos trabajando en Windows, Linux, Mac, etc. Esto es una gran ventaja, ya que permite que una aplicación python pueda ejecutarse en cualquier sistema operativo soportado sin tener que hacer ningún cambio en el código, de ahí la idoneidad para el uso de python como lenguaje de scripting de sistemas. El módulo `os` contiene una gran cantidad de funciones que abarcan prácticamente la mayoría de funciones relacionadas con el sistema de ficheros, como son la gestión (creación, modificación) de ficheros, de directorios, de *pipes*, de variables del sistema, de procesos, de permisos y propietarios de archivos y de grupos, de usuarios, y un largo etcétera. Veamos en un ejemplo cómo crear un directorio con nombre `prueba`, acceder a este directorio y listar su contenido.\n",
    "\n",
    "```python\n",
    "# Importamos el módulo\n",
    "import os\n",
    "\n",
    "# Mostramos la ruta del directorio actual\n",
    "print(f\"Estamos en el directorio {os.getcwd()}\")\n",
    "# Mostramos el contenido del directorio actual\n",
    "print(os.listdir())\n",
    "\n",
    "# Vamos a crear el directorio \"prueba\"\n",
    "os.mkdir('prueba')\n",
    "# Ahora accedemos a este nuevo directorio\n",
    "os.chdir('prueba')\n",
    "# Mostramos el contenido del directorio (debería estar vacío)\n",
    "print(os.listdir())\n",
    "# Volvemos al directorio padre\n",
    "os.chdir('..')\n",
    "# Eliminamos el directorio prueba\n",
    "os.rmdir('prueba')\n",
    "```\n",
    "\n",
    "<br/>\n",
    "\n",
    "- [`subprocess`](https://docs.python.org/3/library/subprocess.html#module-subprocess): Aunque el módulo `os` nos ofrece funciones para ejecutar comandos a través del sistema operativo (usando `os.system()` u `os.spawn()`), el módulo `subprocess` dispone de herramientas más potentes para la **ejecución de comandos**, por lo que se recomienda su uso. Por ejemplo, para conocer la versión de python ejecutando `python --version`, usamos el siguiente código\n",
    "\n",
    "```python\n",
    "# Importamos el módulo\n",
    "from subprocess import check_output\n",
    "\n",
    "# Usaremos la función check_output, para lo que debemos\n",
    "# definir una lista con el comando y cada argumento\n",
    "out = check_output([\"python\", \"--version\"])\n",
    "print(out)\n",
    "```\n"
   ]
  },
  {
   "cell_type": "code",
   "execution_count": null,
   "metadata": {},
   "outputs": [],
   "source": []
  },
  {
   "cell_type": "markdown",
   "metadata": {
    "slideshow": {
     "slide_type": "slide"
    }
   },
   "source": [
    "## Módulos para ficheros: [`glob`](https://docs.python.org/3/library/glob.html#module-glob), [`shutil`](https://docs.python.org/3/library/shutil.html#module-shutil) y [`tempfile`](https://docs.python.org/3/library/tempfile.html#module-tempfile)\n",
    "\n",
    "- [`glob`](https://docs.python.org/3/library/glob.html#module-glob): A la hora de trabajar con ficheros, el módulo `glob` nos ofrece una función homónima que nos permite encontrar los ficheros que cumplen un patrón usando los caracteres comodines `*` y `?`, tal y como lo haríamos en el sistema operativo. Así, para buscar todos los ficheros de imágenes (con extensión `.jpg`) en el directorio `resources` usaríamos:\n",
    "\n",
    "```python\n",
    "# Importamos el módulo\n",
    "import glob\n",
    "\n",
    "# Vamos buscar todos los ficheros de imagen\n",
    "for file in glob.glob(\"resources/*.jpg\"):\n",
    "    print(file)\n",
    "    \n",
    "# glob acepta un segundo argumento para hacer\n",
    "# búsquedas recursivas, buscando en todos los\n",
    "# subdirectorios, para usarlo debemos especificar\n",
    "# que la búsqueda se hará en cualquier \n",
    "# directorio o subdirectorio (**) y que va a \n",
    "# ser recursiva\n",
    "for file in glob.glob('**/*.jpg', recursive=True):\n",
    "    print(file)\n",
    "```\n",
    "\n",
    "<br />\n",
    "\n",
    "- [`shutil`](https://docs.python.org/3/library/shutil.html#module-shutil): Aunque el módulo `os` provee de algunas funciones para trabajar con fichero, estas son de *bajo nivel* (implican copiar bloques de datos, etc.). Sin embargo, podemos importar el módulo `shutil` para usar funciones de *alto nivel* con las que poder copiar, mover, borrar, etc. ficheros y directorios enteros (con su contenido) directamente a partir de sus nombres. Por ejemplo, para copiar el fichero `requirements.txt` a `req.txt` usamos:\n",
    "\n",
    "```python\n",
    "# Importamos el módulo\n",
    "import shutil\n",
    "\n",
    "# Copiamos el fichero\n",
    "shutil.copy('requirements.txt', 'req.txt')\n",
    "```\n",
    "\n",
    "<br />\n",
    "\n",
    "-  [`tempfile`](https://docs.python.org/3/library/tempfile.html#module-tempfile): En algunas ocasiones, nuestras aplicaciones necesitan almacenar datos en ficheros temporales. No siempre es evidente cómo crear estos ficheros, puesto que si elegimos un nombre de un fichero que ya existe, podríamos perder fichero original. Para evitar esta situación, el módulo `tempfile` nos ofrece una serie de funciones para crear ficheros y directorios temporales asegurándonos que se trata de ficheros únicos. **¡ATENCIÓN!** Los ficheros son **temporales** de verdad, una vez que el fichero o directorio se cierra y no se usa, serán eliminados del sistema automáticamente.\n",
    "\n",
    "```python\n",
    "# Importamos el módulo\n",
    "import tempfile\n",
    "\n",
    "# Creamos el fichero temporal y escribimos algo\n",
    "fp = tempfile.TemporaryFile()\n",
    "fp.write(b'Esto es un fichero temporal')\n",
    "\n",
    "# Nos movemos al principio del fichero y leemos lo escrito\n",
    "fp.seek(0)\n",
    "print(fp.read())\n",
    "\n",
    "# Cerramos el fichero temporal, en este momento SE ELIMINARÁ\n",
    "fp.close()\n",
    "```\n",
    "\n",
    "<br />\n",
    "\n",
    "### 💡 Ejercicios:\n",
    "1. Busca todos los ficheros de imágenes `.png` de forma recursiva\n",
    "\n"
   ]
  },
  {
   "cell_type": "code",
   "execution_count": null,
   "metadata": {},
   "outputs": [],
   "source": []
  },
  {
   "cell_type": "markdown",
   "metadata": {
    "slideshow": {
     "slide_type": "slide"
    }
   },
   "source": [
    "## Módulos para datos: [`re`](https://docs.python.org/3/library/re.html#module-re), [`csv`](https://docs.python.org/3/library/csv.html#module-csv) y [`sqlite3`](https://docs.python.org/3/library/sqlite3.html#module-sqlite3)\n",
    "\n",
    "- [`re`](https://docs.python.org/3/library/re.html#module-re): Cuando estamos desarrollando una aplicación que procesa datos, sobre todo en textos, a veces es necesario realizar búsquedas de patrones, porque no es posible indicar todos los elementos que deseamos buscar. Por ejemplo, supongamos que deseo buscar todas las palabras de un texto que empiecen por 'co' y acaben en 'ción', puede haber muchas palabras que cumplan con esta regla, sería muy complicado listarlas todas. Sin embargo, podemos usar **expresiones regulares**, que nos permiten indicar el patrón que debe cumplir las búsquedas. Las expresiones regulares son una herramienta muy potente con múltiples posibilidades, si aún no has trabajado con ellas, recomendamos que consultes [cómo construir expresiones regulares](https://docs.python.org/3/howto/regex.html#regex-howto). En este apartado, haremos un ejemplo muy simple buscando las palabras de un texto que empiecen por 'co' y acaben en 'ción':\n",
    "\n",
    "```python\n",
    "# Importamos el módulo\n",
    "import re\n",
    "\n",
    "texto = \"\"\"A pesar de que la contratación era más alta, el proceso \n",
    "de comunicación no estaba funcionando con constricción, por lo que \n",
    "se produjo una contracción que afectó a la consumición de los \n",
    "productos de construcción usados en la cocción\"\"\"\n",
    "\n",
    "# Vamos a definir un patrón. Indicamos las palabras que empiezan\n",
    "# por \"co\", luego le siguen cualquier número de letras [a-z]*\n",
    "# y acaban por \"ción\"\n",
    "patron = r\"co[a-z]*ción\"\n",
    "\n",
    "# Ahora buscamos todas los resultados de este patrón\n",
    "resultado = re.findall(patron, texto)\n",
    "print(resultado)\n",
    "```\n",
    "\n",
    "<br />\n",
    "\n",
    "- [`csv`](https://docs.python.org/3/library/csv.html#module-csv): Cuando queremos almacenar o procesar diferentes datos, debemos elegir una forma de identificar dónde empieza y acaba cada dato. Quizá el sistema más simple sea el llamado `CSV` (\"*Valores Separados por Comas*\", o \"*Comma Separated Values*\" en inglés). Como su propio nombre indica, se basa en simplemente separar los valores por comas, de forma que si me llamo \"Juan García Pérez\", tengo 25 años y soy Hombre, mis datos vendrían expresados de la siguiente forma: `Juan,García,Pérez,25,Hombre`, que corresponderían con los siguientes campos: `Nombre,Apellido1,Apellido2,Edad,Sexo`. En la realidad, este formato tan simple se usa en muchísimas ocasiones, sobre todos es muy común en los procesos de importación y exportación de datos. Sin embargo, podrían surgir dudas, por ejemplo, ¿qué pasa si el propio dato incluye el delimitador, en este caso una coma? ¿qué pasa si falta uno de los datos? El módulo `csv` de python resuelve estos y otros problemas, además de ofrecernos muchas herramientas que nos permiten leer o escribir los datos directamente desde los ficheros `.csv`, sin tener que preocuparnos del proceso. Veamos un ejemplo:\n",
    "\n",
    "```python\n",
    "# Importamos el módulo\n",
    "import csv\n",
    "\n",
    "# Vamos a leer un fichero csv que contiene el título y año de \n",
    "# varias series y que está almacenado en resources/my-netflix-favs.csv\n",
    "# Primero abrimos el fichero:\n",
    "with open('resources/my-netflix-favs.csv') as datos_csv:\n",
    "    # Ahora procesamos los datos con el lector de CSV\n",
    "    datos = csv.reader(datos_csv, delimiter=',')\n",
    "    # Ya tenemos todos los datos, ahora mostramos cada uno de ellos\n",
    "    for valores in datos:\n",
    "         print(f\"Título: '{valores[0]}'. Año: {valores[1]}\")\n",
    "```\n",
    "\n",
    "<br />\n",
    "\n",
    "-  [`sqlite3`](https://docs.python.org/3/library/sqlite3.html#module-sqlite3): Muchas aplicaciones necesitan almacenar o consultar información en alguna base de datos. Una solución simple para trabajar con bases de datos es usar [`sqlite`](https://www.sqlite.org/index.html), que nos proporciona una base de datos pequeña, rápida, autocontenida, muy fiable y con muchas funcionalidades. Por ejemplo, estas bases de datos son las que se usan en dispositivos móviles. Python ofrece el módulo `sqlite3` para poder trabajar con este formato, permitiéndonos trabajar directamente con los datos. De este módulo no presentaremos ejemplo, puesto que para trabajar con la base de datos necesitamos conocer el lenguaje SQL, lo que escapa totalmente al ámbito de este curso, pero pueden consultarse los ejemplos incluidos en la propia documentación del módulo.\n",
    "\n",
    "<br />\n",
    "\n",
    "### 💡 Ejercicios:\n",
    "1. En el texto del ejemplo del módulo `re`, busca todas las palabras que empiecen por \"e\" y acaben por \"a\"\n",
    "2. En el texto del ejemplo del módulo `re`, busca todas las palabras que contengan \"ci\"\n",
    "3. A partir del fichero CSV que está en `resources/netflix_shows`, muestra el título y el año de lanzamiento\n",
    "\n",
    "\n"
   ]
  },
  {
   "cell_type": "code",
   "execution_count": null,
   "metadata": {
    "slideshow": {
     "slide_type": "-"
    }
   },
   "outputs": [],
   "source": []
  },
  {
   "cell_type": "markdown",
   "metadata": {
    "slideshow": {
     "slide_type": "slide"
    }
   },
   "source": [
    "## Módulos para python: [`pprint`](https://docs.python.org/3/library/pprint.html#module-pprint), [`collections`](https://docs.python.org/3/library/collections.html#module-collections), [`timeit`](https://docs.python.org/3/library/timeit.html#module-timeit) y [`pdb`](https://docs.python.org/3/library/pdb.html#module-pdb)\n",
    "\n",
    "- [`pprint`](https://docs.python.org/3/library/pprint.html#module-pprint): Cuando usamos la función `print()` para mostrar el contenido de algunas estructuras, el resultado no es el que esperamos. Por ejemplo, si la lista tiene cierto número de elementos, no se muestran todos, sino que python presenta un *resumen* mostrando sólo alguno de los datos. O quizá cuando mostremos un diccionario queremos cambiar el formato y que se muestre una línea por cada par clave-valor, o puede pasar que queramos usar la salida de un `print()` como entrada para otro comando... En todas estas situaciones la función `print()` no es capaz de ofrecernos la funcionalidad que deseamos, entonces necesitamos usar el módulo `pprint`. Este módulo nos va a permitir una mayor flexibilidad y control en el formato de la salida, para adaptarlo a nuestras necesidades. Por ejemplo, vamos a utilizar este módulo para mostrar un diccionario en varias líneas:\n",
    "\n",
    "```python\n",
    "# Importamos el módulo\n",
    "import pprint\n",
    "\n",
    "# definimos el diccionario\n",
    "mi_dict = {'luis': 25, 'maria': 29, 'juan': 34, 'ana': 27}\n",
    "# Lo mostramos como es habitual (todo en una línea)\n",
    "print(mi_dict)\n",
    "# Ahora con pprint indicamos que el ancho de  la línea\n",
    "# es pequeño (por ejemplo width=1), lo que nos mostrará\n",
    "# cada par clave-valor en una línea diferente\n",
    "pprint.pprint(mi_dict, width=1)\n",
    "\n",
    "```\n",
    "\n",
    "<br />\n",
    "\n",
    "- [`collections`](https://docs.python.org/3/library/collections.html#module-collections): En el apartado de [estructuras de datos](data_structures.ipynb) estudiamos las estructuras que vienen incluidas en python, como diccionarios, listas, conjuntos, etc. Normalmente estas estructuras deberían ser suficientes para resolver la gran mayoría de situaciones a las que nos vamos a enfrentar, pero no siempre es así. Por este motivo, el módulo `collections` ofrece una serie de estructuras más especializadas y con más funcionalidades de las que python incluye por defecto. Un uso tradicional de este módulo ha sido el de *diccionarios ordenados*, que pudieran recorrerse según el orden de inserción de las claves. Aunque esta funcionalidad ha quedado un poco en entredicho porque desde la versión 3.7 ya los diccionarios conservan el orden, los diccionarios ordenados de `collections` aún conservan otras opciones que no contemplan los diccionarios incluidos por defecto, por ejemplo la posibilidad de mover una clave al final del diccionario, o bien recorrerlos en orden inverso (se incluirá en los diccionarios en la versión 3.8). Otro elemento muy útil de este módulo es el `namedtuple`, que nos permite asignar nombres a cada posición de la tupla, que luego podemos utilizar para acceder a ellos. Veamos unos ejemplos de cada uno de ellos:  \n",
    "\n",
    "```python\n",
    "# Importamos el módulo\n",
    "from collections import OrderedDict, namedtuple\n",
    "\n",
    "# Utilizando OrderedDict\n",
    "d = OrderedDict({'a': 25, 'b': 36, 'c': 27, 'd': 19})\n",
    "d.move_to_end('b')\n",
    "print(d.keys())\n",
    "\n",
    "# Utilziando namedtuple\n",
    "Punto = namedtuple('Punto', ['x', 'y'])\n",
    "p1 = Punto(5, y=4)     # podemos inicializarlo con argumentos posicionales o por palabra clave\n",
    "p2 = Punto(p1.x*2, p1.y*5)\n",
    "print(f\"El segundo punto tiene coordenadas x:{p2.x}, y:{p2.y}\")\n",
    "\n",
    "```\n",
    "\n",
    "<br />\n",
    "\n",
    "- [`timeit`](https://docs.python.org/3/library/timeit.html#module-timeit): Aunque en este curso no nos hemos preocupado especialmente por el rendimiento, seguramente cuando estemos desarrollando nuestras aplicaciones habrá alguna situación en la que nos preguntemos si estamos implementando bien alguna zona del código, o si hay dos alternativas cuál es la más eficiente. En estos casos podemos probar el módulo `timeit` que obtiene el tiempo que tarda en ejecutarse la región del código indicada, así podremos saber cuál de las dos alternativas es la mejor. Vamos a ver un ejemplo:\n",
    "\n",
    "```python\n",
    "# Importamos el módulo\n",
    "\n",
    "import math\n",
    "import timeit\n",
    "\n",
    "timeit.timeit('a=63453.4352; b=a*a*a*a*a')\n",
    "timeit.timeit('a=63453.4352; b=math.pow(a,5)\n",
    "\n",
    "```\n",
    "\n",
    "<br />\n",
    "\n",
    "- [`pdb`](https://docs.python.org/3/library/pdb.html#module-pdb): Durante la fase de desarrollo va a ser inevitable que el código falle y sea neceario *depurarlo* para encontrar el error y corregirlo. Para estos casos, el módulo `pdb` puede ser de mucha ayuda, aunque también hay otros módulos de **[depuración y profiling](https://docs.python.org/3/library/debug.html)** que pueden ser de interés mientras se desarrollan códigos (el *profiling* nos permite conocer cuánto tiempo tarda nuestro código en ejecutarse en cada región o función, lo cual es útil para detectar cuellos de botella o errores que afectan al rendimiento, y cuya solución permiten optimizar la aplicación).\n",
    "\n",
    "\n",
    "<br />\n",
    "\n",
    "### 💡 Ejercicios:\n",
    "1. Genera una lista de 20 valores aleatorios y múestrala con `print()` y `pprint()`, ¿puedes ver la diferencia?  \n",
    "2. Usar `namedtuple` para almacenar información de Netflix como título, año y número de temporadas  \n",
    "\n"
   ]
  },
  {
   "cell_type": "code",
   "execution_count": null,
   "metadata": {},
   "outputs": [],
   "source": []
  }
 ],
 "metadata": {
  "celltoolbar": "Slideshow",
  "kernelspec": {
   "display_name": "Python 3",
   "language": "python",
   "name": "python3"
  },
  "language_info": {
   "codemirror_mode": {
    "name": "ipython",
    "version": 3
   },
   "file_extension": ".py",
   "mimetype": "text/x-python",
   "name": "python",
   "nbconvert_exporter": "python",
   "pygments_lexer": "ipython3",
   "version": "3.7.3"
  }
 },
 "nbformat": 4,
 "nbformat_minor": 2
}
